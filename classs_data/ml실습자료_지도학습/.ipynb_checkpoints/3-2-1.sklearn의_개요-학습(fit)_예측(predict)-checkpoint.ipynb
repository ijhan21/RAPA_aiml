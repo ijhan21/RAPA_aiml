{
 "cells": [
  {
   "cell_type": "code",
   "execution_count": 1,
   "id": "78a9eb86",
   "metadata": {},
   "outputs": [],
   "source": [
    "import numpy as np\n",
    "import seaborn as sns\n",
    "from sklearn.linear_model import LinearRegression"
   ]
  },
  {
   "cell_type": "markdown",
   "id": "ba15bc40",
   "metadata": {},
   "source": [
    "# 학습 데이터 준비"
   ]
  },
  {
   "cell_type": "code",
   "execution_count": 2,
   "id": "ea3910d1",
   "metadata": {},
   "outputs": [],
   "source": [
    "# reshape 코드입력\n",
    "# X = np.arange(1,30,10).reshape(-1,1)\n",
    "X = np.random.randint(1,30,10).reshape(-1,1)\n",
    "# y = (2*X+1)\n",
    "y = (X*3+1)"
   ]
  },
  {
   "cell_type": "code",
   "execution_count": 3,
   "id": "b632518d",
   "metadata": {},
   "outputs": [
    {
     "data": {
      "text/plain": [
       "array([[28],\n",
       "       [24],\n",
       "       [ 1],\n",
       "       [19],\n",
       "       [12],\n",
       "       [23],\n",
       "       [12],\n",
       "       [15],\n",
       "       [13],\n",
       "       [20]])"
      ]
     },
     "execution_count": 3,
     "metadata": {},
     "output_type": "execute_result"
    }
   ],
   "source": [
    "X"
   ]
  },
  {
   "cell_type": "code",
   "execution_count": 4,
   "id": "f61606d1",
   "metadata": {},
   "outputs": [
    {
     "data": {
      "text/plain": [
       "array([[85],\n",
       "       [73],\n",
       "       [ 4],\n",
       "       [58],\n",
       "       [37],\n",
       "       [70],\n",
       "       [37],\n",
       "       [46],\n",
       "       [40],\n",
       "       [61]])"
      ]
     },
     "execution_count": 4,
     "metadata": {},
     "output_type": "execute_result"
    }
   ],
   "source": [
    "y"
   ]
  },
  {
   "cell_type": "code",
   "execution_count": 10,
   "id": "2781578e",
   "metadata": {},
   "outputs": [
    {
     "data": {
      "text/plain": [
       "<AxesSubplot:>"
      ]
     },
     "execution_count": 10,
     "metadata": {},
     "output_type": "execute_result"
    },
    {
     "data": {
      "image/png": "[encoded data removed]",
      "text/plain": [
       "<Figure size 432x288 with 1 Axes>"
      ]
     },
     "metadata": {
      "needs_background": "light"
     },
     "output_type": "display_data"
    }
   ],
   "source": [
    "sns.regplot(x=X, y=y)"
   ]
  },
  {
   "cell_type": "markdown",
   "id": "e6df8ad2",
   "metadata": {},
   "source": [
    "# 모델의 선언 및 fit(학습)"
   ]
  },
  {
   "cell_type": "code",
   "execution_count": 6,
   "id": "717f84a5",
   "metadata": {},
   "outputs": [
    {
     "data": {
      "text/plain": [
       "LinearRegression()"
      ]
     },
     "execution_count": 6,
     "metadata": {},
     "output_type": "execute_result"
    }
   ],
   "source": [
    "# 모델 선언(모델 객체 생성)\n",
    "model_lr = LinearRegression()\n",
    "# 모델 확인\n",
    "model_lr"
   ]
  },
  {
   "cell_type": "code",
   "execution_count": 7,
   "id": "9dac2580",
   "metadata": {},
   "outputs": [
    {
     "data": {
      "text/plain": [
       "LinearRegression()"
      ]
     },
     "execution_count": 7,
     "metadata": {},
     "output_type": "execute_result"
    }
   ],
   "source": [
    "model_lr.fit(X,y)"
   ]
  },
  {
   "cell_type": "code",
   "execution_count": 8,
   "id": "c652bbeb",
   "metadata": {},
   "outputs": [
    {
     "data": {
      "text/plain": [
       "array([[151.],\n",
       "       [202.]])"
      ]
     },
     "execution_count": 8,
     "metadata": {},
     "output_type": "execute_result"
    }
   ],
   "source": [
    "prediction = model_lr.predict([[50],[67]])\n",
    "prediction"
   ]
  },
  {
   "cell_type": "markdown",
   "id": "e2b4bf07",
   "metadata": {},
   "source": [
    "# EDA 수행 및 머신러닝 학습모델 만들기 기본 익히기\n",
    "- 타이타닉 생존자 데이터 feature들간의 특성 파악하기\n",
    "- 타이타닉 생존자 예측 학습모델 만들기\n",
    "- 데이터 셋: 타이타닉 데이터셋 (출처: Kaggle.com)"
   ]
  },
  {
   "cell_type": "code",
   "execution_count": null,
   "id": "28feff4b",
   "metadata": {},
   "outputs": [],
   "source": []
  }
 ],
 "metadata": {
  "kernelspec": {
   "display_name": "MLvenv",
   "language": "python",
   "name": "mlvenv"
  },
  "language_info": {
   "codemirror_mode": {
    "name": "ipython",
    "version": 3
   },
   "file_extension": ".py",
   "mimetype": "text/x-python",
   "name": "python",
   "nbconvert_exporter": "python",
   "pygments_lexer": "ipython3",
   "version": "3.8.0"
  }
 },
 "nbformat": 4,
 "nbformat_minor": 5
}
