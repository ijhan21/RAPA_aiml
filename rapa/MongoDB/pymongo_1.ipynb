{
 "cells": [
  {
   "cell_type": "code",
   "execution_count": 1,
   "metadata": {},
   "outputs": [],
   "source": [
    "import pymongo"
   ]
  },
  {
   "cell_type": "code",
   "execution_count": 2,
   "metadata": {},
   "outputs": [],
   "source": [
    "conn = pymongo.MongoClient('mongodb://127.0.0.1', username='hans',password='1234')"
   ]
  },
  {
   "cell_type": "code",
   "execution_count": 3,
   "metadata": {},
   "outputs": [],
   "source": [
    "knowledge = conn.knowledge"
   ]
  },
  {
   "cell_type": "code",
   "execution_count": 4,
   "metadata": {},
   "outputs": [],
   "source": [
    "mydb_test = conn[\"test\"]"
   ]
  },
  {
   "cell_type": "code",
   "execution_count": 5,
   "metadata": {},
   "outputs": [
    {
     "data": {
      "text/plain": [
       "Database(MongoClient(host=['127.0.0.1:27017'], document_class=dict, tz_aware=False, connect=True), 'test')"
      ]
     },
     "execution_count": 5,
     "metadata": {},
     "output_type": "execute_result"
    }
   ],
   "source": [
    "mydb_test"
   ]
  },
  {
   "cell_type": "code",
   "execution_count": 6,
   "metadata": {},
   "outputs": [],
   "source": [
    "knowledge_it = knowledge.it"
   ]
  },
  {
   "cell_type": "code",
   "execution_count": 7,
   "metadata": {},
   "outputs": [],
   "source": [
    "knowledge_it = knowledge[\"it\"]"
   ]
  },
  {
   "cell_type": "code",
   "execution_count": 9,
   "metadata": {},
   "outputs": [],
   "source": [
    "post = {\"author\": \"Mike\", \"text\": \"My first blog post!\", \"tags\": [\"mongodb\", \"python\", \"pymongo\"] }"
   ]
  },
  {
   "cell_type": "code",
   "execution_count": 10,
   "metadata": {},
   "outputs": [
    {
     "data": {
      "text/plain": [
       "<pymongo.results.InsertOneResult at 0x7f039833d640>"
      ]
     },
     "execution_count": 10,
     "metadata": {},
     "output_type": "execute_result"
    }
   ],
   "source": [
    "knowledge_it.insert_one({ \"author\":\"joy Lee\", \"age\":45 })"
   ]
  },
  {
   "cell_type": "code",
   "execution_count": 11,
   "metadata": {},
   "outputs": [
    {
     "data": {
      "text/plain": [
       "<pymongo.results.InsertManyResult at 0x7f03a826fa40>"
      ]
     },
     "execution_count": 11,
     "metadata": {},
     "output_type": "execute_result"
    }
   ],
   "source": [
    "knowledge_it.insert_many(\n",
    "[\n",
    "{ \"author\":\"joy Ahn\", \"age\":25 },\n",
    "{ \"author\":\"joy\", \"age\":35 }\n",
    "]\n",
    ")"
   ]
  },
  {
   "cell_type": "code",
   "execution_count": 12,
   "metadata": {},
   "outputs": [],
   "source": [
    "post = {\"author\": \"Joy\", \"text\": \"My first blog post!\"}"
   ]
  },
  {
   "cell_type": "code",
   "execution_count": 13,
   "metadata": {},
   "outputs": [],
   "source": [
    "post_id = knowledge_it.insert_one(post)"
   ]
  },
  {
   "cell_type": "code",
   "execution_count": 14,
   "metadata": {},
   "outputs": [
    {
     "data": {
      "text/plain": [
       "<pymongo.results.InsertOneResult at 0x7f039834da00>"
      ]
     },
     "execution_count": 14,
     "metadata": {},
     "output_type": "execute_result"
    }
   ],
   "source": [
    "post_id"
   ]
  },
  {
   "cell_type": "code",
   "execution_count": 15,
   "metadata": {},
   "outputs": [
    {
     "data": {
      "text/plain": [
       "ObjectId('618240a1a9d7b25ee21c4fba')"
      ]
     },
     "execution_count": 15,
     "metadata": {},
     "output_type": "execute_result"
    }
   ],
   "source": [
    "post_id.inserted_id"
   ]
  },
  {
   "cell_type": "code",
   "execution_count": 16,
   "metadata": {},
   "outputs": [
    {
     "data": {
      "text/plain": [
       "17"
      ]
     },
     "execution_count": 16,
     "metadata": {},
     "output_type": "execute_result"
    }
   ],
   "source": [
    "knowledge_it.count_documents({})"
   ]
  },
  {
   "cell_type": "code",
   "execution_count": 17,
   "metadata": {},
   "outputs": [
    {
     "data": {
      "text/plain": [
       "<pymongo.results.InsertOneResult at 0x7f03982eb880>"
      ]
     },
     "execution_count": 17,
     "metadata": {},
     "output_type": "execute_result"
    }
   ],
   "source": [
    "# 리스트, 객체 삽입 가능\n",
    "knowledge_it.insert_one({'title' : '암살', 'castings' : ['이정재', '전지현', '하정우']})\n",
    "knowledge_it.insert_one(\n",
    "{\n",
    "'title' : '실미도',\n",
    "'castings' : ['설경구', '안성기'],\n",
    "'datetime' :\n",
    "{\n",
    "'year' : '2003',\n",
    "'month' : 3,\n",
    "'val' :\n",
    "{\n",
    "'a' :\n",
    "{\n",
    "'b' : 1\n",
    "}\n",
    "}\n",
    "}\n",
    "}\n",
    ")"
   ]
  },
  {
   "cell_type": "code",
   "execution_count": 18,
   "metadata": {},
   "outputs": [
    {
     "data": {
      "text/plain": [
       "<pymongo.results.InsertManyResult at 0x7f03982e5200>"
      ]
     },
     "execution_count": 18,
     "metadata": {},
     "output_type": "execute_result"
    }
   ],
   "source": [
    "data = list()\n",
    "data.append({'name' : 'aaron', 'age':20})\n",
    "data.append({'name' : 'bob', 'age' :30})\n",
    "data.append({'name' : 'cathy', 'age':25})\n",
    "data.append({'name' : 'david', 'age':27})\n",
    "data.append({'name' : 'erick', 'age':28})\n",
    "data.append({'name' : 'fox', 'age' :32})\n",
    "data.append({'name' : 'hmm'})\n",
    "knowledge_it.insert_many(data)"
   ]
  },
  {
   "cell_type": "code",
   "execution_count": 19,
   "metadata": {},
   "outputs": [
    {
     "data": {
      "text/plain": [
       "26"
      ]
     },
     "execution_count": 19,
     "metadata": {},
     "output_type": "execute_result"
    }
   ],
   "source": [
    "knowledge_it.estimated_document_count()"
   ]
  },
  {
   "cell_type": "code",
   "execution_count": 20,
   "metadata": {},
   "outputs": [
    {
     "data": {
      "text/plain": [
       "{'_id': ObjectId('6182273cea62f9747c706bf9'), 'author': 'joy Lee', 'age': 45}"
      ]
     },
     "execution_count": 20,
     "metadata": {},
     "output_type": "execute_result"
    }
   ],
   "source": [
    "knowledge_it.find_one()"
   ]
  },
  {
   "cell_type": "code",
   "execution_count": 21,
   "metadata": {},
   "outputs": [
    {
     "data": {
      "text/plain": [
       "{'_id': ObjectId('618233e2ea62f9747c706bfc'),\n",
       " 'author': 'Joy',\n",
       " 'text': 'Hi Joy'}"
      ]
     },
     "execution_count": 21,
     "metadata": {},
     "output_type": "execute_result"
    }
   ],
   "source": [
    "joy = knowledge_it.find_one( {\"author\":\"Joy\"} )\n",
    "joy"
   ]
  },
  {
   "cell_type": "code",
   "execution_count": 22,
   "metadata": {},
   "outputs": [],
   "source": [
    "docs = knowledge_it.find()"
   ]
  },
  {
   "cell_type": "code",
   "execution_count": 23,
   "metadata": {},
   "outputs": [
    {
     "name": "stdout",
     "output_type": "stream",
     "text": [
      "{'_id': ObjectId('6182273cea62f9747c706bf9'), 'author': 'joy Lee', 'age': 45}\n",
      "{'_id': ObjectId('618233ceea62f9747c706bfa'), 'author': 'joy Ahn', 'age': 25}\n",
      "{'_id': ObjectId('618233ceea62f9747c706bfb'), 'author': 'joy', 'age': 35}\n",
      "{'_id': ObjectId('618233e2ea62f9747c706bfc'), 'author': 'Joy', 'text': 'Hi Joy'}\n",
      "{'_id': ObjectId('6182340bea62f9747c706bfd'), 'title': '암살', 'castings': ['이정재', '전지현', '하정우']}\n",
      "{'_id': ObjectId('6182340bea62f9747c706bfe'), 'title': '실미도', 'castings': ['설경구', '안성기'], 'datetime': {'year': '2003', 'month': 3, 'val': {'a': {'b': 1}}}}\n",
      "{'_id': ObjectId('6182344dea62f9747c706bff'), 'name': 'aaron', 'age': 20}\n",
      "{'_id': ObjectId('6182344dea62f9747c706c00'), 'name': 'bob', 'age': 30}\n",
      "{'_id': ObjectId('6182344dea62f9747c706c01'), 'name': 'cathy', 'age': 25}\n",
      "{'_id': ObjectId('6182344dea62f9747c706c02'), 'name': 'david', 'age': 27}\n",
      "{'_id': ObjectId('6182344dea62f9747c706c03'), 'name': 'erick', 'age': 28}\n",
      "{'_id': ObjectId('6182344dea62f9747c706c04'), 'name': 'fox', 'age': 32}\n",
      "{'_id': ObjectId('6182344dea62f9747c706c05'), 'name': 'hmm'}\n",
      "{'_id': ObjectId('618240a1a9d7b25ee21c4fb7'), 'author': 'joy Lee', 'age': 45}\n",
      "{'_id': ObjectId('618240a1a9d7b25ee21c4fb8'), 'author': 'joy Ahn', 'age': 25}\n",
      "{'_id': ObjectId('618240a1a9d7b25ee21c4fb9'), 'author': 'joy', 'age': 35}\n",
      "{'_id': ObjectId('618240a1a9d7b25ee21c4fba'), 'author': 'Joy', 'text': 'My first blog post!'}\n",
      "{'_id': ObjectId('618240a1a9d7b25ee21c4fbb'), 'title': '암살', 'castings': ['이정재', '전지현', '하정우']}\n",
      "{'_id': ObjectId('618240a1a9d7b25ee21c4fbc'), 'title': '실미도', 'castings': ['설경구', '안성기'], 'datetime': {'year': '2003', 'month': 3, 'val': {'a': {'b': 1}}}}\n",
      "{'_id': ObjectId('618240a1a9d7b25ee21c4fbd'), 'name': 'aaron', 'age': 20}\n",
      "{'_id': ObjectId('618240a1a9d7b25ee21c4fbe'), 'name': 'bob', 'age': 30}\n",
      "{'_id': ObjectId('618240a1a9d7b25ee21c4fbf'), 'name': 'cathy', 'age': 25}\n",
      "{'_id': ObjectId('618240a1a9d7b25ee21c4fc0'), 'name': 'david', 'age': 27}\n",
      "{'_id': ObjectId('618240a1a9d7b25ee21c4fc1'), 'name': 'erick', 'age': 28}\n",
      "{'_id': ObjectId('618240a1a9d7b25ee21c4fc2'), 'name': 'fox', 'age': 32}\n",
      "{'_id': ObjectId('618240a1a9d7b25ee21c4fc3'), 'name': 'hmm'}\n"
     ]
    }
   ],
   "source": [
    "for doc in docs:\n",
    "    print(doc)"
   ]
  },
  {
   "cell_type": "code",
   "execution_count": 24,
   "metadata": {},
   "outputs": [],
   "source": [
    "docs = knowledge_it.find( {\"author\":\"Joy\"} )"
   ]
  },
  {
   "cell_type": "code",
   "execution_count": 25,
   "metadata": {},
   "outputs": [
    {
     "name": "stdout",
     "output_type": "stream",
     "text": [
      "{'_id': ObjectId('618233e2ea62f9747c706bfc'), 'author': 'Joy', 'text': 'Hi Joy'}\n",
      "{'_id': ObjectId('618240a1a9d7b25ee21c4fba'), 'author': 'Joy', 'text': 'My first blog post!'}\n"
     ]
    }
   ],
   "source": [
    "for doc in docs:\n",
    "    print(doc)"
   ]
  },
  {
   "cell_type": "code",
   "execution_count": 26,
   "metadata": {},
   "outputs": [
    {
     "data": {
      "text/plain": [
       "2"
      ]
     },
     "execution_count": 26,
     "metadata": {},
     "output_type": "execute_result"
    }
   ],
   "source": [
    "knowledge_it.count_documents({\"author\": \"Joy\"})"
   ]
  },
  {
   "cell_type": "code",
   "execution_count": 27,
   "metadata": {},
   "outputs": [
    {
     "name": "stdout",
     "output_type": "stream",
     "text": [
      "{'_id': ObjectId('618233e2ea62f9747c706bfc'), 'author': 'Joy', 'text': 'Hi Joy'}\n",
      "{'_id': ObjectId('6182340bea62f9747c706bfd'), 'title': '암살', 'castings': ['이정재', '전지현', '하정우']}\n",
      "{'_id': ObjectId('6182340bea62f9747c706bfe'), 'title': '실미도', 'castings': ['설경구', '안성기'], 'datetime': {'year': '2003', 'month': 3, 'val': {'a': {'b': 1}}}}\n",
      "{'_id': ObjectId('6182344dea62f9747c706c05'), 'name': 'hmm'}\n",
      "{'_id': ObjectId('618240a1a9d7b25ee21c4fba'), 'author': 'Joy', 'text': 'My first blog post!'}\n",
      "{'_id': ObjectId('618240a1a9d7b25ee21c4fbb'), 'title': '암살', 'castings': ['이정재', '전지현', '하정우']}\n",
      "{'_id': ObjectId('618240a1a9d7b25ee21c4fbc'), 'title': '실미도', 'castings': ['설경구', '안성기'], 'datetime': {'year': '2003', 'month': 3, 'val': {'a': {'b': 1}}}}\n",
      "{'_id': ObjectId('618240a1a9d7b25ee21c4fc3'), 'name': 'hmm'}\n",
      "{'_id': ObjectId('6182344dea62f9747c706bff'), 'name': 'aaron', 'age': 20}\n",
      "{'_id': ObjectId('618240a1a9d7b25ee21c4fbd'), 'name': 'aaron', 'age': 20}\n",
      "{'_id': ObjectId('618233ceea62f9747c706bfa'), 'author': 'joy Ahn', 'age': 25}\n",
      "{'_id': ObjectId('6182344dea62f9747c706c01'), 'name': 'cathy', 'age': 25}\n",
      "{'_id': ObjectId('618240a1a9d7b25ee21c4fb8'), 'author': 'joy Ahn', 'age': 25}\n",
      "{'_id': ObjectId('618240a1a9d7b25ee21c4fbf'), 'name': 'cathy', 'age': 25}\n",
      "{'_id': ObjectId('6182344dea62f9747c706c02'), 'name': 'david', 'age': 27}\n",
      "{'_id': ObjectId('618240a1a9d7b25ee21c4fc0'), 'name': 'david', 'age': 27}\n",
      "{'_id': ObjectId('6182344dea62f9747c706c03'), 'name': 'erick', 'age': 28}\n",
      "{'_id': ObjectId('618240a1a9d7b25ee21c4fc1'), 'name': 'erick', 'age': 28}\n",
      "{'_id': ObjectId('6182344dea62f9747c706c00'), 'name': 'bob', 'age': 30}\n",
      "{'_id': ObjectId('618240a1a9d7b25ee21c4fbe'), 'name': 'bob', 'age': 30}\n",
      "{'_id': ObjectId('6182344dea62f9747c706c04'), 'name': 'fox', 'age': 32}\n",
      "{'_id': ObjectId('618240a1a9d7b25ee21c4fc2'), 'name': 'fox', 'age': 32}\n",
      "{'_id': ObjectId('618233ceea62f9747c706bfb'), 'author': 'joy', 'age': 35}\n",
      "{'_id': ObjectId('618240a1a9d7b25ee21c4fb9'), 'author': 'joy', 'age': 35}\n",
      "{'_id': ObjectId('6182273cea62f9747c706bf9'), 'author': 'joy Lee', 'age': 45}\n",
      "{'_id': ObjectId('618240a1a9d7b25ee21c4fb7'), 'author': 'joy Lee', 'age': 45}\n"
     ]
    }
   ],
   "source": [
    "for post in knowledge_it.find().sort(\"age\"):\n",
    "    print(post)"
   ]
  },
  {
   "cell_type": "code",
   "execution_count": 28,
   "metadata": {},
   "outputs": [
    {
     "data": {
      "text/plain": [
       "{'_id': ObjectId('618233e2ea62f9747c706bfc'),\n",
       " 'author': 'Joy',\n",
       " 'text': 'Hi Joy'}"
      ]
     },
     "execution_count": 28,
     "metadata": {},
     "output_type": "execute_result"
    }
   ],
   "source": [
    "knowledge_it.find_one( {\"author\":\"Joy\"} )"
   ]
  },
  {
   "cell_type": "code",
   "execution_count": 29,
   "metadata": {},
   "outputs": [
    {
     "data": {
      "text/plain": [
       "<pymongo.results.UpdateResult at 0x7f039834d300>"
      ]
     },
     "execution_count": 29,
     "metadata": {},
     "output_type": "execute_result"
    }
   ],
   "source": [
    "knowledge_it.update_one( { \"author\" : \"Joy\" },\n",
    "{ \"$set\" :\n",
    "{ \"text\" : \"Hi Joy\" }\n",
    "}\n",
    ")"
   ]
  },
  {
   "cell_type": "code",
   "execution_count": 39,
   "metadata": {},
   "outputs": [],
   "source": [
    "docs = knowledge_it.find( {\"author\":\"Joy\"} )"
   ]
  },
  {
   "cell_type": "code",
   "execution_count": 40,
   "metadata": {},
   "outputs": [
    {
     "name": "stdout",
     "output_type": "stream",
     "text": [
      "{'_id': ObjectId('618233e2ea62f9747c706bfc'), 'author': 'Joy', 'text': 'Hi Joy', 'age': 30}\n",
      "{'_id': ObjectId('618240a1a9d7b25ee21c4fba'), 'author': 'Joy', 'text': 'My first blog post!', 'age': 30}\n"
     ]
    }
   ],
   "source": [
    "for doc in docs:\n",
    "    print(doc)"
   ]
  },
  {
   "cell_type": "code",
   "execution_count": 38,
   "metadata": {},
   "outputs": [
    {
     "data": {
      "text/plain": [
       "<pymongo.results.UpdateResult at 0x7f03982e5940>"
      ]
     },
     "execution_count": 38,
     "metadata": {},
     "output_type": "execute_result"
    }
   ],
   "source": [
    "knowledge_it.update_many( {\"author\": \"Joy\"}, {\"$set\": { \"age\": 30}})"
   ]
  },
  {
   "cell_type": "code",
   "execution_count": 41,
   "metadata": {},
   "outputs": [],
   "source": [
    "docs = knowledge_it.find( {\"author\":\"Joy\"} )"
   ]
  },
  {
   "cell_type": "code",
   "execution_count": 42,
   "metadata": {},
   "outputs": [
    {
     "name": "stdout",
     "output_type": "stream",
     "text": [
      "{'_id': ObjectId('618233e2ea62f9747c706bfc'), 'author': 'Joy', 'text': 'Hi Joy', 'age': 30}\n",
      "{'_id': ObjectId('618240a1a9d7b25ee21c4fba'), 'author': 'Joy', 'text': 'My first blog post!', 'age': 30}\n"
     ]
    }
   ],
   "source": [
    "for doc in docs:\n",
    "    print(doc)"
   ]
  },
  {
   "cell_type": "code",
   "execution_count": 46,
   "metadata": {},
   "outputs": [
    {
     "data": {
      "text/plain": [
       "<pymongo.results.DeleteResult at 0x7f039833d680>"
      ]
     },
     "execution_count": 46,
     "metadata": {},
     "output_type": "execute_result"
    }
   ],
   "source": [
    "knowledge_it.delete_one( {\"author\":\"Joy\"} )"
   ]
  },
  {
   "cell_type": "code",
   "execution_count": 47,
   "metadata": {},
   "outputs": [],
   "source": [
    "docs = knowledge_it.find( {\"author\":\"Joy\"} )"
   ]
  },
  {
   "cell_type": "code",
   "execution_count": 48,
   "metadata": {},
   "outputs": [
    {
     "name": "stdout",
     "output_type": "stream",
     "text": [
      "{'_id': ObjectId('618240a1a9d7b25ee21c4fba'), 'author': 'Joy', 'text': 'My first blog post!', 'age': 30}\n"
     ]
    }
   ],
   "source": [
    "for doc in docs:\n",
    "    print(doc)"
   ]
  },
  {
   "cell_type": "code",
   "execution_count": 49,
   "metadata": {},
   "outputs": [
    {
     "data": {
      "text/plain": [
       "<pymongo.results.DeleteResult at 0x7f03982f9b00>"
      ]
     },
     "execution_count": 49,
     "metadata": {},
     "output_type": "execute_result"
    }
   ],
   "source": [
    "knowledge_it.delete_many( {\"author\":\"Joy\"} )"
   ]
  },
  {
   "cell_type": "code",
   "execution_count": 50,
   "metadata": {},
   "outputs": [
    {
     "data": {
      "text/plain": [
       "0"
      ]
     },
     "execution_count": 50,
     "metadata": {},
     "output_type": "execute_result"
    }
   ],
   "source": [
    "knowledge_it.count_documents( {\"author\":\"Joy\"} )"
   ]
  },
  {
   "cell_type": "code",
   "execution_count": 51,
   "metadata": {},
   "outputs": [],
   "source": [
    "import pymongo\n",
    "conn = pymongo.MongoClient('mongodb://127.0.0.1', username='hans',password='1234')\n",
    "books = conn.books\n",
    "it_book = books.it_book\n",
    "data = list()\n",
    "for index in range(100):\n",
    "    data.append({\"author\":\"Joy Lee\", \"publisher\":\"fun-coding.org\", \"number\": index })"
   ]
  },
  {
   "cell_type": "code",
   "execution_count": 52,
   "metadata": {},
   "outputs": [
    {
     "data": {
      "text/plain": [
       "<pymongo.results.InsertManyResult at 0x7f03aaba9f80>"
      ]
     },
     "execution_count": 52,
     "metadata": {},
     "output_type": "execute_result"
    }
   ],
   "source": [
    "# CRUD - Create(Insert)\n",
    "it_book.insert_many(data)"
   ]
  },
  {
   "cell_type": "code",
   "execution_count": 53,
   "metadata": {},
   "outputs": [
    {
     "name": "stdout",
     "output_type": "stream",
     "text": [
      "{'_id': ObjectId('61824203a9d7b25ee21c4fc5'), 'author': 'Joy Lee', 'publisher': 'fun-coding.org', 'number': 0}\n",
      "{'_id': ObjectId('61824203a9d7b25ee21c4fc6'), 'author': 'Joy Lee', 'publisher': 'fun-coding.org', 'number': 1}\n",
      "{'_id': ObjectId('61824203a9d7b25ee21c4fc7'), 'author': 'Joy Lee', 'publisher': 'fun-coding.org', 'number': 2}\n",
      "{'_id': ObjectId('61824203a9d7b25ee21c4fc8'), 'author': 'Joy Lee', 'publisher': 'fun-coding.org', 'number': 3}\n",
      "{'_id': ObjectId('61824203a9d7b25ee21c4fc9'), 'author': 'Joy Lee', 'publisher': 'fun-coding.org', 'number': 4}\n",
      "{'_id': ObjectId('61824203a9d7b25ee21c4fca'), 'author': 'Joy Lee', 'publisher': 'fun-coding.org', 'number': 5}\n",
      "{'_id': ObjectId('61824203a9d7b25ee21c4fcb'), 'author': 'Joy Lee', 'publisher': 'fun-coding.org', 'number': 6}\n",
      "{'_id': ObjectId('61824203a9d7b25ee21c4fcc'), 'author': 'Joy Lee', 'publisher': 'fun-coding.org', 'number': 7}\n",
      "{'_id': ObjectId('61824203a9d7b25ee21c4fcd'), 'author': 'Joy Lee', 'publisher': 'fun-coding.org', 'number': 8}\n",
      "{'_id': ObjectId('61824203a9d7b25ee21c4fce'), 'author': 'Joy Lee', 'publisher': 'fun-coding.org', 'number': 9}\n",
      "{'_id': ObjectId('61824203a9d7b25ee21c4fcf'), 'author': 'Joy Lee', 'publisher': 'fun-coding.org', 'number': 10}\n",
      "{'_id': ObjectId('61824203a9d7b25ee21c4fd0'), 'author': 'Joy Lee', 'publisher': 'fun-coding.org', 'number': 11}\n",
      "{'_id': ObjectId('61824203a9d7b25ee21c4fd1'), 'author': 'Joy Lee', 'publisher': 'fun-coding.org', 'number': 12}\n",
      "{'_id': ObjectId('61824203a9d7b25ee21c4fd2'), 'author': 'Joy Lee', 'publisher': 'fun-coding.org', 'number': 13}\n",
      "{'_id': ObjectId('61824203a9d7b25ee21c4fd3'), 'author': 'Joy Lee', 'publisher': 'fun-coding.org', 'number': 14}\n",
      "{'_id': ObjectId('61824203a9d7b25ee21c4fd4'), 'author': 'Joy Lee', 'publisher': 'fun-coding.org', 'number': 15}\n",
      "{'_id': ObjectId('61824203a9d7b25ee21c4fd5'), 'author': 'Joy Lee', 'publisher': 'fun-coding.org', 'number': 16}\n",
      "{'_id': ObjectId('61824203a9d7b25ee21c4fd6'), 'author': 'Joy Lee', 'publisher': 'fun-coding.org', 'number': 17}\n",
      "{'_id': ObjectId('61824203a9d7b25ee21c4fd7'), 'author': 'Joy Lee', 'publisher': 'fun-coding.org', 'number': 18}\n",
      "{'_id': ObjectId('61824203a9d7b25ee21c4fd8'), 'author': 'Joy Lee', 'publisher': 'fun-coding.org', 'number': 19}\n",
      "{'_id': ObjectId('61824203a9d7b25ee21c4fd9'), 'author': 'Joy Lee', 'publisher': 'fun-coding.org', 'number': 20}\n",
      "{'_id': ObjectId('61824203a9d7b25ee21c4fda'), 'author': 'Joy Lee', 'publisher': 'fun-coding.org', 'number': 21}\n",
      "{'_id': ObjectId('61824203a9d7b25ee21c4fdb'), 'author': 'Joy Lee', 'publisher': 'fun-coding.org', 'number': 22}\n",
      "{'_id': ObjectId('61824203a9d7b25ee21c4fdc'), 'author': 'Joy Lee', 'publisher': 'fun-coding.org', 'number': 23}\n",
      "{'_id': ObjectId('61824203a9d7b25ee21c4fdd'), 'author': 'Joy Lee', 'publisher': 'fun-coding.org', 'number': 24}\n",
      "{'_id': ObjectId('61824203a9d7b25ee21c4fde'), 'author': 'Joy Lee', 'publisher': 'fun-coding.org', 'number': 25}\n",
      "{'_id': ObjectId('61824203a9d7b25ee21c4fdf'), 'author': 'Joy Lee', 'publisher': 'fun-coding.org', 'number': 26}\n",
      "{'_id': ObjectId('61824203a9d7b25ee21c4fe0'), 'author': 'Joy Lee', 'publisher': 'fun-coding.org', 'number': 27}\n",
      "{'_id': ObjectId('61824203a9d7b25ee21c4fe1'), 'author': 'Joy Lee', 'publisher': 'fun-coding.org', 'number': 28}\n",
      "{'_id': ObjectId('61824203a9d7b25ee21c4fe2'), 'author': 'Joy Lee', 'publisher': 'fun-coding.org', 'number': 29}\n",
      "{'_id': ObjectId('61824203a9d7b25ee21c4fe3'), 'author': 'Joy Lee', 'publisher': 'fun-coding.org', 'number': 30}\n",
      "{'_id': ObjectId('61824203a9d7b25ee21c4fe4'), 'author': 'Joy Lee', 'publisher': 'fun-coding.org', 'number': 31}\n",
      "{'_id': ObjectId('61824203a9d7b25ee21c4fe5'), 'author': 'Joy Lee', 'publisher': 'fun-coding.org', 'number': 32}\n",
      "{'_id': ObjectId('61824203a9d7b25ee21c4fe6'), 'author': 'Joy Lee', 'publisher': 'fun-coding.org', 'number': 33}\n",
      "{'_id': ObjectId('61824203a9d7b25ee21c4fe7'), 'author': 'Joy Lee', 'publisher': 'fun-coding.org', 'number': 34}\n",
      "{'_id': ObjectId('61824203a9d7b25ee21c4fe8'), 'author': 'Joy Lee', 'publisher': 'fun-coding.org', 'number': 35}\n",
      "{'_id': ObjectId('61824203a9d7b25ee21c4fe9'), 'author': 'Joy Lee', 'publisher': 'fun-coding.org', 'number': 36}\n",
      "{'_id': ObjectId('61824203a9d7b25ee21c4fea'), 'author': 'Joy Lee', 'publisher': 'fun-coding.org', 'number': 37}\n",
      "{'_id': ObjectId('61824203a9d7b25ee21c4feb'), 'author': 'Joy Lee', 'publisher': 'fun-coding.org', 'number': 38}\n",
      "{'_id': ObjectId('61824203a9d7b25ee21c4fec'), 'author': 'Joy Lee', 'publisher': 'fun-coding.org', 'number': 39}\n",
      "{'_id': ObjectId('61824203a9d7b25ee21c4fed'), 'author': 'Joy Lee', 'publisher': 'fun-coding.org', 'number': 40}\n",
      "{'_id': ObjectId('61824203a9d7b25ee21c4fee'), 'author': 'Joy Lee', 'publisher': 'fun-coding.org', 'number': 41}\n",
      "{'_id': ObjectId('61824203a9d7b25ee21c4fef'), 'author': 'Joy Lee', 'publisher': 'fun-coding.org', 'number': 42}\n",
      "{'_id': ObjectId('61824203a9d7b25ee21c4ff0'), 'author': 'Joy Lee', 'publisher': 'fun-coding.org', 'number': 43}\n",
      "{'_id': ObjectId('61824203a9d7b25ee21c4ff1'), 'author': 'Joy Lee', 'publisher': 'fun-coding.org', 'number': 44}\n",
      "{'_id': ObjectId('61824203a9d7b25ee21c4ff2'), 'author': 'Joy Lee', 'publisher': 'fun-coding.org', 'number': 45}\n",
      "{'_id': ObjectId('61824203a9d7b25ee21c4ff3'), 'author': 'Joy Lee', 'publisher': 'fun-coding.org', 'number': 46}\n",
      "{'_id': ObjectId('61824203a9d7b25ee21c4ff4'), 'author': 'Joy Lee', 'publisher': 'fun-coding.org', 'number': 47}\n",
      "{'_id': ObjectId('61824203a9d7b25ee21c4ff5'), 'author': 'Joy Lee', 'publisher': 'fun-coding.org', 'number': 48}\n",
      "{'_id': ObjectId('61824203a9d7b25ee21c4ff6'), 'author': 'Joy Lee', 'publisher': 'fun-coding.org', 'number': 49}\n",
      "{'_id': ObjectId('61824203a9d7b25ee21c4ff7'), 'author': 'Joy Lee', 'publisher': 'fun-coding.org', 'number': 50}\n",
      "{'_id': ObjectId('61824203a9d7b25ee21c4ff8'), 'author': 'Joy Lee', 'publisher': 'fun-coding.org', 'number': 51}\n",
      "{'_id': ObjectId('61824203a9d7b25ee21c4ff9'), 'author': 'Joy Lee', 'publisher': 'fun-coding.org', 'number': 52}\n",
      "{'_id': ObjectId('61824203a9d7b25ee21c4ffa'), 'author': 'Joy Lee', 'publisher': 'fun-coding.org', 'number': 53}\n",
      "{'_id': ObjectId('61824203a9d7b25ee21c4ffb'), 'author': 'Joy Lee', 'publisher': 'fun-coding.org', 'number': 54}\n",
      "{'_id': ObjectId('61824203a9d7b25ee21c4ffc'), 'author': 'Joy Lee', 'publisher': 'fun-coding.org', 'number': 55}\n",
      "{'_id': ObjectId('61824203a9d7b25ee21c4ffd'), 'author': 'Joy Lee', 'publisher': 'fun-coding.org', 'number': 56}\n",
      "{'_id': ObjectId('61824203a9d7b25ee21c4ffe'), 'author': 'Joy Lee', 'publisher': 'fun-coding.org', 'number': 57}\n",
      "{'_id': ObjectId('61824203a9d7b25ee21c4fff'), 'author': 'Joy Lee', 'publisher': 'fun-coding.org', 'number': 58}\n",
      "{'_id': ObjectId('61824203a9d7b25ee21c5000'), 'author': 'Joy Lee', 'publisher': 'fun-coding.org', 'number': 59}\n",
      "{'_id': ObjectId('61824203a9d7b25ee21c5001'), 'author': 'Joy Lee', 'publisher': 'fun-coding.org', 'number': 60}\n",
      "{'_id': ObjectId('61824203a9d7b25ee21c5002'), 'author': 'Joy Lee', 'publisher': 'fun-coding.org', 'number': 61}\n",
      "{'_id': ObjectId('61824203a9d7b25ee21c5003'), 'author': 'Joy Lee', 'publisher': 'fun-coding.org', 'number': 62}\n",
      "{'_id': ObjectId('61824203a9d7b25ee21c5004'), 'author': 'Joy Lee', 'publisher': 'fun-coding.org', 'number': 63}\n",
      "{'_id': ObjectId('61824203a9d7b25ee21c5005'), 'author': 'Joy Lee', 'publisher': 'fun-coding.org', 'number': 64}\n",
      "{'_id': ObjectId('61824203a9d7b25ee21c5006'), 'author': 'Joy Lee', 'publisher': 'fun-coding.org', 'number': 65}\n",
      "{'_id': ObjectId('61824203a9d7b25ee21c5007'), 'author': 'Joy Lee', 'publisher': 'fun-coding.org', 'number': 66}\n",
      "{'_id': ObjectId('61824203a9d7b25ee21c5008'), 'author': 'Joy Lee', 'publisher': 'fun-coding.org', 'number': 67}\n",
      "{'_id': ObjectId('61824203a9d7b25ee21c5009'), 'author': 'Joy Lee', 'publisher': 'fun-coding.org', 'number': 68}\n",
      "{'_id': ObjectId('61824203a9d7b25ee21c500a'), 'author': 'Joy Lee', 'publisher': 'fun-coding.org', 'number': 69}\n",
      "{'_id': ObjectId('61824203a9d7b25ee21c500b'), 'author': 'Joy Lee', 'publisher': 'fun-coding.org', 'number': 70}\n",
      "{'_id': ObjectId('61824203a9d7b25ee21c500c'), 'author': 'Joy Lee', 'publisher': 'fun-coding.org', 'number': 71}\n",
      "{'_id': ObjectId('61824203a9d7b25ee21c500d'), 'author': 'Joy Lee', 'publisher': 'fun-coding.org', 'number': 72}\n",
      "{'_id': ObjectId('61824203a9d7b25ee21c500e'), 'author': 'Joy Lee', 'publisher': 'fun-coding.org', 'number': 73}\n",
      "{'_id': ObjectId('61824203a9d7b25ee21c500f'), 'author': 'Joy Lee', 'publisher': 'fun-coding.org', 'number': 74}\n",
      "{'_id': ObjectId('61824203a9d7b25ee21c5010'), 'author': 'Joy Lee', 'publisher': 'fun-coding.org', 'number': 75}\n",
      "{'_id': ObjectId('61824203a9d7b25ee21c5011'), 'author': 'Joy Lee', 'publisher': 'fun-coding.org', 'number': 76}\n",
      "{'_id': ObjectId('61824203a9d7b25ee21c5012'), 'author': 'Joy Lee', 'publisher': 'fun-coding.org', 'number': 77}\n",
      "{'_id': ObjectId('61824203a9d7b25ee21c5013'), 'author': 'Joy Lee', 'publisher': 'fun-coding.org', 'number': 78}\n",
      "{'_id': ObjectId('61824203a9d7b25ee21c5014'), 'author': 'Joy Lee', 'publisher': 'fun-coding.org', 'number': 79}\n",
      "{'_id': ObjectId('61824203a9d7b25ee21c5015'), 'author': 'Joy Lee', 'publisher': 'fun-coding.org', 'number': 80}\n",
      "{'_id': ObjectId('61824203a9d7b25ee21c5016'), 'author': 'Joy Lee', 'publisher': 'fun-coding.org', 'number': 81}\n",
      "{'_id': ObjectId('61824203a9d7b25ee21c5017'), 'author': 'Joy Lee', 'publisher': 'fun-coding.org', 'number': 82}\n",
      "{'_id': ObjectId('61824203a9d7b25ee21c5018'), 'author': 'Joy Lee', 'publisher': 'fun-coding.org', 'number': 83}\n",
      "{'_id': ObjectId('61824203a9d7b25ee21c5019'), 'author': 'Joy Lee', 'publisher': 'fun-coding.org', 'number': 84}\n",
      "{'_id': ObjectId('61824203a9d7b25ee21c501a'), 'author': 'Joy Lee', 'publisher': 'fun-coding.org', 'number': 85}\n",
      "{'_id': ObjectId('61824203a9d7b25ee21c501b'), 'author': 'Joy Lee', 'publisher': 'fun-coding.org', 'number': 86}\n",
      "{'_id': ObjectId('61824203a9d7b25ee21c501c'), 'author': 'Joy Lee', 'publisher': 'fun-coding.org', 'number': 87}\n",
      "{'_id': ObjectId('61824203a9d7b25ee21c501d'), 'author': 'Joy Lee', 'publisher': 'fun-coding.org', 'number': 88}\n",
      "{'_id': ObjectId('61824203a9d7b25ee21c501e'), 'author': 'Joy Lee', 'publisher': 'fun-coding.org', 'number': 89}\n",
      "{'_id': ObjectId('61824203a9d7b25ee21c501f'), 'author': 'Joy Lee', 'publisher': 'fun-coding.org', 'number': 90}\n",
      "{'_id': ObjectId('61824203a9d7b25ee21c5020'), 'author': 'Joy Lee', 'publisher': 'fun-coding.org', 'number': 91}\n",
      "{'_id': ObjectId('61824203a9d7b25ee21c5021'), 'author': 'Joy Lee', 'publisher': 'fun-coding.org', 'number': 92}\n",
      "{'_id': ObjectId('61824203a9d7b25ee21c5022'), 'author': 'Joy Lee', 'publisher': 'fun-coding.org', 'number': 93}\n",
      "{'_id': ObjectId('61824203a9d7b25ee21c5023'), 'author': 'Joy Lee', 'publisher': 'fun-coding.org', 'number': 94}\n",
      "{'_id': ObjectId('61824203a9d7b25ee21c5024'), 'author': 'Joy Lee', 'publisher': 'fun-coding.org', 'number': 95}\n",
      "{'_id': ObjectId('61824203a9d7b25ee21c5025'), 'author': 'Joy Lee', 'publisher': 'fun-coding.org', 'number': 96}\n",
      "{'_id': ObjectId('61824203a9d7b25ee21c5026'), 'author': 'Joy Lee', 'publisher': 'fun-coding.org', 'number': 97}\n",
      "{'_id': ObjectId('61824203a9d7b25ee21c5027'), 'author': 'Joy Lee', 'publisher': 'fun-coding.org', 'number': 98}\n",
      "{'_id': ObjectId('61824203a9d7b25ee21c5028'), 'author': 'Joy Lee', 'publisher': 'fun-coding.org', 'number': 99}\n"
     ]
    }
   ],
   "source": [
    "# CRUD - Read\n",
    "docs = it_book.find()\n",
    "for doc in docs:\n",
    "    print (doc)"
   ]
  },
  {
   "cell_type": "code",
   "execution_count": 54,
   "metadata": {},
   "outputs": [
    {
     "data": {
      "text/plain": [
       "<pymongo.results.UpdateResult at 0x7f038206f780>"
      ]
     },
     "execution_count": 54,
     "metadata": {},
     "output_type": "execute_result"
    }
   ],
   "source": [
    "# CRUD - Update\n",
    "it_book.update_many( {}, { \"$set\": { \"publisher\":\"www.fun-coding.org\"} } )"
   ]
  },
  {
   "cell_type": "code",
   "execution_count": 55,
   "metadata": {},
   "outputs": [
    {
     "data": {
      "text/plain": [
       "<pymongo.results.DeleteResult at 0x7f0398343f00>"
      ]
     },
     "execution_count": 55,
     "metadata": {},
     "output_type": "execute_result"
    }
   ],
   "source": [
    "# CRUD - Delete\n",
    "it_book.delete_many( { \"number\": { \"$gte\": 6} } )"
   ]
  },
  {
   "cell_type": "code",
   "execution_count": 59,
   "metadata": {},
   "outputs": [
    {
     "name": "stdout",
     "output_type": "stream",
     "text": [
      "{'_id': ObjectId('61824203a9d7b25ee21c4fc5'), 'author': 'Joy Lee', 'publisher': 'www.fun-coding.org', 'number': 0}\n",
      "{'_id': ObjectId('61824203a9d7b25ee21c4fc6'), 'author': 'Joy Lee', 'publisher': 'www.fun-coding.org', 'number': 1}\n",
      "{'_id': ObjectId('61824203a9d7b25ee21c4fc7'), 'author': 'Joy Lee', 'publisher': 'www.fun-coding.org', 'number': 2}\n",
      "{'_id': ObjectId('61824203a9d7b25ee21c4fc8'), 'author': 'Joy Lee', 'publisher': 'www.fun-coding.org', 'number': 3}\n",
      "{'_id': ObjectId('61824203a9d7b25ee21c4fc9'), 'author': 'Joy Lee', 'publisher': 'www.fun-coding.org', 'number': 4}\n",
      "{'_id': ObjectId('61824203a9d7b25ee21c4fca'), 'author': 'Joy Lee', 'publisher': 'www.fun-coding.org', 'number': 5}\n"
     ]
    }
   ],
   "source": [
    "docs = it_book.find({})\n",
    "for doc in docs:\n",
    "    print(doc)"
   ]
  }
 ],
 "metadata": {
  "interpreter": {
   "hash": "33b0c032e04388c0be1572b4c64e4f6e2fa9cda7ba5f9f285430d52a126a80b7"
  },
  "kernelspec": {
   "display_name": "Python 3.8.10 64-bit ('datavenv': venv)",
   "name": "python3"
  },
  "language_info": {
   "codemirror_mode": {
    "name": "ipython",
    "version": 3
   },
   "file_extension": ".py",
   "mimetype": "text/x-python",
   "name": "python",
   "nbconvert_exporter": "python",
   "pygments_lexer": "ipython3",
   "version": "3.8.10"
  },
  "orig_nbformat": 4
 },
 "nbformat": 4,
 "nbformat_minor": 2
}
