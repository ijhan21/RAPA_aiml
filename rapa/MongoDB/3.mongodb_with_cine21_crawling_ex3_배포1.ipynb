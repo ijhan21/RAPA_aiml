{
 "cells": [
  {
   "cell_type": "markdown",
   "metadata": {
    "collapsed": true
   },
   "source": [
    "# 1. 크롤링과 함께 쓰는 mongoDB 예제"
   ]
  },
  {
   "cell_type": "markdown",
   "metadata": {},
   "source": [
    "### cine21 인물 랭킹 알아내기\n",
    "  - http://www.cine21.com/rank/person/\n",
    "  - 조회를 눌렀을 때, Go to Network -> content 의 Request URL/Method 와 Form 데이터 알아내기\n",
    "    - Request URL: http://www.cine21.com/rank/person/content\n",
    "    - Request Method: POST\n",
    "    - Form Data\n",
    "      - section:actor\n",
    "      - period_start:2021-10\n",
    "      - gender:all\n",
    "      - page:1\n",
    "    - 하단부 페이지를 누를 때마다, Form Data 의 page 값이 바뀜"
   ]
  },
  {
   "cell_type": "code",
   "execution_count": 1,
   "metadata": {
    "collapsed": true,
    "scrolled": true
   },
   "outputs": [],
   "source": [
    "import requests as req\n",
    "import re\n",
    "import datetime\n",
    "from bs4 import BeautifulSoup as bs\n",
    "from pymongo import MongoClient\n",
    "import pymongo"
   ]
  },
  {
   "cell_type": "code",
   "execution_count": 2,
   "metadata": {
    "collapsed": true,
    "scrolled": true
   },
   "outputs": [],
   "source": [
    "# 몽고DB 서버 연결\n",
    "username = 'hans'\n",
    "password = '1234'\n",
    "conn = pymongo.MongoClient('mongodb://%s:%s@127.0.0.1' % (username, password))"
   ]
  },
  {
   "cell_type": "code",
   "execution_count": 3,
   "metadata": {
    "collapsed": true,
    "scrolled": true
   },
   "outputs": [],
   "source": [
    "# db, collection 연결(없으면 생성)\n",
    "# python과 연동되었을 때, db와 collection의 경우, document insert 싯점에 생성됨\n",
    "mongodb = conn.cine21\n",
    "actor_collection = mongodb.actor_collection"
   ]
  },
  {
   "cell_type": "code",
   "execution_count": 4,
   "metadata": {
    "scrolled": true
   },
   "outputs": [],
   "source": [
    "# actor 정보가 있는지 확인하기\n",
    "actor_list = actor_collection.find()\n",
    "for actor in actor_list:\n",
    "    print(actor['actor'])"
   ]
  },
  {
   "cell_type": "code",
   "execution_count": 5,
   "metadata": {
    "collapsed": true,
    "scrolled": true
   },
   "outputs": [],
   "source": [
    "# request url http://www.cine21.com/rank/person\n",
    "def get_pages(page):\n",
    "    cine21_url = 'http://www.cine21.com/rank/person/content'\n",
    "    month = \"2021-10\"\n",
    "    # post 방식으로 데이터를 가져오기 위한 request 시 필요 정보 F12/network 의 content/header에서 url과 form data 확인함.\n",
    "    conditions = dict()\n",
    "    conditions['section'] = 'actor'\n",
    "    conditions['period_start'] = month\n",
    "    conditions['gender'] = 'all'\n",
    "    conditions['page'] = page \n",
    "\n",
    "    # post 방식으로 request 요청\n",
    "    res = req.post(cine21_url, data = conditions)\n",
    "    print(conditions)\n",
    "    soup = bs(res.text, \"html.parser\")\n",
    "    return soup"
   ]
  },
  {
   "cell_type": "code",
   "execution_count": 6,
   "metadata": {},
   "outputs": [],
   "source": [
    "def get_items(soup):\n",
    "    actor=[]\n",
    "    urls=[]\n",
    "    tds = soup.select(\"div.name>a\")\n",
    "    for td in tds:\n",
    "        actor.append(td.get_text(strip=True).split(\"(\")[0])\n",
    "        urls.append(td[\"href\"])\n",
    "\n",
    "    score = []\n",
    "    tds = soup.select(\"li>strong\")\n",
    "    for td in tds:\n",
    "        score.append(td.get_text(strip=True).replace(\",\",\"\"))\n",
    "\n",
    "    movie =[]\n",
    "    tds = soup.select(\"li.people_li>ul.mov_list>li>a>span\")  \n",
    "    for td in tds:\n",
    "        movie.append(td.get_text(strip=True))\n",
    "\n",
    "    print(actor, score, movie, urls)   \n",
    "    return actor, score, movie, urls "
   ]
  },
  {
   "cell_type": "code",
   "execution_count": 7,
   "metadata": {},
   "outputs": [],
   "source": [
    " \n",
    "def put_data(actor, score, movie, urls):\n",
    "    for i, j, k, l in zip(actor, score, movie, urls):\n",
    "        post ={}\n",
    "        post['actor'] = i\n",
    "        post['score'] = j\n",
    "        post['movie'] = k\n",
    "\n",
    "        cine21_url=\"http://www.cine21.com\" + l\n",
    "        #print(cine21_url)\n",
    "        res = req.post(cine21_url)\n",
    "        soup = bs(res.text, \"html.parser\")\n",
    "        tds = soup.select(\"ul.default_info>li\")\n",
    "        dic={}\n",
    "        for td in tds:\n",
    "    #        print(td)\n",
    "            key = (td.select(\"li>span\")[0].get_text(strip = True))\n",
    "            value = (td.get_text(strip = True)).split(key)[1]\n",
    "            dic[key] = value   \n",
    "        post['basic_info'] = dic\n",
    "        actor_collection.insert_one(post)    "
   ]
  },
  {
   "cell_type": "code",
   "execution_count": 8,
   "metadata": {},
   "outputs": [
    {
     "name": "stdout",
     "output_type": "stream",
     "text": [
      "1\n",
      "{'section': 'actor', 'period_start': '2021-10', 'gender': 'all', 'page': 1}\n",
      "['박정민', '이성민', '임윤아', '노회찬', '이수경', '박영남', '김환진'] ['161725', '121294', '80862', '51594', '40431', '27908', '24419'] ['기적', '기적', '기적', '노회찬6411', '기적', '극장판 짱구는 못말려: 격돌! 낙서왕국과 얼추 네 명의 용사들', '극장판 짱구는 못말려: 격돌! 낙서왕국과 얼추 네 명의 용사들'] ['/db/person/info/?person_id=74826', '/db/person/info/?person_id=25123', '/db/person/info/?person_id=66313', '/db/person/info/?person_id=70020', '/db/person/info/?person_id=96165', '/db/person/info/?person_id=32987', '/db/person/info/?person_id=74727']\n"
     ]
    },
    {
     "ename": "NameError",
     "evalue": "name 'conditions' is not defined",
     "output_type": "error",
     "traceback": [
      "\u001b[0;31m---------------------------------------------------------------------------\u001b[0m",
      "\u001b[0;31mNameError\u001b[0m                                 Traceback (most recent call last)",
      "\u001b[0;32m/tmp/ipykernel_151515/1532437537.py\u001b[0m in \u001b[0;36m<module>\u001b[0;34m\u001b[0m\n\u001b[1;32m      5\u001b[0m     \u001b[0msoup\u001b[0m \u001b[0;34m=\u001b[0m \u001b[0mget_pages\u001b[0m\u001b[0;34m(\u001b[0m\u001b[0mpage\u001b[0m\u001b[0;34m)\u001b[0m\u001b[0;34m\u001b[0m\u001b[0;34m\u001b[0m\u001b[0m\n\u001b[1;32m      6\u001b[0m     \u001b[0mactor\u001b[0m\u001b[0;34m,\u001b[0m \u001b[0mscore\u001b[0m\u001b[0;34m,\u001b[0m \u001b[0mmovie\u001b[0m\u001b[0;34m,\u001b[0m \u001b[0murls\u001b[0m \u001b[0;34m=\u001b[0m \u001b[0mget_items\u001b[0m\u001b[0;34m(\u001b[0m\u001b[0msoup\u001b[0m\u001b[0;34m)\u001b[0m\u001b[0;34m\u001b[0m\u001b[0;34m\u001b[0m\u001b[0m\n\u001b[0;32m----> 7\u001b[0;31m     \u001b[0mput_data\u001b[0m\u001b[0;34m(\u001b[0m\u001b[0mactor\u001b[0m\u001b[0;34m,\u001b[0m \u001b[0mscore\u001b[0m\u001b[0;34m,\u001b[0m \u001b[0mmovie\u001b[0m\u001b[0;34m,\u001b[0m \u001b[0murls\u001b[0m\u001b[0;34m)\u001b[0m\u001b[0;34m\u001b[0m\u001b[0;34m\u001b[0m\u001b[0m\n\u001b[0m\u001b[1;32m      8\u001b[0m \u001b[0;34m\u001b[0m\u001b[0m\n",
      "\u001b[0;32m/tmp/ipykernel_151515/3678526138.py\u001b[0m in \u001b[0;36mput_data\u001b[0;34m(actor, score, movie, urls)\u001b[0m\n\u001b[1;32m      8\u001b[0m         \u001b[0mcine21_url\u001b[0m\u001b[0;34m=\u001b[0m\u001b[0;34m\"http://www.cine21.com\"\u001b[0m \u001b[0;34m+\u001b[0m \u001b[0ml\u001b[0m\u001b[0;34m\u001b[0m\u001b[0;34m\u001b[0m\u001b[0m\n\u001b[1;32m      9\u001b[0m         \u001b[0;31m#print(cine21_url)\u001b[0m\u001b[0;34m\u001b[0m\u001b[0;34m\u001b[0m\u001b[0;34m\u001b[0m\u001b[0m\n\u001b[0;32m---> 10\u001b[0;31m         \u001b[0mres\u001b[0m \u001b[0;34m=\u001b[0m \u001b[0mreq\u001b[0m\u001b[0;34m.\u001b[0m\u001b[0mpost\u001b[0m\u001b[0;34m(\u001b[0m\u001b[0mcine21_url\u001b[0m\u001b[0;34m,\u001b[0m \u001b[0mdata\u001b[0m \u001b[0;34m=\u001b[0m \u001b[0mconditions\u001b[0m\u001b[0;34m)\u001b[0m\u001b[0;34m\u001b[0m\u001b[0;34m\u001b[0m\u001b[0m\n\u001b[0m\u001b[1;32m     11\u001b[0m         \u001b[0msoup\u001b[0m \u001b[0;34m=\u001b[0m \u001b[0mbs\u001b[0m\u001b[0;34m(\u001b[0m\u001b[0mres\u001b[0m\u001b[0;34m.\u001b[0m\u001b[0mtext\u001b[0m\u001b[0;34m,\u001b[0m \u001b[0;34m\"html.parser\"\u001b[0m\u001b[0;34m)\u001b[0m\u001b[0;34m\u001b[0m\u001b[0;34m\u001b[0m\u001b[0m\n\u001b[1;32m     12\u001b[0m         \u001b[0mtds\u001b[0m \u001b[0;34m=\u001b[0m \u001b[0msoup\u001b[0m\u001b[0;34m.\u001b[0m\u001b[0mselect\u001b[0m\u001b[0;34m(\u001b[0m\u001b[0;34m\"ul.default_info>li\"\u001b[0m\u001b[0;34m)\u001b[0m\u001b[0;34m\u001b[0m\u001b[0;34m\u001b[0m\u001b[0m\n",
      "\u001b[0;31mNameError\u001b[0m: name 'conditions' is not defined"
     ]
    }
   ],
   "source": [
    "# page = int(input(\"몇 page data를 가져올까요? :\"))\n",
    "page = 1\n",
    "for i in range(1,page + 1):\n",
    "    print(page)\n",
    "    soup = get_pages(page)\n",
    "    actor, score, movie, urls = get_items(soup)\n",
    "    put_data(actor, score, movie, urls)\n",
    "\n"
   ]
  },
  {
   "cell_type": "code",
   "execution_count": null,
   "metadata": {
    "scrolled": true
   },
   "outputs": [
    {
     "name": "stdout",
     "output_type": "stream",
     "text": [
      "마동석\n"
     ]
    }
   ],
   "source": [
    "# 정규 표현식 참고 : https://regexr.com/\n",
    "# 문자, 숫자를 찾음 : \\w\n",
    "# 특수 기호 () 문자로 인식 : \\( \\)\n",
    "\n",
    "# 2. 반복 표현 ?, *, +\n",
    "# + : 앞 문자가 1번 또는 그 이상 반복되는 패턴\n",
    "# ? : 앞 문자가 0번 또는 1번 표시되는 패턴(없어도 되고, 한번 있어도 되는 패턴)\n",
    "# * : 앞 문자가 0번 또는 그이상 반복되는 패턴\n",
    "import re\n",
    "test_data = '마동석(17편)'\n",
    "#re.sub('정규표현식', '변경데이터', test_data)\n",
    "print(re.sub(\"\\(\\w+\\)\", \"\", test_data))"
   ]
  },
  {
   "cell_type": "code",
   "execution_count": null,
   "metadata": {},
   "outputs": [],
   "source": [
    "# [실습]\n",
    "# 한 페이지 내의 배우이름만 가져오기\n",
    "import re\n",
    "\n"
   ]
  },
  {
   "cell_type": "markdown",
   "metadata": {},
   "source": [
    "### 각 배우별 상세 정보를 document에 넣고 싶다.\n",
    "* 각 배우별 상세 정보를 별도 컬럼으로 만들려했더니, 각 배우별 상세 정보 항목이 다르다!\n",
    "* 모든 상세 정보 항목을 컬럼으로 만들고, 각 컬럼에 매칭되는 컬럼값을 넣기가 쉽지 않다. 코드도 복잡하고!\n",
    "* Mongodb는 NoSQL -> 통째로 집어넣자.!"
   ]
  },
  {
   "cell_type": "markdown",
   "metadata": {},
   "source": [
    "* embedded document\n",
    "  - document 의 컬럼값으로 document를 넣을 수 있다."
   ]
  },
  {
   "cell_type": "code",
   "execution_count": null,
   "metadata": {},
   "outputs": [],
   "source": []
  },
  {
   "cell_type": "code",
   "execution_count": null,
   "metadata": {},
   "outputs": [],
   "source": []
  },
  {
   "cell_type": "code",
   "execution_count": null,
   "metadata": {},
   "outputs": [],
   "source": []
  },
  {
   "cell_type": "code",
   "execution_count": null,
   "metadata": {},
   "outputs": [],
   "source": []
  },
  {
   "cell_type": "code",
   "execution_count": null,
   "metadata": {},
   "outputs": [],
   "source": []
  },
  {
   "cell_type": "markdown",
   "metadata": {},
   "source": [
    "### 흥행지수 뽑기"
   ]
  },
  {
   "cell_type": "code",
   "execution_count": null,
   "metadata": {},
   "outputs": [],
   "source": []
  },
  {
   "cell_type": "code",
   "execution_count": null,
   "metadata": {},
   "outputs": [],
   "source": []
  },
  {
   "cell_type": "code",
   "execution_count": null,
   "metadata": {},
   "outputs": [],
   "source": []
  },
  {
   "cell_type": "code",
   "execution_count": null,
   "metadata": {},
   "outputs": [],
   "source": []
  },
  {
   "cell_type": "code",
   "execution_count": null,
   "metadata": {},
   "outputs": [],
   "source": []
  },
  {
   "cell_type": "markdown",
   "metadata": {},
   "source": [
    "### 각 배우별 출연 영화를 document에 저장하고 싶다.\n",
    "  - 출연 영화는 한 개가 될 수도 있고, 여러 개가 될 수도 있음\n",
    "  - 파이썬은 리스트, mongodb document는 컬럼에 배열(array)로 넣으면 됨 "
   ]
  },
  {
   "cell_type": "code",
   "execution_count": null,
   "metadata": {},
   "outputs": [],
   "source": []
  },
  {
   "cell_type": "code",
   "execution_count": null,
   "metadata": {},
   "outputs": [],
   "source": []
  },
  {
   "cell_type": "code",
   "execution_count": null,
   "metadata": {},
   "outputs": [],
   "source": []
  },
  {
   "cell_type": "code",
   "execution_count": null,
   "metadata": {},
   "outputs": [],
   "source": []
  },
  {
   "cell_type": "markdown",
   "metadata": {},
   "source": [
    "### insert_one() 로 하나씩 데이터 입력하기 (반복문과 함께 사용하면, 여러 데이터를 넣을 수 있음)"
   ]
  },
  {
   "cell_type": "markdown",
   "metadata": {},
   "source": [
    "- actor_list: 배우 이름\n",
    "- actor_details: 배우 상세 정보\n",
    "- actor_rate: 흥행 지수\n",
    "- date: 기준월\n",
    "- movie_list: 출연 영화 리스트!"
   ]
  },
  {
   "cell_type": "code",
   "execution_count": null,
   "metadata": {},
   "outputs": [],
   "source": []
  },
  {
   "cell_type": "code",
   "execution_count": null,
   "metadata": {},
   "outputs": [],
   "source": []
  },
  {
   "cell_type": "code",
   "execution_count": null,
   "metadata": {},
   "outputs": [],
   "source": []
  },
  {
   "cell_type": "code",
   "execution_count": null,
   "metadata": {},
   "outputs": [],
   "source": []
  },
  {
   "cell_type": "markdown",
   "metadata": {},
   "source": [
    "### collection 삭제하기"
   ]
  },
  {
   "cell_type": "code",
   "execution_count": null,
   "metadata": {},
   "outputs": [],
   "source": []
  },
  {
   "cell_type": "code",
   "execution_count": null,
   "metadata": {},
   "outputs": [],
   "source": []
  },
  {
   "cell_type": "code",
   "execution_count": null,
   "metadata": {
    "collapsed": true,
    "scrolled": true
   },
   "outputs": [],
   "source": [
    "# collection drop\n",
    "actor_collection.drop()"
   ]
  },
  {
   "cell_type": "code",
   "execution_count": null,
   "metadata": {
    "collapsed": true,
    "scrolled": true
   },
   "outputs": [],
   "source": [
    "# collection 찾기\n",
    "docs = actor_collection.find()\n",
    "docs"
   ]
  },
  {
   "cell_type": "code",
   "execution_count": null,
   "metadata": {
    "collapsed": true,
    "scrolled": true
   },
   "outputs": [],
   "source": [
    "for doc in docs:\n",
    "    print(doc)"
   ]
  },
  {
   "cell_type": "markdown",
   "metadata": {},
   "source": [
    "### Dictionary 타입으로 만들어서 한번에 insert_many() 로 데이터 입력하기"
   ]
  },
  {
   "cell_type": "code",
   "execution_count": null,
   "metadata": {},
   "outputs": [],
   "source": []
  },
  {
   "cell_type": "code",
   "execution_count": null,
   "metadata": {},
   "outputs": [],
   "source": []
  },
  {
   "cell_type": "code",
   "execution_count": null,
   "metadata": {},
   "outputs": [],
   "source": []
  },
  {
   "cell_type": "markdown",
   "metadata": {},
   "source": [
    "### Update (컬럼명 변경 예제)"
   ]
  },
  {
   "cell_type": "code",
   "execution_count": null,
   "metadata": {},
   "outputs": [],
   "source": []
  },
  {
   "cell_type": "code",
   "execution_count": null,
   "metadata": {},
   "outputs": [],
   "source": []
  },
  {
   "cell_type": "code",
   "execution_count": null,
   "metadata": {},
   "outputs": [],
   "source": []
  },
  {
   "cell_type": "code",
   "execution_count": null,
   "metadata": {},
   "outputs": [],
   "source": []
  },
  {
   "cell_type": "markdown",
   "metadata": {},
   "source": [
    "### 컬렉션 객체 이름도 바꿀 수 있겠지요\n",
    "actor_collection -> actors_info 로 변경"
   ]
  },
  {
   "cell_type": "code",
   "execution_count": null,
   "metadata": {},
   "outputs": [],
   "source": []
  },
  {
   "cell_type": "code",
   "execution_count": null,
   "metadata": {},
   "outputs": [],
   "source": []
  },
  {
   "cell_type": "code",
   "execution_count": null,
   "metadata": {},
   "outputs": [],
   "source": []
  },
  {
   "cell_type": "code",
   "execution_count": null,
   "metadata": {},
   "outputs": [],
   "source": []
  }
 ],
 "metadata": {
  "interpreter": {
   "hash": "33b0c032e04388c0be1572b4c64e4f6e2fa9cda7ba5f9f285430d52a126a80b7"
  },
  "kernelspec": {
   "display_name": "Python 3.8.10 64-bit ('datavenv': venv)",
   "name": "python3"
  },
  "language_info": {
   "codemirror_mode": {
    "name": "ipython",
    "version": 3
   },
   "file_extension": ".py",
   "mimetype": "text/x-python",
   "name": "python",
   "nbconvert_exporter": "python",
   "pygments_lexer": "ipython3",
   "version": "3.8.10"
  },
  "nbTranslate": {
   "displayLangs": [
    "*"
   ],
   "hotkey": "alt-t",
   "langInMainMenu": true,
   "sourceLang": "en",
   "targetLang": "fr",
   "useGoogleTranslate": true
  }
 },
 "nbformat": 4,
 "nbformat_minor": 1
}
