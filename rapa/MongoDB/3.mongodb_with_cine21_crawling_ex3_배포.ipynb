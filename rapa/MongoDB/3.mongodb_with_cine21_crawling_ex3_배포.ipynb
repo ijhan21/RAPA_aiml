{
 "cells": [
  {
   "cell_type": "markdown",
   "metadata": {
    "collapsed": true
   },
   "source": [
    "# 1. 크롤링과 함께 쓰는 mongoDB 예제"
   ]
  },
  {
   "cell_type": "markdown",
   "metadata": {},
   "source": [
    "### cine21 인물 랭킹 알아내기\n",
    "  - http://www.cine21.com/rank/person/\n",
    "  - 조회를 눌렀을 때, Go to Network -> content 의 Request URL/Method 와 Form 데이터 알아내기\n",
    "    - Request URL: http://www.cine21.com/rank/person/content\n",
    "    - Request Method: POST\n",
    "    - Form Data\n",
    "      - section:actor\n",
    "      - period_start:2021-10\n",
    "      - gender:all\n",
    "      - page:1\n",
    "    - 하단부 페이지를 누를 때마다, Form Data 의 page 값이 바뀜"
   ]
  },
  {
   "cell_type": "code",
   "execution_count": 1,
   "metadata": {
    "collapsed": true,
    "scrolled": true
   },
   "outputs": [],
   "source": [
    "import requests as req\n",
    "import re\n",
    "import datetime\n",
    "from bs4 import BeautifulSoup as bs\n",
    "from pymongo import MongoClient\n",
    "import pymongo"
   ]
  },
  {
   "cell_type": "code",
   "execution_count": 3,
   "metadata": {
    "collapsed": true,
    "scrolled": true
   },
   "outputs": [],
   "source": [
    "# 몽고DB 서버 연결\n",
    "username = 'hans'\n",
    "password = '1234'\n",
    "conn = pymongo.MongoClient('mongodb://%s:%s@127.0.0.1' % (username, password))"
   ]
  },
  {
   "cell_type": "code",
   "execution_count": 4,
   "metadata": {
    "collapsed": true,
    "scrolled": true
   },
   "outputs": [],
   "source": [
    "# db, collection 연결(없으면 생성)\n",
    "# python과 연동되었을 때, db와 collection의 경우, document insert 싯점에 생성됨\n",
    "mongodb = conn.cine21\n",
    "actor_collection = mongodb.actor_collection"
   ]
  },
  {
   "cell_type": "code",
   "execution_count": 5,
   "metadata": {
    "scrolled": true
   },
   "outputs": [],
   "source": [
    "# actor 정보가 있는지 확인하기\n",
    "actor_list = actor_collection.find()\n",
    "for actor in actor_list:\n",
    "    print(actor['actor'])"
   ]
  },
  {
   "cell_type": "code",
   "execution_count": 9,
   "metadata": {
    "collapsed": true,
    "scrolled": true
   },
   "outputs": [],
   "source": [
    "# request url\n",
    "cine21_url = 'http://www.cine21.com/rank/person/content'\n",
    "month = \"2021-10\"\n",
    "year = \"2020-11\"\n",
    "\n",
    "# post 방식으로 데이터를 가져오기 위한 request 시 필요 정보\n",
    "conditions = dict()\n",
    "conditions['section'] = 'actor'\n",
    "conditions['period_start'] = month\n",
    "conditions['gender'] = 'all'\n",
    "conditions['page'] = 1\n",
    "\n",
    "# post 방식으로 request 요청\n",
    "response = req.post(cine21_url, data = conditions)"
   ]
  },
  {
   "cell_type": "code",
   "execution_count": 11,
   "metadata": {},
   "outputs": [
    {
     "data": {
      "text/plain": [
       "'http://www.cine21.com/rank/person/content'"
      ]
     },
     "execution_count": 11,
     "metadata": {},
     "output_type": "execute_result"
    }
   ],
   "source": [
    "response.url"
   ]
  },
  {
   "cell_type": "code",
   "execution_count": 12,
   "metadata": {},
   "outputs": [
    {
     "data": {
      "text/plain": [
       "b'\\t\\t\\t<ul class=\"people_list\">\\r\\n\\t\\t\\t\\t<li class=\"people_li\">\\r\\n\\t\\t\\t\\t\\t<a href=\"/db/person/info/?person_id=74826\"><img src=\"https://image.cine21.com/resize/cine21/person/2019/0828/11_54_52__5d65ecfc13ca6[X145,145].jpg\" alt=\"\" class=\"people_thumb\" target=\"_blank\" /></a>\\r\\n\\t\\t\\t\\t\\t<div class=\"name\"><a href=\"/db/person/info/?person_id=74826\">\\xeb\\xb0\\x95\\xec\\xa0\\x95\\xeb\\xaf\\xbc(1\\xed\\x8e\\xb8)</a></div>\\r\\n\\t\\t\\t\\t\\t<ul class=\"num_info\">\\r\\n\\t\\t\\t\\t\\t\\t<li><span class=\"tit\">\\xed\\x9d\\xa5\\xed\\x96\\x89\\xec\\xa7\\x80\\xec\\x88\\x98</span><strong>161,725</strong></li>\\r\\n\\t\\t\\t\\t\\t\\t<!--\\r\\n\\t\\t\\t\\t\\t\\t<li><a href=\"#\" class=\"btn_graph\"><span class=\"ico\"></span><span>\\xed\\x9d\\xa5\\xed\\x96\\x89\\xec\\x84\\xb1\\xec\\xa0\\x81<br />\\xea\\xb7\\xb8\\xeb\\x9e\\x98\\xed\\x94\\x84\\xeb\\xa1\\x9c \\xeb\\xb3\\xb4\\xea\\xb8\\xb0</span></a></li>\\r\\n\\t\\t\\t\\t\\t\\t-->\\r\\n\\t\\t\\t\\t\\t</ul>\\r\\n\\t\\t\\t\\t\\t<!-- \\xec\\x98\\x81\\xed\\x99\\x94\\xed\\x8f\\xac\\xec\\x8a\\xa4\\xed\\x84\\xb0\\xeb\\x8a\\x94 \\xec\\xb5\\x9c\\xeb\\x8c\\x80 5\\xea\\xb0\\x9c\\xea\\xb9\\x8c\\xec\\xa7\\x80\\xeb\\xa7\\x8c -->\\r\\n\\t\\t\\t\\t\\t<ul class=\"mov_list\">\\r\\n\\t\\t\\t\\t\\t\\t\\r\\n\\t\\t\\t\\t\\t\\t\\t<li>\\r\\n\\t\\t\\t\\t\\t\\t\\t\\t<a href=\"/movie/info/?movie_id=57227\">\\r\\n\\t\\t\\t\\t\\t\\t\\t\\t\\t<img src=\"https://image.cine21.com/resize/cine21/poster/2021/0928/10_31_26__6152706e344e6[X85,120].jpg\" alt=\"\" class=\"thumb\"  target=\"_blank\" />\\r\\n\\t\\t\\t\\t\\t\\t\\t\\t\\t<span>\\xea\\xb8\\xb0\\xec\\xa0\\x81</span>\\r\\n\\t\\t\\t\\t\\t\\t\\t\\t</a>\\r\\n\\t\\t\\t\\t\\t\\t\\t</li>\\r\\n\\t\\t\\t\\t\\t\\t\\t\\t\\t\\t\\t</ul>\\r\\n\\t\\t\\t\\t\\t<!-- \\xec\\x88\\x9c\\xec\\x9c\\x84 --><span class=\"grade\">1</span>\\r\\n\\t\\t\\t\\t</li>\\r\\n\\t\\t\\t\\t<li class=\"people_li\">\\r\\n\\t\\t\\t\\t\\t<a href=\"/db/person/info/?person_id=25123\"><img src=\"https://image.cine21.com/resize/cine21/person/2020/0108/11_20_05__5e153c55bdaea[X145,145].jpg\" alt=\"\" class=\"people_thumb\" target=\"_blank\" /></a>\\r\\n\\t\\t\\t\\t\\t<div class=\"name\"><a href=\"/db/person/info/?person_id=25123\">\\xec\\x9d\\xb4\\xec\\x84\\xb1\\xeb\\xaf\\xbc(1\\xed\\x8e\\xb8)</a></div>\\r\\n\\t\\t\\t\\t\\t<ul class=\"num_info\">\\r\\n\\t\\t\\t\\t\\t\\t<li><span class=\"tit\">\\xed\\x9d\\xa5\\xed\\x96\\x89\\xec\\xa7\\x80\\xec\\x88\\x98</span><strong>121,294</strong></li>\\r\\n\\t\\t\\t\\t\\t\\t<!--\\r\\n\\t\\t\\t\\t\\t\\t<li><a href=\"#\" class=\"btn_graph\"><span class=\"ico\"></span><span>\\xed\\x9d\\xa5\\xed\\x96\\x89\\xec\\x84\\xb1\\xec\\xa0\\x81<br />\\xea\\xb7\\xb8\\xeb\\x9e\\x98\\xed\\x94\\x84\\xeb\\xa1\\x9c \\xeb\\xb3\\xb4\\xea\\xb8\\xb0</span></a></li>\\r\\n\\t\\t\\t\\t\\t\\t-->\\r\\n\\t\\t\\t\\t\\t</ul>\\r\\n\\t\\t\\t\\t\\t<!-- \\xec\\x98\\x81\\xed\\x99\\x94\\xed\\x8f\\xac\\xec\\x8a\\xa4\\xed\\x84\\xb0\\xeb\\x8a\\x94 \\xec\\xb5\\x9c\\xeb\\x8c\\x80 5\\xea\\xb0\\x9c\\xea\\xb9\\x8c\\xec\\xa7\\x80\\xeb\\xa7\\x8c -->\\r\\n\\t\\t\\t\\t\\t<ul class=\"mov_list\">\\r\\n\\t\\t\\t\\t\\t\\t\\r\\n\\t\\t\\t\\t\\t\\t\\t<li>\\r\\n\\t\\t\\t\\t\\t\\t\\t\\t<a href=\"/movie/info/?movie_id=57227\">\\r\\n\\t\\t\\t\\t\\t\\t\\t\\t\\t<img src=\"https://image.cine21.com/resize/cine21/poster/2021/0928/10_31_26__6152706e344e6[X85,120].jpg\" alt=\"\" class=\"thumb\"  target=\"_blank\" />\\r\\n\\t\\t\\t\\t\\t\\t\\t\\t\\t<span>\\xea\\xb8\\xb0\\xec\\xa0\\x81</span>\\r\\n\\t\\t\\t\\t\\t\\t\\t\\t</a>\\r\\n\\t\\t\\t\\t\\t\\t\\t</li>\\r\\n\\t\\t\\t\\t\\t\\t\\t\\t\\t\\t\\t</ul>\\r\\n\\t\\t\\t\\t\\t<!-- \\xec\\x88\\x9c\\xec\\x9c\\x84 --><span class=\"grade\">2</span>\\r\\n\\t\\t\\t\\t</li>\\r\\n\\t\\t\\t\\t<li class=\"people_li\">\\r\\n\\t\\t\\t\\t\\t<a href=\"/db/person/info/?person_id=66313\"><img src=\"https://image.cine21.com/resize/cine21/person/2021/0927/15_22_17__615163198ef1b[X145,145].jpg\" alt=\"\" class=\"people_thumb\" target=\"_blank\" /></a>\\r\\n\\t\\t\\t\\t\\t<div class=\"name\"><a href=\"/db/person/info/?person_id=66313\">\\xec\\x9e\\x84\\xec\\x9c\\xa4\\xec\\x95\\x84(1\\xed\\x8e\\xb8)</a></div>\\r\\n\\t\\t\\t\\t\\t<ul class=\"num_info\">\\r\\n\\t\\t\\t\\t\\t\\t<li><span class=\"tit\">\\xed\\x9d\\xa5\\xed\\x96\\x89\\xec\\xa7\\x80\\xec\\x88\\x98</span><strong>80,862</strong></li>\\r\\n\\t\\t\\t\\t\\t\\t<!--\\r\\n\\t\\t\\t\\t\\t\\t<li><a href=\"#\" class=\"btn_graph\"><span class=\"ico\"></span><span>\\xed\\x9d\\xa5\\xed\\x96\\x89\\xec\\x84\\xb1\\xec\\xa0\\x81<br />\\xea\\xb7\\xb8\\xeb\\x9e\\x98\\xed\\x94\\x84\\xeb\\xa1\\x9c \\xeb\\xb3\\xb4\\xea\\xb8\\xb0</span></a></li>\\r\\n\\t\\t\\t\\t\\t\\t-->\\r\\n\\t\\t\\t\\t\\t</ul>\\r\\n\\t\\t\\t\\t\\t<!-- \\xec\\x98\\x81\\xed\\x99\\x94\\xed\\x8f\\xac\\xec\\x8a\\xa4\\xed\\x84\\xb0\\xeb\\x8a\\x94 \\xec\\xb5\\x9c\\xeb\\x8c\\x80 5\\xea\\xb0\\x9c\\xea\\xb9\\x8c\\xec\\xa7\\x80\\xeb\\xa7\\x8c -->\\r\\n\\t\\t\\t\\t\\t<ul class=\"mov_list\">\\r\\n\\t\\t\\t\\t\\t\\t\\r\\n\\t\\t\\t\\t\\t\\t\\t<li>\\r\\n\\t\\t\\t\\t\\t\\t\\t\\t<a href=\"/movie/info/?movie_id=57227\">\\r\\n\\t\\t\\t\\t\\t\\t\\t\\t\\t<img src=\"https://image.cine21.com/resize/cine21/poster/2021/0928/10_31_26__6152706e344e6[X85,120].jpg\" alt=\"\" class=\"thumb\"  target=\"_blank\" />\\r\\n\\t\\t\\t\\t\\t\\t\\t\\t\\t<span>\\xea\\xb8\\xb0\\xec\\xa0\\x81</span>\\r\\n\\t\\t\\t\\t\\t\\t\\t\\t</a>\\r\\n\\t\\t\\t\\t\\t\\t\\t</li>\\r\\n\\t\\t\\t\\t\\t\\t\\t\\t\\t\\t\\t</ul>\\r\\n\\t\\t\\t\\t\\t<!-- \\xec\\x88\\x9c\\xec\\x9c\\x84 --><span class=\"grade\">3</span>\\r\\n\\t\\t\\t\\t</li>\\r\\n\\t\\t\\t\\t<li class=\"people_li\">\\r\\n\\t\\t\\t\\t\\t<a href=\"/db/person/info/?person_id=70020\"><img src=\"https://image.cine21.com/resize/cine21/person/2009/1116/P0000006_04[X145,145].jpg\" alt=\"\" class=\"people_thumb\" target=\"_blank\" /></a>\\r\\n\\t\\t\\t\\t\\t<div class=\"name\"><a href=\"/db/person/info/?person_id=70020\">\\xeb\\x85\\xb8\\xed\\x9a\\x8c\\xec\\xb0\\xac(1\\xed\\x8e\\xb8)</a></div>\\r\\n\\t\\t\\t\\t\\t<ul class=\"num_info\">\\r\\n\\t\\t\\t\\t\\t\\t<li><span class=\"tit\">\\xed\\x9d\\xa5\\xed\\x96\\x89\\xec\\xa7\\x80\\xec\\x88\\x98</span><strong>51,594</strong></li>\\r\\n\\t\\t\\t\\t\\t\\t<!--\\r\\n\\t\\t\\t\\t\\t\\t<li><a href=\"#\" class=\"btn_graph\"><span class=\"ico\"></span><span>\\xed\\x9d\\xa5\\xed\\x96\\x89\\xec\\x84\\xb1\\xec\\xa0\\x81<br />\\xea\\xb7\\xb8\\xeb\\x9e\\x98\\xed\\x94\\x84\\xeb\\xa1\\x9c \\xeb\\xb3\\xb4\\xea\\xb8\\xb0</span></a></li>\\r\\n\\t\\t\\t\\t\\t\\t-->\\r\\n\\t\\t\\t\\t\\t</ul>\\r\\n\\t\\t\\t\\t\\t<!-- \\xec\\x98\\x81\\xed\\x99\\x94\\xed\\x8f\\xac\\xec\\x8a\\xa4\\xed\\x84\\xb0\\xeb\\x8a\\x94 \\xec\\xb5\\x9c\\xeb\\x8c\\x80 5\\xea\\xb0\\x9c\\xea\\xb9\\x8c\\xec\\xa7\\x80\\xeb\\xa7\\x8c -->\\r\\n\\t\\t\\t\\t\\t<ul class=\"mov_list\">\\r\\n\\t\\t\\t\\t\\t\\t\\r\\n\\t\\t\\t\\t\\t\\t\\t<li>\\r\\n\\t\\t\\t\\t\\t\\t\\t\\t<a href=\"/movie/info/?movie_id=57921\">\\r\\n\\t\\t\\t\\t\\t\\t\\t\\t\\t<img src=\"https://image.cine21.com/resize/cine21/poster/2021/1018/57921_616cc9dd3e72a[X85,120].jpg\" alt=\"\" class=\"thumb\"  target=\"_blank\" />\\r\\n\\t\\t\\t\\t\\t\\t\\t\\t\\t<span>\\xeb\\x85\\xb8\\xed\\x9a\\x8c\\xec\\xb0\\xac6411</span>\\r\\n\\t\\t\\t\\t\\t\\t\\t\\t</a>\\r\\n\\t\\t\\t\\t\\t\\t\\t</li>\\r\\n\\t\\t\\t\\t\\t\\t\\t\\t\\t\\t\\t</ul>\\r\\n\\t\\t\\t\\t\\t<!-- \\xec\\x88\\x9c\\xec\\x9c\\x84 --><span class=\"grade\">4</span>\\r\\n\\t\\t\\t\\t</li>\\r\\n\\t\\t\\t\\t<li class=\"people_li\">\\r\\n\\t\\t\\t\\t\\t<a href=\"/db/person/info/?person_id=96165\"><img src=\"https://image.cine21.com/resize/cine21/still/2017/1207/13_59_25__5a28caad303f8[X145,145].jpg\" alt=\"\" class=\"people_thumb\" target=\"_blank\" /></a>\\r\\n\\t\\t\\t\\t\\t<div class=\"name\"><a href=\"/db/person/info/?person_id=96165\">\\xec\\x9d\\xb4\\xec\\x88\\x98\\xea\\xb2\\xbd(1\\xed\\x8e\\xb8)</a></div>\\r\\n\\t\\t\\t\\t\\t<ul class=\"num_info\">\\r\\n\\t\\t\\t\\t\\t\\t<li><span class=\"tit\">\\xed\\x9d\\xa5\\xed\\x96\\x89\\xec\\xa7\\x80\\xec\\x88\\x98</span><strong>40,431</strong></li>\\r\\n\\t\\t\\t\\t\\t\\t<!--\\r\\n\\t\\t\\t\\t\\t\\t<li><a href=\"#\" class=\"btn_graph\"><span class=\"ico\"></span><span>\\xed\\x9d\\xa5\\xed\\x96\\x89\\xec\\x84\\xb1\\xec\\xa0\\x81<br />\\xea\\xb7\\xb8\\xeb\\x9e\\x98\\xed\\x94\\x84\\xeb\\xa1\\x9c \\xeb\\xb3\\xb4\\xea\\xb8\\xb0</span></a></li>\\r\\n\\t\\t\\t\\t\\t\\t-->\\r\\n\\t\\t\\t\\t\\t</ul>\\r\\n\\t\\t\\t\\t\\t<!-- \\xec\\x98\\x81\\xed\\x99\\x94\\xed\\x8f\\xac\\xec\\x8a\\xa4\\xed\\x84\\xb0\\xeb\\x8a\\x94 \\xec\\xb5\\x9c\\xeb\\x8c\\x80 5\\xea\\xb0\\x9c\\xea\\xb9\\x8c\\xec\\xa7\\x80\\xeb\\xa7\\x8c -->\\r\\n\\t\\t\\t\\t\\t<ul class=\"mov_list\">\\r\\n\\t\\t\\t\\t\\t\\t\\r\\n\\t\\t\\t\\t\\t\\t\\t<li>\\r\\n\\t\\t\\t\\t\\t\\t\\t\\t<a href=\"/movie/info/?movie_id=57227\">\\r\\n\\t\\t\\t\\t\\t\\t\\t\\t\\t<img src=\"https://image.cine21.com/resize/cine21/poster/2021/0928/10_31_26__6152706e344e6[X85,120].jpg\" alt=\"\" class=\"thumb\"  target=\"_blank\" />\\r\\n\\t\\t\\t\\t\\t\\t\\t\\t\\t<span>\\xea\\xb8\\xb0\\xec\\xa0\\x81</span>\\r\\n\\t\\t\\t\\t\\t\\t\\t\\t</a>\\r\\n\\t\\t\\t\\t\\t\\t\\t</li>\\r\\n\\t\\t\\t\\t\\t\\t\\t\\t\\t\\t\\t</ul>\\r\\n\\t\\t\\t\\t\\t<!-- \\xec\\x88\\x9c\\xec\\x9c\\x84 --><span class=\"grade\">5</span>\\r\\n\\t\\t\\t\\t</li>\\r\\n\\t\\t\\t\\t<li class=\"people_li\">\\r\\n\\t\\t\\t\\t\\t<a href=\"/db/person/info/?person_id=32987\"><img src=\"https://image.cine21.com/resize/cine21/person/2021/0713/19_03_32__60ed64f4d30da[X145,145].jpg\" alt=\"\" class=\"people_thumb\" target=\"_blank\" /></a>\\r\\n\\t\\t\\t\\t\\t<div class=\"name\"><a href=\"/db/person/info/?person_id=32987\">\\xeb\\xb0\\x95\\xec\\x98\\x81\\xeb\\x82\\xa8(1\\xed\\x8e\\xb8)</a></div>\\r\\n\\t\\t\\t\\t\\t<ul class=\"num_info\">\\r\\n\\t\\t\\t\\t\\t\\t<li><span class=\"tit\">\\xed\\x9d\\xa5\\xed\\x96\\x89\\xec\\xa7\\x80\\xec\\x88\\x98</span><strong>27,908</strong></li>\\r\\n\\t\\t\\t\\t\\t\\t<!--\\r\\n\\t\\t\\t\\t\\t\\t<li><a href=\"#\" class=\"btn_graph\"><span class=\"ico\"></span><span>\\xed\\x9d\\xa5\\xed\\x96\\x89\\xec\\x84\\xb1\\xec\\xa0\\x81<br />\\xea\\xb7\\xb8\\xeb\\x9e\\x98\\xed\\x94\\x84\\xeb\\xa1\\x9c \\xeb\\xb3\\xb4\\xea\\xb8\\xb0</span></a></li>\\r\\n\\t\\t\\t\\t\\t\\t-->\\r\\n\\t\\t\\t\\t\\t</ul>\\r\\n\\t\\t\\t\\t\\t<!-- \\xec\\x98\\x81\\xed\\x99\\x94\\xed\\x8f\\xac\\xec\\x8a\\xa4\\xed\\x84\\xb0\\xeb\\x8a\\x94 \\xec\\xb5\\x9c\\xeb\\x8c\\x80 5\\xea\\xb0\\x9c\\xea\\xb9\\x8c\\xec\\xa7\\x80\\xeb\\xa7\\x8c -->\\r\\n\\t\\t\\t\\t\\t<ul class=\"mov_list\">\\r\\n\\t\\t\\t\\t\\t\\t\\r\\n\\t\\t\\t\\t\\t\\t\\t<li>\\r\\n\\t\\t\\t\\t\\t\\t\\t\\t<a href=\"/movie/info/?movie_id=58107\">\\r\\n\\t\\t\\t\\t\\t\\t\\t\\t\\t<img src=\"https://image.cine21.com/resize/cine21/poster/2021/0903/11_52_57__61318e09828ca[X85,120].jpg\" alt=\"\" class=\"thumb\"  target=\"_blank\" />\\r\\n\\t\\t\\t\\t\\t\\t\\t\\t\\t<span>\\xea\\xb7\\xb9\\xec\\x9e\\xa5\\xed\\x8c\\x90 \\xec\\xa7\\xb1\\xea\\xb5\\xac\\xeb\\x8a\\x94 \\xeb\\xaa\\xbb\\xeb\\xa7\\x90\\xeb\\xa0\\xa4: \\xea\\xb2\\xa9\\xeb\\x8f\\x8c! \\xeb\\x82\\x99\\xec\\x84\\x9c\\xec\\x99\\x95\\xea\\xb5\\xad\\xea\\xb3\\xbc \\xec\\x96\\xbc\\xec\\xb6\\x94 \\xeb\\x84\\xa4 \\xeb\\xaa\\x85\\xec\\x9d\\x98 \\xec\\x9a\\xa9\\xec\\x82\\xac\\xeb\\x93\\xa4</span>\\r\\n\\t\\t\\t\\t\\t\\t\\t\\t</a>\\r\\n\\t\\t\\t\\t\\t\\t\\t</li>\\r\\n\\t\\t\\t\\t\\t\\t\\t\\t\\t\\t\\t</ul>\\r\\n\\t\\t\\t\\t\\t<!-- \\xec\\x88\\x9c\\xec\\x9c\\x84 --><span class=\"grade\">6</span>\\r\\n\\t\\t\\t\\t</li>\\r\\n\\t\\t\\t\\t<li class=\"people_li\">\\r\\n\\t\\t\\t\\t\\t<a href=\"/db/person/info/?person_id=74727\"><img src=\"https://image.cine21.com/resize/cine21/person/2021/0713/19_05_58__60ed65866f3cd[X145,145].jpg\" alt=\"\" class=\"people_thumb\" target=\"_blank\" /></a>\\r\\n\\t\\t\\t\\t\\t<div class=\"name\"><a href=\"/db/person/info/?person_id=74727\">\\xea\\xb9\\x80\\xed\\x99\\x98\\xec\\xa7\\x84(1\\xed\\x8e\\xb8)</a></div>\\r\\n\\t\\t\\t\\t\\t<ul class=\"num_info\">\\r\\n\\t\\t\\t\\t\\t\\t<li><span class=\"tit\">\\xed\\x9d\\xa5\\xed\\x96\\x89\\xec\\xa7\\x80\\xec\\x88\\x98</span><strong>24,419</strong></li>\\r\\n\\t\\t\\t\\t\\t\\t<!--\\r\\n\\t\\t\\t\\t\\t\\t<li><a href=\"#\" class=\"btn_graph\"><span class=\"ico\"></span><span>\\xed\\x9d\\xa5\\xed\\x96\\x89\\xec\\x84\\xb1\\xec\\xa0\\x81<br />\\xea\\xb7\\xb8\\xeb\\x9e\\x98\\xed\\x94\\x84\\xeb\\xa1\\x9c \\xeb\\xb3\\xb4\\xea\\xb8\\xb0</span></a></li>\\r\\n\\t\\t\\t\\t\\t\\t-->\\r\\n\\t\\t\\t\\t\\t</ul>\\r\\n\\t\\t\\t\\t\\t<!-- \\xec\\x98\\x81\\xed\\x99\\x94\\xed\\x8f\\xac\\xec\\x8a\\xa4\\xed\\x84\\xb0\\xeb\\x8a\\x94 \\xec\\xb5\\x9c\\xeb\\x8c\\x80 5\\xea\\xb0\\x9c\\xea\\xb9\\x8c\\xec\\xa7\\x80\\xeb\\xa7\\x8c -->\\r\\n\\t\\t\\t\\t\\t<ul class=\"mov_list\">\\r\\n\\t\\t\\t\\t\\t\\t\\r\\n\\t\\t\\t\\t\\t\\t\\t<li>\\r\\n\\t\\t\\t\\t\\t\\t\\t\\t<a href=\"/movie/info/?movie_id=58107\">\\r\\n\\t\\t\\t\\t\\t\\t\\t\\t\\t<img src=\"https://image.cine21.com/resize/cine21/poster/2021/0903/11_52_57__61318e09828ca[X85,120].jpg\" alt=\"\" class=\"thumb\"  target=\"_blank\" />\\r\\n\\t\\t\\t\\t\\t\\t\\t\\t\\t<span>\\xea\\xb7\\xb9\\xec\\x9e\\xa5\\xed\\x8c\\x90 \\xec\\xa7\\xb1\\xea\\xb5\\xac\\xeb\\x8a\\x94 \\xeb\\xaa\\xbb\\xeb\\xa7\\x90\\xeb\\xa0\\xa4: \\xea\\xb2\\xa9\\xeb\\x8f\\x8c! \\xeb\\x82\\x99\\xec\\x84\\x9c\\xec\\x99\\x95\\xea\\xb5\\xad\\xea\\xb3\\xbc \\xec\\x96\\xbc\\xec\\xb6\\x94 \\xeb\\x84\\xa4 \\xeb\\xaa\\x85\\xec\\x9d\\x98 \\xec\\x9a\\xa9\\xec\\x82\\xac\\xeb\\x93\\xa4</span>\\r\\n\\t\\t\\t\\t\\t\\t\\t\\t</a>\\r\\n\\t\\t\\t\\t\\t\\t\\t</li>\\r\\n\\t\\t\\t\\t\\t\\t\\t\\t\\t\\t\\t</ul>\\r\\n\\t\\t\\t\\t\\t<!-- \\xec\\x88\\x9c\\xec\\x9c\\x84 --><span class=\"grade\">7</span>\\r\\n\\t\\t\\t\\t</li>\\r\\n\\t\\t\\t</ul>\\r\\n\\r\\n\\r\\n\\t\\t\\t\\t<div class=\"pagination\"><a href=\"javascript:fetch_list(1)\" class=\"btn_first\"><span class=\"hidden\">\\xec\\xb2\\x98\\xec\\x9d\\x8c\\xec\\x9c\\xbc\\xeb\\xa1\\x9c</span><span class=\"ico\"></span></a><div class=\"page\"><a href=\"javascript:;\" class=\"on\">1</a><a href=\"javascript:fetch_list(2)\">2</a><a href=\"javascript:fetch_list(3)\">3</a><a href=\"javascript:fetch_list(4)\">4</a><a href=\"javascript:fetch_list(5)\">5</a><a href=\"javascript:fetch_list(6)\">6</a><a href=\"javascript:fetch_list(7)\">7</a><a href=\"javascript:fetch_list(8)\">8</a><a href=\"javascript:fetch_list(9)\">9</a><a href=\"javascript:fetch_list(10)\">10</a></div><a href=\"javascript:fetch_list(11)\" class=\"btn_next\"><span class=\"hidden\">\\xeb\\x8b\\xa4\\xec\\x9d\\x8c</span><span class=\"ico\"></span></a><a href=\"javascript:fetch_list(73)\" class=\"btn_end\"><span class=\"hidden\">\\xeb\\x81\\x9d\\xec\\x9c\\xbc\\xeb\\xa1\\x9c</span><span class=\"ico\"></span></a>\\t\\t\\t\\t</div>'"
      ]
     },
     "execution_count": 12,
     "metadata": {},
     "output_type": "execute_result"
    }
   ],
   "source": [
    "response.content"
   ]
  },
  {
   "cell_type": "code",
   "execution_count": 13,
   "metadata": {},
   "outputs": [
    {
     "data": {
      "text/plain": [
       "['__attrs__',\n",
       " '__bool__',\n",
       " '__class__',\n",
       " '__delattr__',\n",
       " '__dict__',\n",
       " '__dir__',\n",
       " '__doc__',\n",
       " '__enter__',\n",
       " '__eq__',\n",
       " '__exit__',\n",
       " '__format__',\n",
       " '__ge__',\n",
       " '__getattribute__',\n",
       " '__getstate__',\n",
       " '__gt__',\n",
       " '__hash__',\n",
       " '__init__',\n",
       " '__init_subclass__',\n",
       " '__iter__',\n",
       " '__le__',\n",
       " '__lt__',\n",
       " '__module__',\n",
       " '__ne__',\n",
       " '__new__',\n",
       " '__nonzero__',\n",
       " '__reduce__',\n",
       " '__reduce_ex__',\n",
       " '__repr__',\n",
       " '__setattr__',\n",
       " '__setstate__',\n",
       " '__sizeof__',\n",
       " '__str__',\n",
       " '__subclasshook__',\n",
       " '__weakref__',\n",
       " '_content',\n",
       " '_content_consumed',\n",
       " '_next',\n",
       " 'apparent_encoding',\n",
       " 'close',\n",
       " 'connection',\n",
       " 'content',\n",
       " 'cookies',\n",
       " 'elapsed',\n",
       " 'encoding',\n",
       " 'headers',\n",
       " 'history',\n",
       " 'is_permanent_redirect',\n",
       " 'is_redirect',\n",
       " 'iter_content',\n",
       " 'iter_lines',\n",
       " 'json',\n",
       " 'links',\n",
       " 'next',\n",
       " 'ok',\n",
       " 'raise_for_status',\n",
       " 'raw',\n",
       " 'reason',\n",
       " 'request',\n",
       " 'status_code',\n",
       " 'text',\n",
       " 'url']"
      ]
     },
     "execution_count": 13,
     "metadata": {},
     "output_type": "execute_result"
    }
   ],
   "source": [
    "dir(response)"
   ]
  },
  {
   "cell_type": "code",
   "execution_count": 14,
   "metadata": {},
   "outputs": [
    {
     "data": {
      "text/plain": [
       "<PreparedRequest [POST]>"
      ]
     },
     "execution_count": 14,
     "metadata": {},
     "output_type": "execute_result"
    }
   ],
   "source": [
    "response.request"
   ]
  },
  {
   "cell_type": "code",
   "execution_count": 15,
   "metadata": {},
   "outputs": [
    {
     "data": {
      "text/plain": [
       "'OK'"
      ]
     },
     "execution_count": 15,
     "metadata": {},
     "output_type": "execute_result"
    }
   ],
   "source": [
    "response.reason"
   ]
  },
  {
   "cell_type": "code",
   "execution_count": 23,
   "metadata": {},
   "outputs": [
    {
     "data": {
      "text/plain": [
       "['__call__',\n",
       " '__class__',\n",
       " '__delattr__',\n",
       " '__dir__',\n",
       " '__doc__',\n",
       " '__eq__',\n",
       " '__format__',\n",
       " '__func__',\n",
       " '__ge__',\n",
       " '__get__',\n",
       " '__getattribute__',\n",
       " '__gt__',\n",
       " '__hash__',\n",
       " '__init__',\n",
       " '__init_subclass__',\n",
       " '__le__',\n",
       " '__lt__',\n",
       " '__ne__',\n",
       " '__new__',\n",
       " '__reduce__',\n",
       " '__reduce_ex__',\n",
       " '__repr__',\n",
       " '__self__',\n",
       " '__setattr__',\n",
       " '__sizeof__',\n",
       " '__str__',\n",
       " '__subclasshook__']"
      ]
     },
     "execution_count": 23,
     "metadata": {},
     "output_type": "execute_result"
    }
   ],
   "source": [
    "dir(response.json)"
   ]
  },
  {
   "cell_type": "code",
   "execution_count": null,
   "metadata": {
    "scrolled": true
   },
   "outputs": [],
   "source": [
    "# 정규 표현식 참고 : https://regexr.com/\n",
    "# 문자, 숫자를 찾음 : \\w\n",
    "# 특수 기호 () 문자로 인식 : \\( \\)\n",
    "\n",
    "# 2. 반복 표현 ?, *, +\n",
    "# + : 앞 문자가 1번 또는 그 이상 반복되는 패턴\n",
    "# ? : 앞 문자가 0번 또는 1번 표시되는 패턴(없어도 되고, 한번 있어도 되는 패턴)\n",
    "# * : 앞 문자가 0번 또는 그이상 반복되는 패턴\n",
    "import re\n",
    "test_data = '마동석(17편)'\n",
    "#re.sub('정규표현식', '변경데이터', test_data)\n",
    "print(re.sub(\"\\(\\w+\\)\", \"\", test_data))"
   ]
  },
  {
   "cell_type": "code",
   "execution_count": null,
   "metadata": {},
   "outputs": [],
   "source": [
    "# [실습]\n",
    "# 한 페이지 내의 배우이름만 가져오기\n",
    "import re\n",
    "\n"
   ]
  },
  {
   "cell_type": "markdown",
   "metadata": {},
   "source": [
    "### 각 배우별 상세 정보를 document에 넣고 싶다.\n",
    "* 각 배우별 상세 정보를 별도 컬럼으로 만들려했더니, 각 배우별 상세 정보 항목이 다르다!\n",
    "* 모든 상세 정보 항목을 컬럼으로 만들고, 각 컬럼에 매칭되는 컬럼값을 넣기가 쉽지 않다. 코드도 복잡하고!\n",
    "* Mongodb는 NoSQL -> 통째로 집어넣자.!"
   ]
  },
  {
   "cell_type": "markdown",
   "metadata": {},
   "source": [
    "* embedded document\n",
    "  - document 의 컬럼값으로 document를 넣을 수 있다."
   ]
  },
  {
   "cell_type": "code",
   "execution_count": null,
   "metadata": {},
   "outputs": [],
   "source": []
  },
  {
   "cell_type": "code",
   "execution_count": null,
   "metadata": {},
   "outputs": [],
   "source": []
  },
  {
   "cell_type": "code",
   "execution_count": null,
   "metadata": {},
   "outputs": [],
   "source": []
  },
  {
   "cell_type": "code",
   "execution_count": null,
   "metadata": {},
   "outputs": [],
   "source": []
  },
  {
   "cell_type": "code",
   "execution_count": null,
   "metadata": {},
   "outputs": [],
   "source": []
  },
  {
   "cell_type": "markdown",
   "metadata": {},
   "source": [
    "### 흥행지수 뽑기"
   ]
  },
  {
   "cell_type": "code",
   "execution_count": null,
   "metadata": {},
   "outputs": [],
   "source": []
  },
  {
   "cell_type": "code",
   "execution_count": null,
   "metadata": {},
   "outputs": [],
   "source": []
  },
  {
   "cell_type": "code",
   "execution_count": null,
   "metadata": {},
   "outputs": [],
   "source": []
  },
  {
   "cell_type": "code",
   "execution_count": null,
   "metadata": {},
   "outputs": [],
   "source": []
  },
  {
   "cell_type": "code",
   "execution_count": null,
   "metadata": {},
   "outputs": [],
   "source": []
  },
  {
   "cell_type": "markdown",
   "metadata": {},
   "source": [
    "### 각 배우별 출연 영화를 document에 저장하고 싶다.\n",
    "  - 출연 영화는 한 개가 될 수도 있고, 여러 개가 될 수도 있음\n",
    "  - 파이썬은 리스트, mongodb document는 컬럼에 배열(array)로 넣으면 됨 "
   ]
  },
  {
   "cell_type": "code",
   "execution_count": null,
   "metadata": {},
   "outputs": [],
   "source": []
  },
  {
   "cell_type": "code",
   "execution_count": null,
   "metadata": {},
   "outputs": [],
   "source": []
  },
  {
   "cell_type": "code",
   "execution_count": null,
   "metadata": {},
   "outputs": [],
   "source": []
  },
  {
   "cell_type": "code",
   "execution_count": null,
   "metadata": {},
   "outputs": [],
   "source": []
  },
  {
   "cell_type": "markdown",
   "metadata": {},
   "source": [
    "### insert_one() 로 하나씩 데이터 입력하기 (반복문과 함께 사용하면, 여러 데이터를 넣을 수 있음)"
   ]
  },
  {
   "cell_type": "markdown",
   "metadata": {},
   "source": [
    "- actor_list: 배우 이름\n",
    "- actor_details: 배우 상세 정보\n",
    "- actor_rate: 흥행 지수\n",
    "- date: 기준월\n",
    "- movie_list: 출연 영화 리스트!"
   ]
  },
  {
   "cell_type": "code",
   "execution_count": null,
   "metadata": {},
   "outputs": [],
   "source": []
  },
  {
   "cell_type": "code",
   "execution_count": null,
   "metadata": {},
   "outputs": [],
   "source": []
  },
  {
   "cell_type": "code",
   "execution_count": null,
   "metadata": {},
   "outputs": [],
   "source": []
  },
  {
   "cell_type": "code",
   "execution_count": null,
   "metadata": {},
   "outputs": [],
   "source": []
  },
  {
   "cell_type": "markdown",
   "metadata": {},
   "source": [
    "### collection 삭제하기"
   ]
  },
  {
   "cell_type": "code",
   "execution_count": null,
   "metadata": {},
   "outputs": [],
   "source": []
  },
  {
   "cell_type": "code",
   "execution_count": null,
   "metadata": {},
   "outputs": [],
   "source": []
  },
  {
   "cell_type": "code",
   "execution_count": null,
   "metadata": {
    "collapsed": true,
    "scrolled": true
   },
   "outputs": [],
   "source": [
    "# collection drop\n",
    "actor_collection.drop()"
   ]
  },
  {
   "cell_type": "code",
   "execution_count": null,
   "metadata": {
    "collapsed": true,
    "scrolled": true
   },
   "outputs": [],
   "source": [
    "# collection 찾기\n",
    "docs = actor_collection.find()\n",
    "docs"
   ]
  },
  {
   "cell_type": "code",
   "execution_count": null,
   "metadata": {
    "collapsed": true,
    "scrolled": true
   },
   "outputs": [],
   "source": [
    "for doc in docs:\n",
    "    print(doc)"
   ]
  },
  {
   "cell_type": "markdown",
   "metadata": {},
   "source": [
    "### Dictionary 타입으로 만들어서 한번에 insert_many() 로 데이터 입력하기"
   ]
  },
  {
   "cell_type": "code",
   "execution_count": null,
   "metadata": {},
   "outputs": [],
   "source": []
  },
  {
   "cell_type": "code",
   "execution_count": null,
   "metadata": {},
   "outputs": [],
   "source": []
  },
  {
   "cell_type": "code",
   "execution_count": null,
   "metadata": {},
   "outputs": [],
   "source": []
  },
  {
   "cell_type": "markdown",
   "metadata": {},
   "source": [
    "### Update (컬럼명 변경 예제)"
   ]
  },
  {
   "cell_type": "code",
   "execution_count": null,
   "metadata": {},
   "outputs": [],
   "source": []
  },
  {
   "cell_type": "code",
   "execution_count": null,
   "metadata": {},
   "outputs": [],
   "source": []
  },
  {
   "cell_type": "code",
   "execution_count": null,
   "metadata": {},
   "outputs": [],
   "source": []
  },
  {
   "cell_type": "code",
   "execution_count": null,
   "metadata": {},
   "outputs": [],
   "source": []
  },
  {
   "cell_type": "markdown",
   "metadata": {},
   "source": [
    "### 컬렉션 객체 이름도 바꿀 수 있겠지요\n",
    "actor_collection -> actors_info 로 변경"
   ]
  },
  {
   "cell_type": "code",
   "execution_count": null,
   "metadata": {},
   "outputs": [],
   "source": []
  },
  {
   "cell_type": "code",
   "execution_count": null,
   "metadata": {},
   "outputs": [],
   "source": []
  },
  {
   "cell_type": "code",
   "execution_count": null,
   "metadata": {},
   "outputs": [],
   "source": []
  },
  {
   "cell_type": "code",
   "execution_count": null,
   "metadata": {},
   "outputs": [],
   "source": []
  }
 ],
 "metadata": {
  "interpreter": {
   "hash": "33b0c032e04388c0be1572b4c64e4f6e2fa9cda7ba5f9f285430d52a126a80b7"
  },
  "kernelspec": {
   "display_name": "Python 3.8.10 64-bit ('datavenv': venv)",
   "name": "python3"
  },
  "language_info": {
   "codemirror_mode": {
    "name": "ipython",
    "version": 3
   },
   "file_extension": ".py",
   "mimetype": "text/x-python",
   "name": "python",
   "nbconvert_exporter": "python",
   "pygments_lexer": "ipython3",
   "version": "3.8.10"
  },
  "nbTranslate": {
   "displayLangs": [
    "*"
   ],
   "hotkey": "alt-t",
   "langInMainMenu": true,
   "sourceLang": "en",
   "targetLang": "fr",
   "useGoogleTranslate": true
  }
 },
 "nbformat": 4,
 "nbformat_minor": 1
}
