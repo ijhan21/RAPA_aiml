{
 "cells": [
  {
   "cell_type": "code",
   "execution_count": 4,
   "metadata": {},
   "outputs": [],
   "source": [
    "import pyglet\n",
    "import random\n",
    "import time\n",
    "\n",
    "# enter key => 10\n",
    "window = pyglet.window.Window()\n",
    "label1 = None\n",
    "label2 = None\n",
    "question = \"\"\n",
    "answer = \"\"\n",
    "words = list()\n",
    "init_flag = True\n",
    "que_word=None\n",
    "corr_cnt = 0\n",
    "\n",
    "with open('./data/word.txt', 'r') as f:  # 문제 txt 파일 로드\n",
    "    for c in f:\n",
    "        words.append(c.strip())\n",
    "@window.event\n",
    "def on_key_press(symbol, modifiers):\n",
    "    global label1, label2, answer, question, init_flag, que_word, corr_cnt\n",
    "    if init_flag:\n",
    "        random.shuffle(words)                    # List shuffle!\n",
    "        que_word = random.choice(words)                 # List -> words random extract!                \n",
    "        init_flag=False\n",
    "    \n",
    "    elif symbol == 65293: # 65293 -> enter\n",
    "\n",
    "        if str(que_word).strip() == str(answer).strip():     # 입력 확인(공백제거)\n",
    "                good_sound = pyglet.resource.media(                  # 정답 소리 재생\n",
    "                    'assets/good.wav',\n",
    "                )\n",
    "                good_sound.play()        \n",
    "                que_word = \"Pass!\"\n",
    "                corr_cnt += 1                         # 정답 개수 카운트\n",
    "        else:\n",
    "            \n",
    "            bad_sound = pyglet.resource.media(              # 오답 소리 재생\n",
    "                'assets/bad.wav',\n",
    "            )\n",
    "            bad_sound.play()        \n",
    "            que_word = \"Wrong!\"\n",
    "            question=\"\"\n",
    "        answer=\"\"            \n",
    "\n",
    "    answer += chr(symbol)\n",
    "    # print('A key was pressed', symbol, modifiers)\n",
    "    label1 = pyglet.text.Label(que_word+'\\n',\n",
    "                          font_name='Times New Roman',\n",
    "                          font_size=36,\n",
    "                          x=window.width//2, y=window.height//2,\n",
    "                          anchor_x='center', anchor_y='center')\n",
    "    label2 = pyglet.text.Label(answer,\n",
    "                          font_name='Times New Roman',\n",
    "                          font_size=36,\n",
    "                          x=window.width//2, y=window.height//2,\n",
    "                          anchor_x='center', anchor_y='center')\n",
    "@window.event\n",
    "def on_draw():\n",
    "    global label2\n",
    "    window.clear()\n",
    "    if label2 is not None:\n",
    "        label1.draw()\n",
    "        label2.draw()\n",
    "\n",
    "pyglet.app.run()"
   ]
  },
  {
   "cell_type": "code",
   "execution_count": 2,
   "metadata": {},
   "outputs": [
    {
     "ename": "NameError",
     "evalue": "name 'words' is not defined",
     "output_type": "error",
     "traceback": [
      "\u001b[0;31m---------------------------------------------------------------------------\u001b[0m",
      "\u001b[0;31mNameError\u001b[0m                                 Traceback (most recent call last)",
      "\u001b[0;32m/tmp/ipykernel_1500833/3163479128.py\u001b[0m in \u001b[0;36m<module>\u001b[0;34m\u001b[0m\n\u001b[1;32m      1\u001b[0m \u001b[0;32mwith\u001b[0m \u001b[0mopen\u001b[0m\u001b[0;34m(\u001b[0m\u001b[0;34m'./data/word.txt'\u001b[0m\u001b[0;34m,\u001b[0m \u001b[0;34m'r'\u001b[0m\u001b[0;34m)\u001b[0m \u001b[0;32mas\u001b[0m \u001b[0mf\u001b[0m\u001b[0;34m:\u001b[0m  \u001b[0;31m# 문제 txt 파일 로드\u001b[0m\u001b[0;34m\u001b[0m\u001b[0;34m\u001b[0m\u001b[0m\n\u001b[1;32m      2\u001b[0m     \u001b[0;32mfor\u001b[0m \u001b[0mc\u001b[0m \u001b[0;32min\u001b[0m \u001b[0mf\u001b[0m\u001b[0;34m:\u001b[0m\u001b[0;34m\u001b[0m\u001b[0;34m\u001b[0m\u001b[0m\n\u001b[0;32m----> 3\u001b[0;31m         \u001b[0mwords\u001b[0m\u001b[0;34m.\u001b[0m\u001b[0mappend\u001b[0m\u001b[0;34m(\u001b[0m\u001b[0mc\u001b[0m\u001b[0;34m.\u001b[0m\u001b[0mstrip\u001b[0m\u001b[0;34m(\u001b[0m\u001b[0;34m)\u001b[0m\u001b[0;34m)\u001b[0m\u001b[0;34m\u001b[0m\u001b[0;34m\u001b[0m\u001b[0m\n\u001b[0m",
      "\u001b[0;31mNameError\u001b[0m: name 'words' is not defined"
     ]
    }
   ],
   "source": [
    "with open('./data/word.txt', 'r') as f:  # 문제 txt 파일 로드\n",
    "    for c in f:\n",
    "        words.append(c.strip())"
   ]
  },
  {
   "cell_type": "code",
   "execution_count": 4,
   "metadata": {},
   "outputs": [
    {
     "data": {
      "text/plain": [
       "'/home/hans/SQL/word_game'"
      ]
     },
     "execution_count": 4,
     "metadata": {},
     "output_type": "execute_result"
    }
   ],
   "source": [
    "import os\n",
    "os.getcwd()"
   ]
  }
 ],
 "metadata": {
  "interpreter": {
   "hash": "a3222b9ab2abbb2563b6345219e88405519dd359a3f539af2f522007c7bf999d"
  },
  "kernelspec": {
   "display_name": "Python 3.8.10 64-bit ('sqlVENV': venv)",
   "name": "python3"
  },
  "language_info": {
   "codemirror_mode": {
    "name": "ipython",
    "version": 3
   },
   "file_extension": ".py",
   "mimetype": "text/x-python",
   "name": "python",
   "nbconvert_exporter": "python",
   "pygments_lexer": "ipython3",
   "version": "3.8.10"
  },
  "orig_nbformat": 4
 },
 "nbformat": 4,
 "nbformat_minor": 2
}
