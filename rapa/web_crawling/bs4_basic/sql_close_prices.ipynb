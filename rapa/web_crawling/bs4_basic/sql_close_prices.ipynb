{
 "cells": [
  {
   "cell_type": "code",
   "execution_count": 7,
   "metadata": {},
   "outputs": [],
   "source": [
    "import pymysql\n",
    "from bs4 import BeautifulSoup as BS\n",
    "import requests as req"
   ]
  },
  {
   "cell_type": "code",
   "execution_count": 8,
   "metadata": {},
   "outputs": [],
   "source": [
    "conn = pymysql.connect(host='localhost', port=3306, user='hans', passwd='1234', db='hansdb')"
   ]
  },
  {
   "cell_type": "code",
   "execution_count": 17,
   "metadata": {},
   "outputs": [
    {
     "name": "stdout",
     "output_type": "stream",
     "text": [
      "INSERT INTO hansdb.company_stock(name, search_rate, close_price, pre_price, updown, volume, open_price, high, low) VALUES ('삼성전자', '2.84%',69800,'900','-1.27%',16497812,71200,71600,69700),('카카오', '0.80%',125500,'0','0.00%',1872380,125500,126500,123000),('SK하이닉스', '0.62%',103000,'3500','-3.29%',3921804,107000,108500,103000),('위메이드', '0.43%',182800,'22700','+14.18%',3268329,168700,185000,163700),('NAVER', '0.43%',407000,'6000','-1.45%',466136,413000,414500,405500),('한화솔루션', '0.43%',40850,'650','-1.57%',1164976,41900,42200,40550),('강원랜드', '0.37%',27800,'50','-0.18%',900564,27850,28000,27400),('더존비즈온', '0.37%',81300,'900','+1.12%',292951,81000,83400,80800),('한국조선해양', '0.37%',103000,'1000','+0.98%',382914,103000,106000,102000),('유한양행', '0.37%',59900,'900','-1.48%',154389,60800,61000,59900),('KINDEX 베트남VN30(합성)', '0.31%',22900,'25','+0.11%',32839,23005,23070,22865),('DGB금융지주', '0.31%',10350,'200','-1.90%',493629,10600,10650,10300),('KODEX 골드선물(H)', '0.31%',12145,'45','-0.37%',103301,12175,12175,12120),('셀트리온', '0.31%',200500,'15000','-6.96%',1478926,217000,217000,200000),('엘앤에프', '0.31%',184100,'1200','+0.66%',1168892,184900,190200,179200),('LG화학', '0.31%',836000,'14000','-1.65%',316232,850000,860000,836000),('두산중공업', '0.31%',24400,'200','+0.83%',9231202,24500,25000,24100),('삼성전자우', '0.31%',64000,'1400','-2.14%',1590805,65700,65800,64000),('현대차', '0.31%',208000,'2000','-0.95%',616255,211500,212500,206500),('롯데리츠', '0.25%',5660,'0','0.00%',355552,5640,5680,5610),('SK바이오사이언스', '0.25%',230000,'15500','-6.31%',720677,250000,252500,228000),('씨아이에스', '0.25%',18350,'700','-3.67%',4700936,19000,19200,18200),('디딤', '0.25%',1765,'20','-1.12%',166958,1785,1835,1735),('KODEX 배당성장', '0.25%',15510,'195','-1.24%',6206,15785,15820,15500),('삼성바이오로직스', '0.25%',871000,'15000','-1.69%',53862,896000,899000,866000),('KODEX 레버리지', '0.25%',22935,'740','-3.13%',24310507,23780,23885,22810),('씨젠', '0.25%',53200,'100','-0.19%',467793,54200,55100,53000),('아프리카TV', '0.25%',193000,'17000','+9.66%',421756,179000,193100,174500),('이스트소프트', '0.25%',17900,'2700','+17.76%',5664021,15800,19150,15600),('위즈코프', '0.25%',3225,'565','+21.24%',72281664,2705,3395,2600);\n"
     ]
    }
   ],
   "source": [
    "\n",
    "class Values:\n",
    "    def __init__(self,get_list):        \n",
    "        검색비율, 현재가, 전일비, 등락률, 거래량, 시가, 고가, 저가, PER,ROE = get_list\n",
    "        self.검색비율=검색비율.text.strip()\n",
    "        self.현재가=현재가.text.strip().replace(\",\",\"\")\n",
    "        self.전일비=전일비.text.strip().replace(\",\",\"\")\n",
    "        self.등락률=등락률.text.strip().replace(\",\",\"\")\n",
    "        self.거래량=거래량.text.strip().replace(\",\",\"\")\n",
    "        self.시가=시가.text.strip().replace(\",\",\"\")\n",
    "        self.고가=고가.text.strip().replace(\",\",\"\")\n",
    "        self.저가=저가.text.strip().replace(\",\",\"\")\n",
    "        self.PER=PER.text.strip()\n",
    "        self.ROE=ROE.text.strip()\n",
    "    def show(self):\n",
    "        print(f\"검색비율: {self.검색비율}, 현재가: {self.현재가}, 전일비: {self.전일비}, 등락률: {self.등락률}, 거래량: {self.거래량}, 시가: {self.시가}, 고가: {self.고가}, 저가: {self.저가}, PER: {self.PER},ROE: {self.ROE}\", end=\"\\n\")\n",
    "                \n",
    "\n",
    "url = \"https://finance.naver.com/sise/lastsearch2.nhn\"\n",
    "res = req.get(url)\n",
    "soup = BS(res.text, \"html.parser\")\n",
    "\n",
    "numbers = soup.find_all(\"td\",\"number\")\n",
    "names = soup.find_all(\"a\",\"tltle\")\n",
    "output=dict()\n",
    "for i in range(len(names)):\n",
    "    output[names[i].text]=Values(numbers[10*i:10*(1+i)])\n",
    "sql = \"INSERT INTO hansdb.company_stock(name, search_rate, close_price, pre_price, updown, volume, open_price, high, low) VALUES \"\n",
    "for k, v in output.items():\n",
    "    tmp = f\"('{k}', '{v.검색비율}',{int(v.현재가)},'{v.전일비}','{v.등락률}',{int(v.거래량)},{int(v.시가)},{int(v.고가)},{int(v.저가)}),\"\n",
    "    sql +=tmp\n",
    "sql = sql[:-1]+\";\"\n",
    "print(sql)\n",
    "cur = conn.cursor()\n",
    "cur.execute(sql)\n",
    "cur.close()\n",
    "conn.commit()\n",
    "conn.close()"
   ]
  }
 ],
 "metadata": {
  "interpreter": {
   "hash": "a3222b9ab2abbb2563b6345219e88405519dd359a3f539af2f522007c7bf999d"
  },
  "kernelspec": {
   "display_name": "Python 3.8.10 64-bit ('sqlVENV': venv)",
   "name": "python3"
  },
  "language_info": {
   "codemirror_mode": {
    "name": "ipython",
    "version": 3
   },
   "file_extension": ".py",
   "mimetype": "text/x-python",
   "name": "python",
   "nbconvert_exporter": "python",
   "pygments_lexer": "ipython3",
   "version": "3.8.10"
  },
  "orig_nbformat": 4
 },
 "nbformat": 4,
 "nbformat_minor": 2
}
