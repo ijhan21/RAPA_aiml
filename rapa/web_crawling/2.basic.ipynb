{
 "cells": [
  {
   "cell_type": "code",
   "execution_count": 2,
   "metadata": {},
   "outputs": [
    {
     "name": "stderr",
     "output_type": "stream",
     "text": [
      "/tmp/ipykernel_141858/3694740194.py:9: DeprecationWarning: executable_path has been deprecated, please pass in a Service object\n",
      "  chrome = webdriver.Chrome(driver_path, options=options)\n"
     ]
    }
   ],
   "source": [
    "from selenium import webdriver\n",
    "import time\n",
    "\n",
    "driver_path = '/home/hans/web_crawling/chromedriver_linux64/chromedriver'\n",
    "options = webdriver.ChromeOptions()\n",
    "options.add_argument(\"window-size=1000,1000\")\n",
    "options.add_argument(\"no-sandbox\")\n",
    "\n",
    "chrome = webdriver.Chrome(driver_path, options=options)\n",
    "chrome.get(\"http://naver.com\")\n",
    "chrome.get(\"http://shopping.naver.com\")\n",
    "chrome.back()\n",
    "time.sleep(2)\n",
    "chrome.forward()\n",
    "time.sleep(2)\n",
    "chrome.close()"
   ]
  }
 ],
 "metadata": {
  "interpreter": {
   "hash": "33b0c032e04388c0be1572b4c64e4f6e2fa9cda7ba5f9f285430d52a126a80b7"
  },
  "kernelspec": {
   "display_name": "Python 3.8.10 64-bit ('datavenv': venv)",
   "name": "python3"
  },
  "language_info": {
   "codemirror_mode": {
    "name": "ipython",
    "version": 3
   },
   "file_extension": ".py",
   "mimetype": "text/x-python",
   "name": "python",
   "nbconvert_exporter": "python",
   "pygments_lexer": "ipython3",
   "version": "3.8.10"
  },
  "orig_nbformat": 4
 },
 "nbformat": 4,
 "nbformat_minor": 2
}
