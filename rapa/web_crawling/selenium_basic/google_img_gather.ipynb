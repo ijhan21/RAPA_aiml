{
 "cells": [
  {
   "cell_type": "code",
   "execution_count": 2,
   "metadata": {},
   "outputs": [
    {
     "name": "stderr",
     "output_type": "stream",
     "text": [
      "[WDM] - \n",
      "\n",
      "[WDM] - ====== WebDriver manager ======\n",
      "[WDM] - Current google-chrome version is 95.0.4638\n",
      "[WDM] - Get LATEST driver version for 95.0.4638\n",
      "[WDM] - Driver [/home/hans/.wdm/drivers/chromedriver/linux64/95.0.4638.54/chromedriver] found in cache\n",
      "/tmp/ipykernel_253849/2715887135.py:11: DeprecationWarning: executable_path has been deprecated, please pass in a Service object\n",
      "  chrome = webdriver.Chrome(ChromeDriverManager().install())\n"
     ]
    }
   ],
   "source": [
    "from selenium import webdriver\n",
    "from selenium.webdriver.common.by import By\n",
    "from selenium.webdriver.support.ui import WebDriverWait\n",
    "from selenium.webdriver.support import expected_conditions as EC\n",
    "from webdriver_manager.chrome import ChromeDriverManager\n",
    "import time  \n",
    "import os\n",
    "\n",
    "names =[\"apple2orange\", \"summer2winter_yosemite\", \"horse2zebra\", \"monet2photo\", \"cezanne2photo\", \"ukiyoe2photo\", \"vangogh2photo\", \"maps\", \"cityscapes\", \"facades\", \"iphone2dslr_flower\", \"ae_photos\"]\n",
    "\n",
    "chrome = webdriver.Chrome(ChromeDriverManager().install())\n",
    "\n",
    "for name in names:\n",
    "    url = f\"https://people.eecs.berkeley.edu/~taesung_park/CycleGAN/datasets/{name}.zip\"\n",
    "    chrome.get(url)\n",
    "    time.sleep(2)\n",
    "chrome.close()"
   ]
  },
  {
   "cell_type": "code",
   "execution_count": 3,
   "metadata": {},
   "outputs": [],
   "source": [
    "chrome.quit()"
   ]
  }
 ],
 "metadata": {
  "interpreter": {
   "hash": "33b0c032e04388c0be1572b4c64e4f6e2fa9cda7ba5f9f285430d52a126a80b7"
  },
  "kernelspec": {
   "display_name": "Python 3.8.10 64-bit ('datavenv': venv)",
   "name": "python3"
  },
  "language_info": {
   "codemirror_mode": {
    "name": "ipython",
    "version": 3
   },
   "file_extension": ".py",
   "mimetype": "text/x-python",
   "name": "python",
   "nbconvert_exporter": "python",
   "pygments_lexer": "ipython3",
   "version": "3.8.10"
  },
  "orig_nbformat": 4
 },
 "nbformat": 4,
 "nbformat_minor": 2
}
