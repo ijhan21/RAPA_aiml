{
 "cells": [
  {
   "cell_type": "code",
   "execution_count": 1,
   "source": [
    "# 불필요한 경고 출력을 방지\n",
    "import warnings\n",
    "warnings.filterwarnings('ignore')"
   ],
   "outputs": [],
   "metadata": {
    "id": "r1DjW1Qx3tIo"
   }
  },
  {
   "cell_type": "code",
   "execution_count": 3,
   "source": [
    "import pandas as pd\n",
    "from sklearn.datasets import load_iris"
   ],
   "outputs": [],
   "metadata": {
    "id": "WmrMVx2NTR-n"
   }
  },
  {
   "cell_type": "code",
   "execution_count": 4,
   "source": [
    "# iris 데이터셋 로드\n",
    "iris = load_iris()"
   ],
   "outputs": [],
   "metadata": {
    "id": "F6THmBjCXUnZ"
   }
  },
  {
   "cell_type": "code",
   "execution_count": 5,
   "source": [
    "data = iris['data']\n",
    "data[:5]"
   ],
   "outputs": [
    {
     "output_type": "execute_result",
     "data": {
      "text/plain": [
       "array([[5.1, 3.5, 1.4, 0.2],\n",
       "       [4.9, 3. , 1.4, 0.2],\n",
       "       [4.7, 3.2, 1.3, 0.2],\n",
       "       [4.6, 3.1, 1.5, 0.2],\n",
       "       [5. , 3.6, 1.4, 0.2]])"
      ]
     },
     "metadata": {},
     "execution_count": 5
    }
   ],
   "metadata": {
    "colab": {
     "base_uri": "https://localhost:8080/"
    },
    "executionInfo": {
     "elapsed": 270,
     "status": "ok",
     "timestamp": 1631065027868,
     "user": {
      "displayName": "경하김",
      "photoUrl": "",
      "userId": "00010385631009285573"
     },
     "user_tz": -540
    },
    "id": "e-lfyZNBXl1E",
    "outputId": "7e67c18e-2389-49ce-bf4a-30ef1fc9409b"
   }
  },
  {
   "cell_type": "code",
   "execution_count": 6,
   "source": [
    "feature_names = iris['feature_names']\n",
    "feature_names"
   ],
   "outputs": [
    {
     "output_type": "execute_result",
     "data": {
      "text/plain": [
       "['sepal length (cm)',\n",
       " 'sepal width (cm)',\n",
       " 'petal length (cm)',\n",
       " 'petal width (cm)']"
      ]
     },
     "metadata": {},
     "execution_count": 6
    }
   ],
   "metadata": {
    "colab": {
     "base_uri": "https://localhost:8080/"
    },
    "executionInfo": {
     "elapsed": 270,
     "status": "ok",
     "timestamp": 1631065060187,
     "user": {
      "displayName": "경하김",
      "photoUrl": "",
      "userId": "00010385631009285573"
     },
     "user_tz": -540
    },
    "id": "_eD069osYWfL",
    "outputId": "17164359-87ed-463b-efd5-b2b74016f0d7"
   }
  },
  {
   "cell_type": "markdown",
   "source": [
    "* **sepal**: 꽃 받침\n",
    "* **petal**: 꽃잎"
   ],
   "metadata": {
    "id": "pRiuR6eAfc4M"
   }
  },
  {
   "cell_type": "code",
   "execution_count": 7,
   "source": [
    "target = iris['target']\n",
    "target[:5]"
   ],
   "outputs": [
    {
     "output_type": "execute_result",
     "data": {
      "text/plain": [
       "array([0, 0, 0, 0, 0])"
      ]
     },
     "metadata": {},
     "execution_count": 7
    }
   ],
   "metadata": {
    "colab": {
     "base_uri": "https://localhost:8080/"
    },
    "executionInfo": {
     "elapsed": 278,
     "status": "ok",
     "timestamp": 1631065079807,
     "user": {
      "displayName": "경하김",
      "photoUrl": "",
      "userId": "00010385631009285573"
     },
     "user_tz": -540
    },
    "id": "9Co4UPSNXujD",
    "outputId": "9b798ece-5205-49d0-ee27-afd906efcfba"
   }
  },
  {
   "cell_type": "code",
   "execution_count": 8,
   "source": [
    "iris['target_names']"
   ],
   "outputs": [
    {
     "output_type": "execute_result",
     "data": {
      "text/plain": [
       "array(['setosa', 'versicolor', 'virginica'], dtype='<U10')"
      ]
     },
     "metadata": {},
     "execution_count": 8
    }
   ],
   "metadata": {
    "colab": {
     "base_uri": "https://localhost:8080/"
    },
    "executionInfo": {
     "elapsed": 11,
     "status": "ok",
     "timestamp": 1631065080932,
     "user": {
      "displayName": "경하김",
      "photoUrl": "",
      "userId": "00010385631009285573"
     },
     "user_tz": -540
    },
    "id": "A-kcYtkhXyeA",
    "outputId": "7c00fdd8-cdb2-43a4-8562-16abef98d5f9"
   }
  },
  {
   "cell_type": "markdown",
   "source": [
    "### 데이터프레임 만들기"
   ],
   "metadata": {
    "id": "omjLhYZYYjND"
   }
  },
  {
   "cell_type": "code",
   "execution_count": 9,
   "source": [
    "df_iris = pd.DataFrame(data, columns=feature_names)"
   ],
   "outputs": [],
   "metadata": {
    "id": "bmM-eq9OXyLE"
   }
  },
  {
   "cell_type": "code",
   "execution_count": 10,
   "source": [
    "df_iris.head()"
   ],
   "outputs": [
    {
     "output_type": "execute_result",
     "data": {
      "text/html": [
       "<div>\n",
       "<style scoped>\n",
       "    .dataframe tbody tr th:only-of-type {\n",
       "        vertical-align: middle;\n",
       "    }\n",
       "\n",
       "    .dataframe tbody tr th {\n",
       "        vertical-align: top;\n",
       "    }\n",
       "\n",
       "    .dataframe thead th {\n",
       "        text-align: right;\n",
       "    }\n",
       "</style>\n",
       "<table border=\"1\" class=\"dataframe\">\n",
       "  <thead>\n",
       "    <tr style=\"text-align: right;\">\n",
       "      <th></th>\n",
       "      <th>sepal length (cm)</th>\n",
       "      <th>sepal width (cm)</th>\n",
       "      <th>petal length (cm)</th>\n",
       "      <th>petal width (cm)</th>\n",
       "    </tr>\n",
       "  </thead>\n",
       "  <tbody>\n",
       "    <tr>\n",
       "      <th>0</th>\n",
       "      <td>5.1</td>\n",
       "      <td>3.5</td>\n",
       "      <td>1.4</td>\n",
       "      <td>0.2</td>\n",
       "    </tr>\n",
       "    <tr>\n",
       "      <th>1</th>\n",
       "      <td>4.9</td>\n",
       "      <td>3.0</td>\n",
       "      <td>1.4</td>\n",
       "      <td>0.2</td>\n",
       "    </tr>\n",
       "    <tr>\n",
       "      <th>2</th>\n",
       "      <td>4.7</td>\n",
       "      <td>3.2</td>\n",
       "      <td>1.3</td>\n",
       "      <td>0.2</td>\n",
       "    </tr>\n",
       "    <tr>\n",
       "      <th>3</th>\n",
       "      <td>4.6</td>\n",
       "      <td>3.1</td>\n",
       "      <td>1.5</td>\n",
       "      <td>0.2</td>\n",
       "    </tr>\n",
       "    <tr>\n",
       "      <th>4</th>\n",
       "      <td>5.0</td>\n",
       "      <td>3.6</td>\n",
       "      <td>1.4</td>\n",
       "      <td>0.2</td>\n",
       "    </tr>\n",
       "  </tbody>\n",
       "</table>\n",
       "</div>"
      ],
      "text/plain": [
       "   sepal length (cm)  sepal width (cm)  petal length (cm)  petal width (cm)\n",
       "0                5.1               3.5                1.4               0.2\n",
       "1                4.9               3.0                1.4               0.2\n",
       "2                4.7               3.2                1.3               0.2\n",
       "3                4.6               3.1                1.5               0.2\n",
       "4                5.0               3.6                1.4               0.2"
      ]
     },
     "metadata": {},
     "execution_count": 10
    }
   ],
   "metadata": {
    "colab": {
     "base_uri": "https://localhost:8080/",
     "height": 205
    },
    "executionInfo": {
     "elapsed": 375,
     "status": "ok",
     "timestamp": 1631065140483,
     "user": {
      "displayName": "경하김",
      "photoUrl": "",
      "userId": "00010385631009285573"
     },
     "user_tz": -540
    },
    "id": "IGpLPEZPZbVe",
    "outputId": "17c0bf86-d367-4bbc-c73b-ecf8a4fd3930"
   }
  },
  {
   "cell_type": "code",
   "execution_count": 11,
   "source": [
    "df_iris['target'] = target"
   ],
   "outputs": [],
   "metadata": {
    "id": "XYbPnUXuZc7K"
   }
  },
  {
   "cell_type": "code",
   "execution_count": 12,
   "source": [
    "df_iris.head()"
   ],
   "outputs": [
    {
     "output_type": "execute_result",
     "data": {
      "text/html": [
       "<div>\n",
       "<style scoped>\n",
       "    .dataframe tbody tr th:only-of-type {\n",
       "        vertical-align: middle;\n",
       "    }\n",
       "\n",
       "    .dataframe tbody tr th {\n",
       "        vertical-align: top;\n",
       "    }\n",
       "\n",
       "    .dataframe thead th {\n",
       "        text-align: right;\n",
       "    }\n",
       "</style>\n",
       "<table border=\"1\" class=\"dataframe\">\n",
       "  <thead>\n",
       "    <tr style=\"text-align: right;\">\n",
       "      <th></th>\n",
       "      <th>sepal length (cm)</th>\n",
       "      <th>sepal width (cm)</th>\n",
       "      <th>petal length (cm)</th>\n",
       "      <th>petal width (cm)</th>\n",
       "      <th>target</th>\n",
       "    </tr>\n",
       "  </thead>\n",
       "  <tbody>\n",
       "    <tr>\n",
       "      <th>0</th>\n",
       "      <td>5.1</td>\n",
       "      <td>3.5</td>\n",
       "      <td>1.4</td>\n",
       "      <td>0.2</td>\n",
       "      <td>0</td>\n",
       "    </tr>\n",
       "    <tr>\n",
       "      <th>1</th>\n",
       "      <td>4.9</td>\n",
       "      <td>3.0</td>\n",
       "      <td>1.4</td>\n",
       "      <td>0.2</td>\n",
       "      <td>0</td>\n",
       "    </tr>\n",
       "    <tr>\n",
       "      <th>2</th>\n",
       "      <td>4.7</td>\n",
       "      <td>3.2</td>\n",
       "      <td>1.3</td>\n",
       "      <td>0.2</td>\n",
       "      <td>0</td>\n",
       "    </tr>\n",
       "    <tr>\n",
       "      <th>3</th>\n",
       "      <td>4.6</td>\n",
       "      <td>3.1</td>\n",
       "      <td>1.5</td>\n",
       "      <td>0.2</td>\n",
       "      <td>0</td>\n",
       "    </tr>\n",
       "    <tr>\n",
       "      <th>4</th>\n",
       "      <td>5.0</td>\n",
       "      <td>3.6</td>\n",
       "      <td>1.4</td>\n",
       "      <td>0.2</td>\n",
       "      <td>0</td>\n",
       "    </tr>\n",
       "  </tbody>\n",
       "</table>\n",
       "</div>"
      ],
      "text/plain": [
       "   sepal length (cm)  sepal width (cm)  petal length (cm)  petal width (cm)  \\\n",
       "0                5.1               3.5                1.4               0.2   \n",
       "1                4.9               3.0                1.4               0.2   \n",
       "2                4.7               3.2                1.3               0.2   \n",
       "3                4.6               3.1                1.5               0.2   \n",
       "4                5.0               3.6                1.4               0.2   \n",
       "\n",
       "   target  \n",
       "0       0  \n",
       "1       0  \n",
       "2       0  \n",
       "3       0  \n",
       "4       0  "
      ]
     },
     "metadata": {},
     "execution_count": 12
    }
   ],
   "metadata": {
    "colab": {
     "base_uri": "https://localhost:8080/",
     "height": 205
    },
    "executionInfo": {
     "elapsed": 288,
     "status": "ok",
     "timestamp": 1631065240960,
     "user": {
      "displayName": "경하김",
      "photoUrl": "",
      "userId": "00010385631009285573"
     },
     "user_tz": -540
    },
    "id": "_Mo6xHeXZc2y",
    "outputId": "867c4e67-3cfd-44bd-ed81-e1ea101a3470"
   }
  },
  {
   "cell_type": "markdown",
   "source": [
    "### 시각화"
   ],
   "metadata": {
    "id": "ZaU_jhjUZq3R"
   }
  },
  {
   "cell_type": "code",
   "execution_count": 13,
   "source": [
    "import matplotlib.pyplot as plt\n",
    "import seaborn as sns"
   ],
   "outputs": [],
   "metadata": {
    "id": "lt-x3tClZqsm"
   }
  },
  {
   "cell_type": "code",
   "execution_count": 14,
   "source": [
    "#sns.scatterplot(data=df_iris, x='sepal width (cm)', y='sepal length (cm)', hue='target')\n",
    "#sns.scatterplot(data=df_iris, x='sepal width (cm)', y='sepal length (cm)', hue='target', palette='brg')\n",
    "sns.scatterplot(data=df_iris, x='sepal width (cm)', y='sepal length (cm)', hue='target', palette='muted')\n",
    "plt.title('Sepal')\n",
    "plt.show()\n",
    "#'petal length (cm)', 'petal width (cm)',"
   ],
   "outputs": [
    {
     "output_type": "display_data",
     "data": {
      "image/png": "[encoded data removed]",
      "text/plain": [
       "<Figure size 432x288 with 1 Axes>"
      ]
     },
     "metadata": {
      "needs_background": "light"
     }
    }
   ],
   "metadata": {
    "colab": {
     "base_uri": "https://localhost:8080/",
     "height": 295
    },
    "executionInfo": {
     "elapsed": 373,
     "status": "ok",
     "timestamp": 1631065871509,
     "user": {
      "displayName": "경하김",
      "photoUrl": "",
      "userId": "00010385631009285573"
     },
     "user_tz": -540
    },
    "id": "gEjm22YteFKh",
    "outputId": "399f71e6-e90a-4897-c7f5-3692430006c9"
   }
  },
  {
   "cell_type": "code",
   "execution_count": 15,
   "source": [
    "sns.scatterplot(data=df_iris, x='petal width (cm)', y='petal length (cm)', hue='target', palette='muted')\n",
    "plt.title('Petal')\n",
    "plt.show()"
   ],
   "outputs": [
    {
     "output_type": "display_data",
     "data": {
      "image/png": "[encoded data removed]",
      "text/plain": [
       "<Figure size 432x288 with 1 Axes>"
      ]
     },
     "metadata": {
      "needs_background": "light"
     }
    }
   ],
   "metadata": {
    "colab": {
     "base_uri": "https://localhost:8080/",
     "height": 295
    },
    "executionInfo": {
     "elapsed": 337,
     "status": "ok",
     "timestamp": 1631065907273,
     "user": {
      "displayName": "경하김",
      "photoUrl": "",
      "userId": "00010385631009285573"
     },
     "user_tz": -540
    },
    "id": "tY9g4ScVeFHH",
    "outputId": "363144e9-d080-4e23-d927-6ce8817f65a9"
   }
  },
  {
   "cell_type": "markdown",
   "source": [
    "### 데이터 불균형 확인 "
   ],
   "metadata": {
    "id": "zoe7vP_XXtUj"
   }
  },
  {
   "cell_type": "code",
   "execution_count": 17,
   "source": [
    "from sklearn.model_selection import train_test_split"
   ],
   "outputs": [],
   "metadata": {
    "id": "NsNctr3Sf-mH"
   }
  },
  {
   "cell_type": "code",
   "execution_count": 18,
   "source": [
    "X = df_iris.drop('target', axis=1)"
   ],
   "outputs": [],
   "metadata": {
    "id": "SQt49k36HWW8"
   }
  },
  {
   "cell_type": "code",
   "execution_count": 19,
   "source": [
    "y = df_iris['target']"
   ],
   "outputs": [],
   "metadata": {
    "id": "kbSroeZcHnHM"
   }
  },
  {
   "cell_type": "code",
   "execution_count": 25,
   "source": [
    "X_train, X_test, y_train, y_test = train_test_split(X, y, test_size=0.25, random_state=10, stratify=y)"
   ],
   "outputs": [],
   "metadata": {
    "id": "m4haYs11fsNu"
   }
  },
  {
   "cell_type": "code",
   "execution_count": 26,
   "source": [
    "sns.countplot(y_train)"
   ],
   "outputs": [
    {
     "output_type": "execute_result",
     "data": {
      "text/plain": [
       "<AxesSubplot:xlabel='target', ylabel='count'>"
      ]
     },
     "metadata": {},
     "execution_count": 26
    },
    {
     "output_type": "display_data",
     "data": {
      "image/png": "[encoded data removed]",
      "text/plain": [
       "<Figure size 432x288 with 1 Axes>"
      ]
     },
     "metadata": {
      "needs_background": "light"
     }
    }
   ],
   "metadata": {
    "colab": {
     "base_uri": "https://localhost:8080/",
     "height": 296
    },
    "executionInfo": {
     "elapsed": 396,
     "status": "ok",
     "timestamp": 1631072559843,
     "user": {
      "displayName": "경하김",
      "photoUrl": "",
      "userId": "00010385631009285573"
     },
     "user_tz": -540
    },
    "id": "DSss2i84fwdv",
    "outputId": "48fe17a8-9c50-47ce-f688-55c9e4f4a69a"
   }
  },
  {
   "cell_type": "code",
   "execution_count": 27,
   "source": [
    "X_train.shape, y_train.shape"
   ],
   "outputs": [
    {
     "output_type": "execute_result",
     "data": {
      "text/plain": [
       "((112, 4), (112,))"
      ]
     },
     "metadata": {},
     "execution_count": 27
    }
   ],
   "metadata": {
    "colab": {
     "base_uri": "https://localhost:8080/"
    },
    "executionInfo": {
     "elapsed": 267,
     "status": "ok",
     "timestamp": 1631069720033,
     "user": {
      "displayName": "경하김",
      "photoUrl": "",
      "userId": "00010385631009285573"
     },
     "user_tz": -540
    },
    "id": "W-lIODLuf_A3",
    "outputId": "dc8a6a16-b103-4882-a6a5-9dcd43a912f0"
   }
  },
  {
   "cell_type": "code",
   "execution_count": 28,
   "source": [
    "X_test.shape, y_test.shape"
   ],
   "outputs": [
    {
     "output_type": "execute_result",
     "data": {
      "text/plain": [
       "((38, 4), (38,))"
      ]
     },
     "metadata": {},
     "execution_count": 28
    }
   ],
   "metadata": {
    "colab": {
     "base_uri": "https://localhost:8080/"
    },
    "executionInfo": {
     "elapsed": 13,
     "status": "ok",
     "timestamp": 1631069721179,
     "user": {
      "displayName": "경하김",
      "photoUrl": "",
      "userId": "00010385631009285573"
     },
     "user_tz": -540
    },
    "id": "OR9LQ47IZcqa",
    "outputId": "ca0250e9-4681-47c4-b374-ec115b63b525"
   }
  },
  {
   "cell_type": "markdown",
   "source": [
    "# 지도학습 알고리즘 이해 및 실습"
   ],
   "metadata": {
    "id": "bkWmSIxPKMWR"
   }
  },
  {
   "cell_type": "code",
   "execution_count": 29,
   "source": [
    "from sklearn.linear_model import LogisticRegression"
   ],
   "outputs": [],
   "metadata": {
    "id": "UCXukIYvgAEO"
   }
  },
  {
   "cell_type": "markdown",
   "source": [
    "### step1 모델 선언"
   ],
   "metadata": {
    "id": "vl7VchFEgVsi"
   }
  },
  {
   "cell_type": "code",
   "execution_count": 30,
   "source": [
    "model_lr = LogisticRegression()"
   ],
   "outputs": [],
   "metadata": {
    "id": "-owvUBnqgC7P"
   }
  },
  {
   "cell_type": "markdown",
   "source": [
    "### step2 모델 학습"
   ],
   "metadata": {
    "id": "8ZOMkFgwgWnY"
   }
  },
  {
   "cell_type": "code",
   "execution_count": 31,
   "source": [
    "model_lr.fit(X_train, y_train)"
   ],
   "outputs": [
    {
     "output_type": "execute_result",
     "data": {
      "text/plain": [
       "LogisticRegression()"
      ]
     },
     "metadata": {},
     "execution_count": 31
    }
   ],
   "metadata": {
    "colab": {
     "base_uri": "https://localhost:8080/"
    },
    "executionInfo": {
     "elapsed": 830,
     "status": "ok",
     "timestamp": 1631069794462,
     "user": {
      "displayName": "경하김",
      "photoUrl": "",
      "userId": "00010385631009285573"
     },
     "user_tz": -540
    },
    "id": "c7FBs62_gC0A",
    "outputId": "6564aea0-e6e2-49a4-9284-1e4eece63b2d"
   }
  },
  {
   "cell_type": "markdown",
   "source": [
    "### step3 예측"
   ],
   "metadata": {
    "id": "ZEmVwoxxgZmj"
   }
  },
  {
   "cell_type": "code",
   "execution_count": 32,
   "source": [
    "pred_lr = model_lr.predict(X_test)"
   ],
   "outputs": [],
   "metadata": {
    "id": "Itb4WT5nf_52"
   }
  },
  {
   "cell_type": "code",
   "execution_count": 33,
   "source": [
    "pred_lr[:5]"
   ],
   "outputs": [
    {
     "output_type": "execute_result",
     "data": {
      "text/plain": [
       "array([1, 1, 2, 2, 2])"
      ]
     },
     "metadata": {},
     "execution_count": 33
    }
   ],
   "metadata": {
    "colab": {
     "base_uri": "https://localhost:8080/"
    },
    "executionInfo": {
     "elapsed": 8,
     "status": "ok",
     "timestamp": 1631069766147,
     "user": {
      "displayName": "경하김",
      "photoUrl": "",
      "userId": "00010385631009285573"
     },
     "user_tz": -540
    },
    "id": "brHrJ5dPeJxY",
    "outputId": "f20d93b1-0152-4276-d42f-81c54726f498"
   }
  },
  {
   "cell_type": "markdown",
   "source": [
    "### step4 평가"
   ],
   "metadata": {
    "id": "rJTGiH3FepuQ"
   }
  },
  {
   "cell_type": "code",
   "execution_count": 34,
   "source": [
    "(pred_lr == y_test).mean()"
   ],
   "outputs": [
    {
     "output_type": "execute_result",
     "data": {
      "text/plain": [
       "1.0"
      ]
     },
     "metadata": {},
     "execution_count": 34
    }
   ],
   "metadata": {
    "colab": {
     "base_uri": "https://localhost:8080/"
    },
    "executionInfo": {
     "elapsed": 272,
     "status": "ok",
     "timestamp": 1631069009069,
     "user": {
      "displayName": "경하김",
      "photoUrl": "",
      "userId": "00010385631009285573"
     },
     "user_tz": -540
    },
    "id": "G4aDJUpLf9mM",
    "outputId": "6ec83f35-95bf-4ca2-9b08-8abf0ae840a7"
   }
  },
  {
   "cell_type": "code",
   "execution_count": 50,
   "source": [
    "# 모델 생성\n",
    "import pickle\n",
    "pickle.dump(model_lr, open('iris_model_lr.pkl', 'wb'))"
   ],
   "outputs": [],
   "metadata": {}
  },
  {
   "cell_type": "markdown",
   "source": [
    "## 서포트 벡터 머신 (SVM; Support Vector Machine)\n",
    "- (SVC; Support Vector Classifier)\n",
    "- 새로운 데이터가 어느 카테고리에 속할지 판단하는 비확률적 이진 선형 분류 모델을 만듦.\n",
    "- 경계로 표현되는 데이터들 중 가장 큰 폭을 가진 경계를 찾는 알고리즘."
   ],
   "metadata": {
    "id": "mAevZcclzBuk"
   }
  },
  {
   "cell_type": "code",
   "execution_count": 35,
   "source": [
    "from sklearn.svm import SVC"
   ],
   "outputs": [],
   "metadata": {
    "id": "faLFNBLSzB-n"
   }
  },
  {
   "cell_type": "code",
   "execution_count": 36,
   "source": [
    "model_svc = SVC(kernel=\"linear\", C=10)\n",
    "model_svc"
   ],
   "outputs": [
    {
     "output_type": "execute_result",
     "data": {
      "text/plain": [
       "SVC(C=10, kernel='linear')"
      ]
     },
     "metadata": {},
     "execution_count": 36
    }
   ],
   "metadata": {
    "colab": {
     "base_uri": "https://localhost:8080/"
    },
    "executionInfo": {
     "elapsed": 257,
     "status": "ok",
     "timestamp": 1631073737657,
     "user": {
      "displayName": "경하김",
      "photoUrl": "",
      "userId": "00010385631009285573"
     },
     "user_tz": -540
    },
    "id": "CkbKqHkvh3zq",
    "outputId": "2f78a346-27bf-4e23-e57f-7d7750012d23"
   }
  },
  {
   "cell_type": "code",
   "execution_count": 37,
   "source": [
    "model_svc.fit(X_train, y_train)"
   ],
   "outputs": [
    {
     "output_type": "execute_result",
     "data": {
      "text/plain": [
       "SVC(C=10, kernel='linear')"
      ]
     },
     "metadata": {},
     "execution_count": 37
    }
   ],
   "metadata": {
    "colab": {
     "base_uri": "https://localhost:8080/"
    },
    "executionInfo": {
     "elapsed": 10,
     "status": "ok",
     "timestamp": 1631073738710,
     "user": {
      "displayName": "경하김",
      "photoUrl": "",
      "userId": "00010385631009285573"
     },
     "user_tz": -540
    },
    "id": "cYjBpYHmh4Kc",
    "outputId": "ad3b9b9e-35f4-4327-92ff-393ea966f882"
   }
  },
  {
   "cell_type": "code",
   "execution_count": 38,
   "source": [
    "pred_svc = model_svc.predict(X_test)"
   ],
   "outputs": [],
   "metadata": {
    "id": "7unObJarzFCe"
   }
  },
  {
   "cell_type": "code",
   "execution_count": 39,
   "source": [
    "pred_svc"
   ],
   "outputs": [
    {
     "output_type": "execute_result",
     "data": {
      "text/plain": [
       "array([1, 1, 2, 2, 2, 1, 0, 2, 2, 0, 1, 1, 1, 1, 0, 2, 0, 1, 0, 0, 2, 2,\n",
       "       0, 1, 2, 0, 2, 2, 1, 2, 0, 0, 0, 1, 1, 1, 0, 2])"
      ]
     },
     "metadata": {},
     "execution_count": 39
    }
   ],
   "metadata": {
    "colab": {
     "base_uri": "https://localhost:8080/"
    },
    "executionInfo": {
     "elapsed": 8,
     "status": "ok",
     "timestamp": 1631073740763,
     "user": {
      "displayName": "경하김",
      "photoUrl": "",
      "userId": "00010385631009285573"
     },
     "user_tz": -540
    },
    "id": "Nb43ku-Nm4hg",
    "outputId": "f08ae1c4-4312-4a7c-9690-564b74057150"
   }
  },
  {
   "cell_type": "code",
   "execution_count": 40,
   "source": [
    "(pred_svc == y_test).mean()"
   ],
   "outputs": [
    {
     "output_type": "execute_result",
     "data": {
      "text/plain": [
       "1.0"
      ]
     },
     "metadata": {},
     "execution_count": 40
    }
   ],
   "metadata": {
    "colab": {
     "base_uri": "https://localhost:8080/"
    },
    "executionInfo": {
     "elapsed": 7,
     "status": "ok",
     "timestamp": 1631073741418,
     "user": {
      "displayName": "경하김",
      "photoUrl": "",
      "userId": "00010385631009285573"
     },
     "user_tz": -540
    },
    "id": "krg7Vp5PzGGK",
    "outputId": "1e75ccdd-9d6e-4b00-88f7-d6f00672f796"
   }
  },
  {
   "cell_type": "code",
   "execution_count": 41,
   "source": [
    "pred_svc[:5]"
   ],
   "outputs": [
    {
     "output_type": "execute_result",
     "data": {
      "text/plain": [
       "array([1, 1, 2, 2, 2])"
      ]
     },
     "metadata": {},
     "execution_count": 41
    }
   ],
   "metadata": {
    "colab": {
     "base_uri": "https://localhost:8080/"
    },
    "executionInfo": {
     "elapsed": 320,
     "status": "ok",
     "timestamp": 1631074991812,
     "user": {
      "displayName": "경하김",
      "photoUrl": "",
      "userId": "00010385631009285573"
     },
     "user_tz": -540
    },
    "id": "zD_ZRokio_9l",
    "outputId": "ea762152-eace-42a4-b01e-02e1be458b7a"
   }
  },
  {
   "cell_type": "markdown",
   "source": [
    "각 클래스(target 값)에 대한 확률값을 return 해주는 decision_function()"
   ],
   "metadata": {
    "id": "dc9wdE2FuuZH"
   }
  },
  {
   "cell_type": "code",
   "execution_count": 43,
   "source": [
    "# 클래스를 분류한 확률 정보 확인\n",
    "model_svc.decision_function(X_test)[:5]"
   ],
   "outputs": [
    {
     "output_type": "execute_result",
     "data": {
      "text/plain": [
       "array([[-0.23926426,  2.28023685,  0.75592725],\n",
       "       [-0.23873309,  2.25788457,  0.84262294],\n",
       "       [-0.2664893 ,  1.18041355,  2.24577395],\n",
       "       [-0.27962692,  1.18000795,  2.26709796],\n",
       "       [-0.27749846,  0.83443234,  2.28541916]])"
      ]
     },
     "metadata": {},
     "execution_count": 43
    }
   ],
   "metadata": {
    "colab": {
     "base_uri": "https://localhost:8080/"
    },
    "executionInfo": {
     "elapsed": 248,
     "status": "ok",
     "timestamp": 1631074975015,
     "user": {
      "displayName": "경하김",
      "photoUrl": "",
      "userId": "00010385631009285573"
     },
     "user_tz": -540
    },
    "id": "0KF9MpdHo4gS",
    "outputId": "b5ffae48-173c-499f-d71d-f025703153ab"
   }
  },
  {
   "cell_type": "code",
   "execution_count": 49,
   "source": [
    "# 모델 생성하기\n",
    "pickle.dump(model_svc, open('iris_model_svc.pkl', 'wb'))"
   ],
   "outputs": [],
   "metadata": {}
  },
  {
   "cell_type": "code",
   "execution_count": null,
   "source": [],
   "outputs": [],
   "metadata": {}
  }
 ],
 "metadata": {
  "colab": {
   "collapsed_sections": [],
   "name": "[완성]2-1-1.지도학습_분류.ipynb",
   "provenance": [],
   "toc_visible": true
  },
  "kernelspec": {
   "name": "python3",
   "display_name": "Python 3.8.0 64-bit ('VENV': venv)"
  },
  "language_info": {
   "codemirror_mode": {
    "name": "ipython",
    "version": 3
   },
   "file_extension": ".py",
   "mimetype": "text/x-python",
   "name": "python",
   "nbconvert_exporter": "python",
   "pygments_lexer": "ipython3",
   "version": "3.8.0"
  },
  "interpreter": {
   "hash": "1b93ec097787643d75a27a6a23e09c9bf05dd28466fa5cab11848cc91201364c"
  }
 },
 "nbformat": 4,
 "nbformat_minor": 1
}