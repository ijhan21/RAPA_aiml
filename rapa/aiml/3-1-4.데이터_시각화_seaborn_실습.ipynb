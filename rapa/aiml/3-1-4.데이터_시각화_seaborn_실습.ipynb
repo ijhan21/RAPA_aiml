{
 "cells": [
  {
   "cell_type": "markdown",
   "metadata": {
    "id": "Ogyaijomzeg0"
   },
   "source": [
    "# 그래프를 그리는 plotting 도구: matplotlib, seaborn"
   ]
  },
  {
   "cell_type": "code",
   "execution_count": 1,
   "metadata": {
    "ExecuteTime": {
     "end_time": "2021-03-13T04:10:37.707611Z",
     "start_time": "2021-03-13T04:10:37.703615Z"
    },
    "id": "TvBjh8M4zeg2"
   },
   "outputs": [],
   "source": [
    "# numpy, pandas 임포트\n",
    "import numpy as np\n",
    "import pandas as pd"
   ]
  },
  {
   "cell_type": "markdown",
   "metadata": {
    "id": "TyTBypABzeg4"
   },
   "source": [
    "## 데이터 준비\n",
    "먼저 아래 링크에서 stock.adj_close.csv 파일 ./data 폴더에 다운받기  \n",
    "https://drive.google.com/file/d/1AnWjtW9bdIqBEnxeOMfST_Pxx2IVQfMJ/view?usp=sharing\n"
   ]
  },
  {
   "cell_type": "code",
   "execution_count": 2,
   "metadata": {
    "ExecuteTime": {
     "end_time": "2021-03-13T04:10:38.051272Z",
     "start_time": "2021-03-13T04:10:37.710609Z"
    },
    "id": "ofQtIOaYzeg4"
   },
   "outputs": [],
   "source": [
    "stock_data = pd.read_csv('./data/stock.adj_close.csv', index_col=0)\n",
    "my_series = stock_data.loc['A005930']['2020-09-09':]\n",
    "my_df = stock_data.T.loc['2020-09-09':,'A005900':'A006000']\n",
    "my_df_2 = my_df.loc[:'2020-09-11','A005960':]"
   ]
  },
  {
   "cell_type": "code",
   "execution_count": 3,
   "metadata": {
    "colab": {
     "base_uri": "https://localhost:8080/",
     "height": 492
    },
    "executionInfo": {
     "elapsed": 283,
     "status": "ok",
     "timestamp": 1633336727350,
     "user": {
      "displayName": "경하김",
      "photoUrl": "https://lh3.googleusercontent.com/a/default-user=s64",
      "userId": "00010385631009285573"
     },
     "user_tz": -540
    },
    "id": "tyCwkLsGbmsT",
    "outputId": "fc12a9e2-0d6d-4666-cbf1-c5aed7d47dfb"
   },
   "outputs": [
    {
     "data": {
      "text/html": [
       "<div>\n",
       "<style scoped>\n",
       "    .dataframe tbody tr th:only-of-type {\n",
       "        vertical-align: middle;\n",
       "    }\n",
       "\n",
       "    .dataframe tbody tr th {\n",
       "        vertical-align: top;\n",
       "    }\n",
       "\n",
       "    .dataframe thead th {\n",
       "        text-align: right;\n",
       "    }\n",
       "</style>\n",
       "<table border=\"1\" class=\"dataframe\">\n",
       "  <thead>\n",
       "    <tr style=\"text-align: right;\">\n",
       "      <th></th>\n",
       "      <th>2018-06-01</th>\n",
       "      <th>2018-06-04</th>\n",
       "      <th>2018-06-05</th>\n",
       "      <th>2018-06-07</th>\n",
       "      <th>2018-06-08</th>\n",
       "      <th>2018-06-11</th>\n",
       "      <th>2018-06-12</th>\n",
       "      <th>2018-06-14</th>\n",
       "      <th>2018-06-15</th>\n",
       "      <th>2018-06-18</th>\n",
       "      <th>...</th>\n",
       "      <th>2020-09-25</th>\n",
       "      <th>2020-09-28</th>\n",
       "      <th>2020-09-29</th>\n",
       "      <th>2020-10-05</th>\n",
       "      <th>2020-10-06</th>\n",
       "      <th>2020-10-07</th>\n",
       "      <th>2020-10-08</th>\n",
       "      <th>2020-10-12</th>\n",
       "      <th>2020-10-13</th>\n",
       "      <th>2020-10-14</th>\n",
       "    </tr>\n",
       "    <tr>\n",
       "      <th>Symbol</th>\n",
       "      <th></th>\n",
       "      <th></th>\n",
       "      <th></th>\n",
       "      <th></th>\n",
       "      <th></th>\n",
       "      <th></th>\n",
       "      <th></th>\n",
       "      <th></th>\n",
       "      <th></th>\n",
       "      <th></th>\n",
       "      <th></th>\n",
       "      <th></th>\n",
       "      <th></th>\n",
       "      <th></th>\n",
       "      <th></th>\n",
       "      <th></th>\n",
       "      <th></th>\n",
       "      <th></th>\n",
       "      <th></th>\n",
       "      <th></th>\n",
       "      <th></th>\n",
       "    </tr>\n",
       "  </thead>\n",
       "  <tbody>\n",
       "    <tr>\n",
       "      <th>A000020</th>\n",
       "      <td>11550.0</td>\n",
       "      <td>11750.0</td>\n",
       "      <td>11700.0</td>\n",
       "      <td>11650.0</td>\n",
       "      <td>11500.0</td>\n",
       "      <td>11500.0</td>\n",
       "      <td>11650.0</td>\n",
       "      <td>12000.0</td>\n",
       "      <td>11800.0</td>\n",
       "      <td>11450.0</td>\n",
       "      <td>...</td>\n",
       "      <td>22100.0</td>\n",
       "      <td>22000.0</td>\n",
       "      <td>21850.0</td>\n",
       "      <td>24100.0</td>\n",
       "      <td>23750.0</td>\n",
       "      <td>23500.0</td>\n",
       "      <td>24150.0</td>\n",
       "      <td>24000.0</td>\n",
       "      <td>24300.0</td>\n",
       "      <td>23850.0</td>\n",
       "    </tr>\n",
       "    <tr>\n",
       "      <th>A000030</th>\n",
       "      <td>15500.0</td>\n",
       "      <td>15950.0</td>\n",
       "      <td>16050.0</td>\n",
       "      <td>16500.0</td>\n",
       "      <td>16600.0</td>\n",
       "      <td>16650.0</td>\n",
       "      <td>16850.0</td>\n",
       "      <td>16500.0</td>\n",
       "      <td>16100.0</td>\n",
       "      <td>16350.0</td>\n",
       "      <td>...</td>\n",
       "      <td>14800.0</td>\n",
       "      <td>14800.0</td>\n",
       "      <td>14800.0</td>\n",
       "      <td>14800.0</td>\n",
       "      <td>14800.0</td>\n",
       "      <td>14800.0</td>\n",
       "      <td>14800.0</td>\n",
       "      <td>14800.0</td>\n",
       "      <td>14800.0</td>\n",
       "      <td>14800.0</td>\n",
       "    </tr>\n",
       "    <tr>\n",
       "      <th>A000040</th>\n",
       "      <td>2992.0</td>\n",
       "      <td>3021.0</td>\n",
       "      <td>3025.0</td>\n",
       "      <td>3069.0</td>\n",
       "      <td>3045.0</td>\n",
       "      <td>2984.0</td>\n",
       "      <td>2976.0</td>\n",
       "      <td>3033.0</td>\n",
       "      <td>3033.0</td>\n",
       "      <td>3017.0</td>\n",
       "      <td>...</td>\n",
       "      <td>771.0</td>\n",
       "      <td>743.0</td>\n",
       "      <td>767.0</td>\n",
       "      <td>829.0</td>\n",
       "      <td>810.0</td>\n",
       "      <td>860.0</td>\n",
       "      <td>863.0</td>\n",
       "      <td>863.0</td>\n",
       "      <td>850.0</td>\n",
       "      <td>874.0</td>\n",
       "    </tr>\n",
       "    <tr>\n",
       "      <th>A000050</th>\n",
       "      <td>13200.0</td>\n",
       "      <td>13550.0</td>\n",
       "      <td>13600.0</td>\n",
       "      <td>13800.0</td>\n",
       "      <td>13800.0</td>\n",
       "      <td>13800.0</td>\n",
       "      <td>13650.0</td>\n",
       "      <td>13850.0</td>\n",
       "      <td>14500.0</td>\n",
       "      <td>14550.0</td>\n",
       "      <td>...</td>\n",
       "      <td>10750.0</td>\n",
       "      <td>10500.0</td>\n",
       "      <td>10550.0</td>\n",
       "      <td>10850.0</td>\n",
       "      <td>10900.0</td>\n",
       "      <td>10900.0</td>\n",
       "      <td>11000.0</td>\n",
       "      <td>11000.0</td>\n",
       "      <td>10850.0</td>\n",
       "      <td>10800.0</td>\n",
       "    </tr>\n",
       "    <tr>\n",
       "      <th>A000060</th>\n",
       "      <td>20050.0</td>\n",
       "      <td>20050.0</td>\n",
       "      <td>20150.0</td>\n",
       "      <td>20050.0</td>\n",
       "      <td>20400.0</td>\n",
       "      <td>20150.0</td>\n",
       "      <td>20700.0</td>\n",
       "      <td>20950.0</td>\n",
       "      <td>20150.0</td>\n",
       "      <td>20900.0</td>\n",
       "      <td>...</td>\n",
       "      <td>12750.0</td>\n",
       "      <td>12750.0</td>\n",
       "      <td>12850.0</td>\n",
       "      <td>13150.0</td>\n",
       "      <td>13300.0</td>\n",
       "      <td>13350.0</td>\n",
       "      <td>13900.0</td>\n",
       "      <td>13950.0</td>\n",
       "      <td>13700.0</td>\n",
       "      <td>13550.0</td>\n",
       "    </tr>\n",
       "    <tr>\n",
       "      <th>...</th>\n",
       "      <td>...</td>\n",
       "      <td>...</td>\n",
       "      <td>...</td>\n",
       "      <td>...</td>\n",
       "      <td>...</td>\n",
       "      <td>...</td>\n",
       "      <td>...</td>\n",
       "      <td>...</td>\n",
       "      <td>...</td>\n",
       "      <td>...</td>\n",
       "      <td>...</td>\n",
       "      <td>...</td>\n",
       "      <td>...</td>\n",
       "      <td>...</td>\n",
       "      <td>...</td>\n",
       "      <td>...</td>\n",
       "      <td>...</td>\n",
       "      <td>...</td>\n",
       "      <td>...</td>\n",
       "      <td>...</td>\n",
       "      <td>...</td>\n",
       "    </tr>\n",
       "    <tr>\n",
       "      <th>A950160</th>\n",
       "      <td>38600.0</td>\n",
       "      <td>36400.0</td>\n",
       "      <td>36350.0</td>\n",
       "      <td>38700.0</td>\n",
       "      <td>40200.0</td>\n",
       "      <td>39250.0</td>\n",
       "      <td>38300.0</td>\n",
       "      <td>38350.0</td>\n",
       "      <td>39000.0</td>\n",
       "      <td>37600.0</td>\n",
       "      <td>...</td>\n",
       "      <td>8010.0</td>\n",
       "      <td>8010.0</td>\n",
       "      <td>8010.0</td>\n",
       "      <td>8010.0</td>\n",
       "      <td>8010.0</td>\n",
       "      <td>8010.0</td>\n",
       "      <td>8010.0</td>\n",
       "      <td>8010.0</td>\n",
       "      <td>8010.0</td>\n",
       "      <td>8010.0</td>\n",
       "    </tr>\n",
       "    <tr>\n",
       "      <th>A950170</th>\n",
       "      <td>13850.0</td>\n",
       "      <td>14250.0</td>\n",
       "      <td>14450.0</td>\n",
       "      <td>14300.0</td>\n",
       "      <td>14150.0</td>\n",
       "      <td>13650.0</td>\n",
       "      <td>14050.0</td>\n",
       "      <td>13600.0</td>\n",
       "      <td>13550.0</td>\n",
       "      <td>11900.0</td>\n",
       "      <td>...</td>\n",
       "      <td>3820.0</td>\n",
       "      <td>3900.0</td>\n",
       "      <td>4050.0</td>\n",
       "      <td>4070.0</td>\n",
       "      <td>4190.0</td>\n",
       "      <td>4160.0</td>\n",
       "      <td>4320.0</td>\n",
       "      <td>4445.0</td>\n",
       "      <td>4440.0</td>\n",
       "      <td>4335.0</td>\n",
       "    </tr>\n",
       "    <tr>\n",
       "      <th>A950180</th>\n",
       "      <td>NaN</td>\n",
       "      <td>NaN</td>\n",
       "      <td>NaN</td>\n",
       "      <td>NaN</td>\n",
       "      <td>NaN</td>\n",
       "      <td>NaN</td>\n",
       "      <td>NaN</td>\n",
       "      <td>NaN</td>\n",
       "      <td>NaN</td>\n",
       "      <td>NaN</td>\n",
       "      <td>...</td>\n",
       "      <td>12400.0</td>\n",
       "      <td>12800.0</td>\n",
       "      <td>12900.0</td>\n",
       "      <td>12800.0</td>\n",
       "      <td>12850.0</td>\n",
       "      <td>13050.0</td>\n",
       "      <td>13050.0</td>\n",
       "      <td>12900.0</td>\n",
       "      <td>12650.0</td>\n",
       "      <td>13350.0</td>\n",
       "    </tr>\n",
       "    <tr>\n",
       "      <th>A950190</th>\n",
       "      <td>NaN</td>\n",
       "      <td>NaN</td>\n",
       "      <td>NaN</td>\n",
       "      <td>NaN</td>\n",
       "      <td>NaN</td>\n",
       "      <td>NaN</td>\n",
       "      <td>NaN</td>\n",
       "      <td>NaN</td>\n",
       "      <td>NaN</td>\n",
       "      <td>NaN</td>\n",
       "      <td>...</td>\n",
       "      <td>27200.0</td>\n",
       "      <td>27950.0</td>\n",
       "      <td>28150.0</td>\n",
       "      <td>28350.0</td>\n",
       "      <td>28400.0</td>\n",
       "      <td>28100.0</td>\n",
       "      <td>28550.0</td>\n",
       "      <td>28800.0</td>\n",
       "      <td>28750.0</td>\n",
       "      <td>28400.0</td>\n",
       "    </tr>\n",
       "    <tr>\n",
       "      <th>A950200</th>\n",
       "      <td>NaN</td>\n",
       "      <td>NaN</td>\n",
       "      <td>NaN</td>\n",
       "      <td>NaN</td>\n",
       "      <td>NaN</td>\n",
       "      <td>NaN</td>\n",
       "      <td>NaN</td>\n",
       "      <td>NaN</td>\n",
       "      <td>NaN</td>\n",
       "      <td>NaN</td>\n",
       "      <td>...</td>\n",
       "      <td>14000.0</td>\n",
       "      <td>13900.0</td>\n",
       "      <td>14200.0</td>\n",
       "      <td>14050.0</td>\n",
       "      <td>14300.0</td>\n",
       "      <td>14400.0</td>\n",
       "      <td>15100.0</td>\n",
       "      <td>15150.0</td>\n",
       "      <td>14400.0</td>\n",
       "      <td>14150.0</td>\n",
       "    </tr>\n",
       "  </tbody>\n",
       "</table>\n",
       "<p>2278 rows × 582 columns</p>\n",
       "</div>"
      ],
      "text/plain": [
       "         2018-06-01  2018-06-04  2018-06-05  2018-06-07  2018-06-08  \\\n",
       "Symbol                                                                \n",
       "A000020     11550.0     11750.0     11700.0     11650.0     11500.0   \n",
       "A000030     15500.0     15950.0     16050.0     16500.0     16600.0   \n",
       "A000040      2992.0      3021.0      3025.0      3069.0      3045.0   \n",
       "A000050     13200.0     13550.0     13600.0     13800.0     13800.0   \n",
       "A000060     20050.0     20050.0     20150.0     20050.0     20400.0   \n",
       "...             ...         ...         ...         ...         ...   \n",
       "A950160     38600.0     36400.0     36350.0     38700.0     40200.0   \n",
       "A950170     13850.0     14250.0     14450.0     14300.0     14150.0   \n",
       "A950180         NaN         NaN         NaN         NaN         NaN   \n",
       "A950190         NaN         NaN         NaN         NaN         NaN   \n",
       "A950200         NaN         NaN         NaN         NaN         NaN   \n",
       "\n",
       "         2018-06-11  2018-06-12  2018-06-14  2018-06-15  2018-06-18  ...  \\\n",
       "Symbol                                                               ...   \n",
       "A000020     11500.0     11650.0     12000.0     11800.0     11450.0  ...   \n",
       "A000030     16650.0     16850.0     16500.0     16100.0     16350.0  ...   \n",
       "A000040      2984.0      2976.0      3033.0      3033.0      3017.0  ...   \n",
       "A000050     13800.0     13650.0     13850.0     14500.0     14550.0  ...   \n",
       "A000060     20150.0     20700.0     20950.0     20150.0     20900.0  ...   \n",
       "...             ...         ...         ...         ...         ...  ...   \n",
       "A950160     39250.0     38300.0     38350.0     39000.0     37600.0  ...   \n",
       "A950170     13650.0     14050.0     13600.0     13550.0     11900.0  ...   \n",
       "A950180         NaN         NaN         NaN         NaN         NaN  ...   \n",
       "A950190         NaN         NaN         NaN         NaN         NaN  ...   \n",
       "A950200         NaN         NaN         NaN         NaN         NaN  ...   \n",
       "\n",
       "         2020-09-25  2020-09-28  2020-09-29  2020-10-05  2020-10-06  \\\n",
       "Symbol                                                                \n",
       "A000020     22100.0     22000.0     21850.0     24100.0     23750.0   \n",
       "A000030     14800.0     14800.0     14800.0     14800.0     14800.0   \n",
       "A000040       771.0       743.0       767.0       829.0       810.0   \n",
       "A000050     10750.0     10500.0     10550.0     10850.0     10900.0   \n",
       "A000060     12750.0     12750.0     12850.0     13150.0     13300.0   \n",
       "...             ...         ...         ...         ...         ...   \n",
       "A950160      8010.0      8010.0      8010.0      8010.0      8010.0   \n",
       "A950170      3820.0      3900.0      4050.0      4070.0      4190.0   \n",
       "A950180     12400.0     12800.0     12900.0     12800.0     12850.0   \n",
       "A950190     27200.0     27950.0     28150.0     28350.0     28400.0   \n",
       "A950200     14000.0     13900.0     14200.0     14050.0     14300.0   \n",
       "\n",
       "         2020-10-07  2020-10-08  2020-10-12  2020-10-13  2020-10-14  \n",
       "Symbol                                                               \n",
       "A000020     23500.0     24150.0     24000.0     24300.0     23850.0  \n",
       "A000030     14800.0     14800.0     14800.0     14800.0     14800.0  \n",
       "A000040       860.0       863.0       863.0       850.0       874.0  \n",
       "A000050     10900.0     11000.0     11000.0     10850.0     10800.0  \n",
       "A000060     13350.0     13900.0     13950.0     13700.0     13550.0  \n",
       "...             ...         ...         ...         ...         ...  \n",
       "A950160      8010.0      8010.0      8010.0      8010.0      8010.0  \n",
       "A950170      4160.0      4320.0      4445.0      4440.0      4335.0  \n",
       "A950180     13050.0     13050.0     12900.0     12650.0     13350.0  \n",
       "A950190     28100.0     28550.0     28800.0     28750.0     28400.0  \n",
       "A950200     14400.0     15100.0     15150.0     14400.0     14150.0  \n",
       "\n",
       "[2278 rows x 582 columns]"
      ]
     },
     "execution_count": 3,
     "metadata": {},
     "output_type": "execute_result"
    }
   ],
   "source": [
    "stock_data"
   ]
  },
  {
   "cell_type": "markdown",
   "metadata": {
    "id": "Lw3meIZszeg6"
   },
   "source": [
    "# matplotlib으로 그래프 그리기"
   ]
  },
  {
   "cell_type": "code",
   "execution_count": null,
   "metadata": {
    "colab": {
     "base_uri": "https://localhost:8080/"
    },
    "executionInfo": {
     "elapsed": 4803,
     "status": "ok",
     "timestamp": 1633337647601,
     "user": {
      "displayName": "경하김",
      "photoUrl": "https://lh3.googleusercontent.com/a/default-user=s64",
      "userId": "00010385631009285573"
     },
     "user_tz": -540
    },
    "id": "bpZexxEO4pQp",
    "outputId": "584b342e-34ba-4889-a390-8be5d10a7d18"
   },
   "outputs": [],
   "source": [
    "# COLAB 환경을 위한 나눔고딕 한글폰트 설치  --> 진행 후,  런타임 > 런타임 다시 시작을 해 주세요. 다시 시작 후에는 이 부분 실행 X\n",
    "# jupyter notebook을 위해서는 터미널 창에서 차례대로 명령 수행하고, 한글적용 안되면 주피터 노트북 다시 실행하기\n",
    "\n",
    "!sudo apt-get install -y fonts-nanum\n",
    "!sudo fc-cache -fv\n",
    "!rm ~/.cache/matplotlib -rf"
   ]
  },
  {
   "cell_type": "code",
   "execution_count": 5,
   "metadata": {
    "ExecuteTime": {
     "end_time": "2021-03-13T04:10:38.080244Z",
     "start_time": "2021-03-13T04:10:38.073252Z"
    },
    "id": "EdHf8FD9zeg6"
   },
   "outputs": [],
   "source": [
    "# matplotlib 임포트,  주피터 출력설정,  한글 글꼴 지정\n",
    "import matplotlib.pyplot as plt\n",
    "%matplotlib inline\n",
    "\n",
    "plt.rcParams['font.family'] = 'NanumBarunGothic'  # (Colab 용, ubuntu linux) 한글 출력을 위한 글꼴 설정\n",
    "#plt.rcParams['font.family'] = 'Malgun Gothic'  # (Windows 용)\n",
    "#plt.rcParams['font.family'] = 'AppleGothic'  # (MAC, 리눅스 용)"
   ]
  },
  {
   "cell_type": "code",
   "execution_count": 6,
   "metadata": {
    "ExecuteTime": {
     "end_time": "2021-03-13T04:10:38.261067Z",
     "start_time": "2021-03-13T04:10:38.083241Z"
    },
    "colab": {
     "base_uri": "https://localhost:8080/",
     "height": 282
    },
    "executionInfo": {
     "elapsed": 481,
     "status": "ok",
     "timestamp": 1633336733646,
     "user": {
      "displayName": "경하김",
      "photoUrl": "https://lh3.googleusercontent.com/a/default-user=s64",
      "userId": "00010385631009285573"
     },
     "user_tz": -540
    },
    "id": "5-qqBSHZzeg7",
    "outputId": "88600a2e-f351-4dfa-8c8b-2b2e0a819de3"
   },
   "outputs": [],
   "source": [
    "# Series 그래프 : my_df의 'A005930' 컬럼의 주가 흐름 시각화\n"
   ]
  },
  {
   "cell_type": "code",
   "execution_count": 7,
   "metadata": {
    "ExecuteTime": {
     "end_time": "2021-03-13T04:10:38.541789Z",
     "start_time": "2021-03-13T04:10:38.266061Z"
    },
    "colab": {
     "base_uri": "https://localhost:8080/",
     "height": 282
    },
    "executionInfo": {
     "elapsed": 362,
     "status": "ok",
     "timestamp": 1633336934009,
     "user": {
      "displayName": "경하김",
      "photoUrl": "https://lh3.googleusercontent.com/a/default-user=s64",
      "userId": "00010385631009285573"
     },
     "user_tz": -540
    },
    "id": "lL0bYUDyzeg7",
    "outputId": "9bc00de3-722d-4662-d2b4-f537da60a531"
   },
   "outputs": [
    {
     "data": {
      "text/plain": [
       "<AxesSubplot:>"
      ]
     },
     "execution_count": 7,
     "metadata": {},
     "output_type": "execute_result"
    },
    {
     "data": {
      "image/png": "[encoded data removed]",
      "text/plain": [
       "<Figure size 432x288 with 1 Axes>"
      ]
     },
     "metadata": {
      "needs_background": "light"
     },
     "output_type": "display_data"
    }
   ],
   "source": [
    "# my_df 데이터 프레임의 전체 꺽은선으로 그리기, grid=True\n",
    "my_df.plot(grid=True)"
   ]
  },
  {
   "cell_type": "code",
   "execution_count": 8,
   "metadata": {
    "colab": {
     "base_uri": "https://localhost:8080/",
     "height": 143
    },
    "executionInfo": {
     "elapsed": 271,
     "status": "ok",
     "timestamp": 1633337342733,
     "user": {
      "displayName": "경하김",
      "photoUrl": "https://lh3.googleusercontent.com/a/default-user=s64",
      "userId": "00010385631009285573"
     },
     "user_tz": -540
    },
    "id": "tYw38AsYfZPm",
    "outputId": "6dc63890-c5df-4f8a-fb70-09409ee398f8"
   },
   "outputs": [
    {
     "data": {
      "text/html": [
       "<div>\n",
       "<style scoped>\n",
       "    .dataframe tbody tr th:only-of-type {\n",
       "        vertical-align: middle;\n",
       "    }\n",
       "\n",
       "    .dataframe tbody tr th {\n",
       "        vertical-align: top;\n",
       "    }\n",
       "\n",
       "    .dataframe thead th {\n",
       "        text-align: right;\n",
       "    }\n",
       "</style>\n",
       "<table border=\"1\" class=\"dataframe\">\n",
       "  <thead>\n",
       "    <tr style=\"text-align: right;\">\n",
       "      <th>Symbol</th>\n",
       "      <th>A005960</th>\n",
       "      <th>A005980</th>\n",
       "      <th>A005990</th>\n",
       "    </tr>\n",
       "  </thead>\n",
       "  <tbody>\n",
       "    <tr>\n",
       "      <th>2020-09-09</th>\n",
       "      <td>11000.0</td>\n",
       "      <td>671.0</td>\n",
       "      <td>7990.0</td>\n",
       "    </tr>\n",
       "    <tr>\n",
       "      <th>2020-09-10</th>\n",
       "      <td>11150.0</td>\n",
       "      <td>671.0</td>\n",
       "      <td>7960.0</td>\n",
       "    </tr>\n",
       "    <tr>\n",
       "      <th>2020-09-11</th>\n",
       "      <td>11050.0</td>\n",
       "      <td>671.0</td>\n",
       "      <td>8120.0</td>\n",
       "    </tr>\n",
       "  </tbody>\n",
       "</table>\n",
       "</div>"
      ],
      "text/plain": [
       "Symbol      A005960  A005980  A005990\n",
       "2020-09-09  11000.0    671.0   7990.0\n",
       "2020-09-10  11150.0    671.0   7960.0\n",
       "2020-09-11  11050.0    671.0   8120.0"
      ]
     },
     "execution_count": 8,
     "metadata": {},
     "output_type": "execute_result"
    }
   ],
   "source": [
    "my_df_2"
   ]
  },
  {
   "cell_type": "code",
   "execution_count": 9,
   "metadata": {
    "ExecuteTime": {
     "end_time": "2021-03-13T04:10:38.785550Z",
     "start_time": "2021-03-13T04:10:38.545785Z"
    },
    "colab": {
     "base_uri": "https://localhost:8080/",
     "height": 329
    },
    "id": "NDt6wce5zeg8",
    "outputId": "6bfd18f1-9549-4946-922c-4dd4760f2384"
   },
   "outputs": [],
   "source": [
    "# my_df_2 데이터 프레임의 bar 그래 그리고 title 넣기\n"
   ]
  },
  {
   "cell_type": "code",
   "execution_count": 10,
   "metadata": {
    "ExecuteTime": {
     "end_time": "2021-03-13T04:10:38.070253Z",
     "start_time": "2021-03-13T04:10:38.056268Z"
    },
    "colab": {
     "base_uri": "https://localhost:8080/",
     "height": 143
    },
    "executionInfo": {
     "elapsed": 262,
     "status": "ok",
     "timestamp": 1633319511754,
     "user": {
      "displayName": "경하김",
      "photoUrl": "https://lh3.googleusercontent.com/a/default-user=s64",
      "userId": "00010385631009285573"
     },
     "user_tz": -540
    },
    "id": "HhFwBN2hzeg5",
    "outputId": "e95d9753-4dba-4698-9872-12b51b214920"
   },
   "outputs": [
    {
     "ename": "SyntaxError",
     "evalue": "unexpected EOF while parsing (739052329.py, line 5)",
     "output_type": "error",
     "traceback": [
      "\u001b[0;36m  File \u001b[0;32m\"/tmp/ipykernel_9491/739052329.py\"\u001b[0;36m, line \u001b[0;32m5\u001b[0m\n\u001b[0;31m    trafic_data   # trafic_data 라는 DataFrame 생성\u001b[0m\n\u001b[0m                                               ^\u001b[0m\n\u001b[0;31mSyntaxError\u001b[0m\u001b[0;31m:\u001b[0m unexpected EOF while parsing\n"
     ]
    }
   ],
   "source": [
    "# 데이터 프레임 만들기\n",
    "# 다음과 같이 결과가 나오도록 데이터 만들기\n",
    "\n",
    "trafic_data = pd.DataFrame(  #코드 완성하기   )\n",
    "trafic_data   # trafic_data 라는 DataFrame 생성"
   ]
  },
  {
   "cell_type": "code",
   "execution_count": null,
   "metadata": {
    "ExecuteTime": {
     "end_time": "2021-03-13T04:10:38.070253Z",
     "start_time": "2021-03-13T04:10:38.056268Z"
    },
    "colab": {
     "base_uri": "https://localhost:8080/",
     "height": 143
    },
    "executionInfo": {
     "elapsed": 336,
     "status": "ok",
     "timestamp": 1633337709651,
     "user": {
      "displayName": "경하김",
      "photoUrl": "https://lh3.googleusercontent.com/a/default-user=s64",
      "userId": "00010385631009285573"
     },
     "user_tz": -540
    },
    "id": "AsARfoReghIS",
    "outputId": "8e8f5eb4-5c5f-4286-c017-c3ed589afa88"
   },
   "outputs": [],
   "source": [
    "trafic_data = pd.DataFrame(\n",
    "    [[9800,5500,7000],[10200,6600,6500],[7800,4500,8700]],\n",
    "    index=['10/22','10/23','10/24'],\n",
    "    columns=['원티드','사람인','중고나라'])\n",
    "trafic_data   # trafic_data 라는 DataFrame 생성"
   ]
  },
  {
   "cell_type": "code",
   "execution_count": null,
   "metadata": {
    "ExecuteTime": {
     "end_time": "2021-03-13T04:10:39.059279Z",
     "start_time": "2021-03-13T04:10:38.788545Z"
    },
    "colab": {
     "base_uri": "https://localhost:8080/",
     "height": 279
    },
    "id": "3Uqkp4H4zeg8",
    "outputId": "883138b8-224d-4a64-def3-da5deb0eb18b"
   },
   "outputs": [],
   "source": [
    "# 산점도 그래그리기\n",
    "trafic_data.plot(kind='scatter', grid=True, x='원티드', y='사람인');"
   ]
  },
  {
   "cell_type": "code",
   "execution_count": null,
   "metadata": {
    "ExecuteTime": {
     "end_time": "2021-03-13T04:10:39.709638Z",
     "start_time": "2021-03-13T04:10:39.061276Z"
    },
    "colab": {
     "base_uri": "https://localhost:8080/",
     "height": 256
    },
    "id": "xv0M55L2zeg8",
    "outputId": "563e927f-5aec-429b-a59c-0a55bb0f6d25"
   },
   "outputs": [],
   "source": [
    "trafic_data.plot(subplots=True);"
   ]
  },
  {
   "cell_type": "markdown",
   "metadata": {
    "id": "8E9WAm4nzeg9"
   },
   "source": [
    "### <연습문제>\n",
    "trafic_data에서  '중고나라'의 일자별 Bar 그래프를 그려보세요"
   ]
  },
  {
   "cell_type": "code",
   "execution_count": null,
   "metadata": {
    "ExecuteTime": {
     "end_time": "2021-03-06T17:53:16.603138Z",
     "start_time": "2021-03-06T17:53:16.495067Z"
    },
    "colab": {
     "base_uri": "https://localhost:8080/",
     "height": 786
    },
    "executionInfo": {
     "elapsed": 277,
     "status": "ok",
     "timestamp": 1633337818304,
     "user": {
      "displayName": "경하김",
      "photoUrl": "https://lh3.googleusercontent.com/a/default-user=s64",
      "userId": "00010385631009285573"
     },
     "user_tz": -540
    },
    "id": "H_vN5kGzzeg9",
    "outputId": "fce7d43c-b8ab-47c6-8858-e71f553c9b92"
   },
   "outputs": [],
   "source": [
    "#trafic_data.plot(kind='bar',title='중고나라 일자리');\n",
    "trafic_data['중고나라'].plot(kind='bar',grid =True, title='중고나라 일자리');"
   ]
  },
  {
   "cell_type": "markdown",
   "metadata": {
    "id": "jRcHYGHAzeg9"
   },
   "source": [
    "# seaborn의 내장 데이터 셋으로 데이터 분포 살펴보기"
   ]
  },
  {
   "cell_type": "markdown",
   "metadata": {
    "id": "EBfZBK3GXp9r"
   },
   "source": [
    "### 컬럼 설명  \n",
    "total_bill: 총 합계 요금표  \n",
    "tip: 팁  \n",
    "sex: 성별  \n",
    "smoker: 흡연자 여부  \n",
    "day: 요일  \n",
    "time: 식사 시간  \n",
    "size: 식사 인원  "
   ]
  },
  {
   "cell_type": "code",
   "execution_count": null,
   "metadata": {
    "ExecuteTime": {
     "end_time": "2021-03-13T04:10:40.489868Z",
     "start_time": "2021-03-13T04:10:39.710636Z"
    },
    "id": "nFGB-dnqzeg-"
   },
   "outputs": [],
   "source": [
    "# seaborn 임포트,  한글 글꼴 지정\n",
    "import seaborn as sns\n",
    "sns.set()\n",
    "plt.rc('font', family='NanumBarunGothic')"
   ]
  },
  {
   "cell_type": "code",
   "execution_count": null,
   "metadata": {
    "ExecuteTime": {
     "end_time": "2021-03-13T04:10:40.510848Z",
     "start_time": "2021-03-13T04:10:40.492866Z"
    },
    "id": "nVdyl-xuzeg-"
   },
   "outputs": [],
   "source": [
    " # 내장 데이터 셋 불러오기\n",
    " "
   ]
  },
  {
   "cell_type": "code",
   "execution_count": null,
   "metadata": {
    "ExecuteTime": {
     "end_time": "2021-03-13T04:10:40.530828Z",
     "start_time": "2021-03-13T04:10:40.511846Z"
    },
    "colab": {
     "base_uri": "https://localhost:8080/",
     "height": 206
    },
    "id": "P78WUEuozeg-",
    "outputId": "3c89ecc4-24f1-46df-83d5-3572b944ec1c"
   },
   "outputs": [],
   "source": [
    "tips.head()    # dataframe의 앞부분만 살펴보기"
   ]
  },
  {
   "cell_type": "code",
   "execution_count": null,
   "metadata": {
    "ExecuteTime": {
     "end_time": "2021-03-13T04:10:40.728634Z",
     "start_time": "2021-03-13T04:10:40.532826Z"
    },
    "colab": {
     "base_uri": "https://localhost:8080/",
     "height": 301
    },
    "id": "rQGW5zY8zeg-",
    "outputId": "1eedef55-f34c-4ad1-8de9-3b0e1b9588c0"
   },
   "outputs": [],
   "source": [
    "# 막대그래프\n"
   ]
  },
  {
   "cell_type": "code",
   "execution_count": null,
   "metadata": {
    "ExecuteTime": {
     "end_time": "2021-03-13T04:10:41.017350Z",
     "start_time": "2021-03-13T04:10:40.731631Z"
    },
    "colab": {
     "base_uri": "https://localhost:8080/",
     "height": 301
    },
    "id": "u0oo85vYzeg-",
    "outputId": "ee405916-f7d3-46f4-fb59-18ed782600f3"
   },
   "outputs": [],
   "source": [
    "# boxplot\n"
   ]
  },
  {
   "cell_type": "code",
   "execution_count": null,
   "metadata": {
    "ExecuteTime": {
     "end_time": "2021-03-13T04:10:41.424947Z",
     "start_time": "2021-03-13T04:10:41.020346Z"
    },
    "colab": {
     "base_uri": "https://localhost:8080/",
     "height": 301
    },
    "id": "kNwFYm-fzeg_",
    "outputId": "6a5c64d7-ca24-4074-c8dc-ffeba7e8df99"
   },
   "outputs": [],
   "source": [
    "#scatterplot() \n"
   ]
  },
  {
   "cell_type": "code",
   "execution_count": null,
   "metadata": {
    "ExecuteTime": {
     "end_time": "2021-03-13T04:10:42.604784Z",
     "start_time": "2021-03-13T04:10:41.429942Z"
    },
    "colab": {
     "base_uri": "https://localhost:8080/",
     "height": 459
    },
    "id": "sQveTjzvzeg_",
    "outputId": "0b73f131-54cf-4039-d9f3-87495d7b662d"
   },
   "outputs": [],
   "source": [
    "# scatter과 bar를 합치고 싶을 때에는 seaborn 의 jointplot 사용\n",
    "# 우선 data로 데이터를 주고, x축 y축에 표기할 데이터를 각각 쓴다.\n"
   ]
  },
  {
   "cell_type": "code",
   "execution_count": null,
   "metadata": {
    "id": "YJPynMplXp9x",
    "outputId": "35393d9e-60d8-44e2-f719-ef1f68831c7c"
   },
   "outputs": [],
   "source": []
  },
  {
   "cell_type": "code",
   "execution_count": null,
   "metadata": {
    "id": "qYUFpzoIXp9z",
    "outputId": "cc435e93-2296-48bd-fe8c-2ca847d49f16"
   },
   "outputs": [],
   "source": []
  },
  {
   "cell_type": "code",
   "execution_count": null,
   "metadata": {
    "ExecuteTime": {
     "end_time": "2021-03-13T04:10:42.840552Z",
     "start_time": "2021-03-13T04:10:42.606782Z"
    },
    "colab": {
     "base_uri": "https://localhost:8080/",
     "height": 301
    },
    "id": "3hlvxdorzeg_",
    "outputId": "e7408735-a5dd-4fbd-adf4-97d7aff81698"
   },
   "outputs": [],
   "source": []
  },
  {
   "cell_type": "code",
   "execution_count": null,
   "metadata": {
    "ExecuteTime": {
     "end_time": "2021-03-13T04:10:43.184216Z",
     "start_time": "2021-03-13T04:10:42.842549Z"
    },
    "colab": {
     "base_uri": "https://localhost:8080/",
     "height": 301
    },
    "id": "ZSHZ52Qpzeg_",
    "outputId": "6f3df1b2-ee93-4ee3-98c7-a815b09733a2"
   },
   "outputs": [],
   "source": [
    "#요일별, 성별 팀의 4분위 범위 확인 및 이상치(outlier) 확인"
   ]
  },
  {
   "cell_type": "code",
   "execution_count": null,
   "metadata": {
    "ExecuteTime": {
     "end_time": "2021-03-13T04:10:43.560842Z",
     "start_time": "2021-03-13T04:10:43.189209Z"
    },
    "colab": {
     "base_uri": "https://localhost:8080/",
     "height": 301
    },
    "id": "oj32tRZNzehA",
    "outputId": "0ab9a227-100c-4aa6-9787-dcf39b0679c3"
   },
   "outputs": [],
   "source": [
    "#violin plot\n"
   ]
  },
  {
   "cell_type": "code",
   "execution_count": null,
   "metadata": {
    "id": "aUzVzP5_Xp93",
    "outputId": "82e2425e-60c0-4178-c924-7b4bfe4437ea"
   },
   "outputs": [],
   "source": [
    "#sns.distplot() -> sns.displot()으로 버전업\n"
   ]
  },
  {
   "cell_type": "code",
   "execution_count": null,
   "metadata": {
    "ExecuteTime": {
     "end_time": "2021-03-13T04:10:43.997411Z",
     "start_time": "2021-03-13T04:10:43.563838Z"
    },
    "colab": {
     "base_uri": "https://localhost:8080/",
     "height": 390
    },
    "id": "CdplxYV8zehA",
    "outputId": "e7ce4ec9-560c-40fa-f727-dcfad9b00881"
   },
   "outputs": [],
   "source": [
    "#kde 옵션: 밀집도 그래프, rug 옵션: 데이터의 위치를 나타내는 선분 표시\n"
   ]
  },
  {
   "cell_type": "code",
   "execution_count": null,
   "metadata": {
    "id": "ho6v2hQwXp94",
    "outputId": "00390d6f-ea61-4c12-818a-43bef8ff5e1a"
   },
   "outputs": [],
   "source": [
    "#kde 옵션: 밀집도 그래프, rug 옵션: 데이터의 위치를 나타내는 선분 표시, bin : 분포 구분 갯수\n",
    "\n"
   ]
  },
  {
   "cell_type": "code",
   "execution_count": null,
   "metadata": {
    "id": "Zeaz5mEjXp95",
    "outputId": "34b5e639-6b84-4933-bba1-17c14083ffb0"
   },
   "outputs": [],
   "source": [
    "#pairplot은 각각 쌍의 그래프를 보여준다.\n"
   ]
  },
  {
   "cell_type": "code",
   "execution_count": null,
   "metadata": {
    "id": "l3vhEBaWXp95",
    "outputId": "00c4a982-28bf-46e6-e873-041582224a42"
   },
   "outputs": [],
   "source": [
    "#pairplot은 각각 쌍의 그래프를 보여준다.\n",
    "# hue = 'sex'의 상관관계도 볼 수 있음.\n"
   ]
  },
  {
   "cell_type": "markdown",
   "metadata": {
    "id": "hX5nVGWSzehA"
   },
   "source": [
    "### <연습문제 2>\n",
    "성별 별로, 팁을 준 횟수를 차트로 그려보세요"
   ]
  },
  {
   "cell_type": "code",
   "execution_count": null,
   "metadata": {
    "colab": {
     "base_uri": "https://localhost:8080/",
     "height": 301
    },
    "id": "-BdHXjos7HGY",
    "outputId": "9275882e-0588-4fb7-d268-ffc62beca078"
   },
   "outputs": [],
   "source": [
    "\n"
   ]
  },
  {
   "cell_type": "markdown",
   "metadata": {
    "id": "n9znPOGQXp97"
   },
   "source": [
    "### <연습문제 3>\n",
    "각 컬럼관의 상관관계를 보고, 시간에 따른 분포도 볼 수 있는 그래프를 그려보세요."
   ]
  },
  {
   "cell_type": "code",
   "execution_count": null,
   "metadata": {
    "id": "9Iu8-rSEzehB",
    "outputId": "7f43039b-601e-4cfd-e4b9-48d124362852"
   },
   "outputs": [],
   "source": []
  },
  {
   "cell_type": "markdown",
   "metadata": {
    "id": "2QanZUuhzehB"
   },
   "source": [
    " ### <연습문제4> \n",
    " 4분위 분포와 outlier(이상치)를 보려고 합니다. 인원별, 시간대별, 팁의 현황을 확인하는 그래프 그려보세요."
   ]
  },
  {
   "cell_type": "code",
   "execution_count": null,
   "metadata": {
    "id": "zz2gz7yWXp98",
    "outputId": "4ba82bd6-c670-4b6d-f62a-59235d86c511"
   },
   "outputs": [],
   "source": []
  },
  {
   "cell_type": "code",
   "execution_count": null,
   "metadata": {
    "id": "lqs7kDsbXp98",
    "outputId": "417ff15a-dd8d-4430-82a9-5ba85379b25b"
   },
   "outputs": [],
   "source": [
    "tips.head()"
   ]
  },
  {
   "cell_type": "markdown",
   "metadata": {
    "id": "JMkCFMYWXp99"
   },
   "source": [
    "### <연습문제5>\n",
    "컬럼별로 sns.heatmap()으로 상관관계를 보려고 합니다. 어떻게 해야하는지 문제를 해결를 해 보세요.\n",
    "명령은 다음과 같습니다."
   ]
  },
  {
   "cell_type": "code",
   "execution_count": null,
   "metadata": {
    "id": "T-W9JrOOXp9-",
    "outputId": "4b1f2c55-0892-481f-f81f-15dbaa3b5bf0"
   },
   "outputs": [],
   "source": [
    "# heatmap() 각 컬럼별로 상관계를 보기 위한 그래프\n",
    "corr = tips.corr() # 컬럼간 상관관계를 만들어 주는 함수\n",
    "plt.figure(figsize=(10,10))\n",
    "\n"
   ]
  },
  {
   "cell_type": "markdown",
   "metadata": {
    "id": "kiYVXs03Xp9_"
   },
   "source": [
    "### <연습문제 6>\n",
    "tips 테이블의 범주형 컬럼의 데이터를 숫자로 바꿔보세요."
   ]
  },
  {
   "cell_type": "code",
   "execution_count": null,
   "metadata": {
    "id": "bsswgAXMXp9_",
    "outputId": "e8966811-2ba3-411b-ac20-1aa71eb49f21"
   },
   "outputs": [],
   "source": [
    "tips.head()"
   ]
  },
  {
   "cell_type": "markdown",
   "metadata": {
    "id": "tQYGzqq4Xp9_"
   },
   "source": [
    "#### 적절한 함수 이용해서 해결하기"
   ]
  },
  {
   "cell_type": "code",
   "execution_count": null,
   "metadata": {
    "id": "XCvugUW_Xp-A",
    "outputId": "4c5b9f5e-818f-42e7-a300-ffb373836c90"
   },
   "outputs": [],
   "source": [
    "#'sex', 'smoker', 'day', 'time'\n",
    "tips['time'].value_counts()"
   ]
  },
  {
   "cell_type": "code",
   "execution_count": null,
   "metadata": {
    "id": "b23rZ19eXp-A"
   },
   "outputs": [],
   "source": []
  },
  {
   "cell_type": "code",
   "execution_count": null,
   "metadata": {
    "id": "0XSjpR1qXp-A"
   },
   "outputs": [],
   "source": []
  },
  {
   "cell_type": "code",
   "execution_count": null,
   "metadata": {
    "id": "CJmVEumIXp-C",
    "outputId": "3cd5d6e5-c1a1-4bf5-cc26-3e48e92cb880"
   },
   "outputs": [],
   "source": [
    "tips"
   ]
  },
  {
   "cell_type": "code",
   "execution_count": null,
   "metadata": {
    "id": "VyvXZEkQXp-C"
   },
   "outputs": [],
   "source": []
  }
 ],
 "metadata": {
  "colab": {
   "collapsed_sections": [],
   "name": "데이터_시각화_seaborn_실습.ipynb",
   "provenance": []
  },
  "kernelspec": {
   "display_name": "Python 3",
   "language": "python",
   "name": "python3"
  },
  "language_info": {
   "codemirror_mode": {
    "name": "ipython",
    "version": 3
   },
   "file_extension": ".py",
   "mimetype": "text/x-python",
   "name": "python",
   "nbconvert_exporter": "python",
   "pygments_lexer": "ipython3",
   "version": "3.8.0"
  },
  "toc": {
   "base_numbering": 1,
   "nav_menu": {
    "height": "144px",
    "width": "160px"
   },
   "number_sections": false,
   "sideBar": true,
   "skip_h1_title": false,
   "title_cell": "Table of Contents",
   "title_sidebar": "Contents",
   "toc_cell": false,
   "toc_position": {
    "height": "calc(100% - 180px)",
    "left": "10px",
    "top": "150px",
    "width": "384px"
   },
   "toc_section_display": true,
   "toc_window_display": true
  },
  "varInspector": {
   "cols": {
    "lenName": 16,
    "lenType": 16,
    "lenVar": 40
   },
   "kernels_config": {
    "python": {
     "delete_cmd_postfix": "",
     "delete_cmd_prefix": "del ",
     "library": "var_list.py",
     "varRefreshCmd": "print(var_dic_list())"
    },
    "r": {
     "delete_cmd_postfix": ") ",
     "delete_cmd_prefix": "rm(",
     "library": "var_list.r",
     "varRefreshCmd": "cat(var_dic_list()) "
    }
   },
   "types_to_exclude": [
    "module",
    "function",
    "builtin_function_or_method",
    "instance",
    "_Feature"
   ],
   "window_display": false
  }
 },
 "nbformat": 4,
 "nbformat_minor": 1
}
